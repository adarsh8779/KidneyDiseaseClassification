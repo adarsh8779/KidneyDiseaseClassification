{
 "cells": [
  {
   "cell_type": "code",
   "execution_count": 1,
   "id": "5a8d8a06-c08d-4d32-97d4-e9cbd0080383",
   "metadata": {},
   "outputs": [],
   "source": [
    "import pandas as pd\n",
    "df  = pd.read_csv(\"data/HealthCare  Mini- Project/kidney_disease.csv\")"
   ]
  },
  {
   "cell_type": "code",
   "execution_count": 2,
   "id": "d5130a19-661a-4c3d-a8b3-833ff661419c",
   "metadata": {},
   "outputs": [
    {
     "data": {
      "text/html": [
       "<div>\n",
       "<style scoped>\n",
       "    .dataframe tbody tr th:only-of-type {\n",
       "        vertical-align: middle;\n",
       "    }\n",
       "\n",
       "    .dataframe tbody tr th {\n",
       "        vertical-align: top;\n",
       "    }\n",
       "\n",
       "    .dataframe thead th {\n",
       "        text-align: right;\n",
       "    }\n",
       "</style>\n",
       "<table border=\"1\" class=\"dataframe\">\n",
       "  <thead>\n",
       "    <tr style=\"text-align: right;\">\n",
       "      <th></th>\n",
       "      <th>id</th>\n",
       "      <th>age</th>\n",
       "      <th>bp</th>\n",
       "      <th>sg</th>\n",
       "      <th>al</th>\n",
       "      <th>su</th>\n",
       "      <th>rbc</th>\n",
       "      <th>pc</th>\n",
       "      <th>pcc</th>\n",
       "      <th>ba</th>\n",
       "      <th>...</th>\n",
       "      <th>pcv</th>\n",
       "      <th>wc</th>\n",
       "      <th>rc</th>\n",
       "      <th>htn</th>\n",
       "      <th>dm</th>\n",
       "      <th>cad</th>\n",
       "      <th>appet</th>\n",
       "      <th>pe</th>\n",
       "      <th>ane</th>\n",
       "      <th>classification</th>\n",
       "    </tr>\n",
       "  </thead>\n",
       "  <tbody>\n",
       "    <tr>\n",
       "      <th>0</th>\n",
       "      <td>0</td>\n",
       "      <td>48.0</td>\n",
       "      <td>80.0</td>\n",
       "      <td>1.020</td>\n",
       "      <td>1.0</td>\n",
       "      <td>0.0</td>\n",
       "      <td>NaN</td>\n",
       "      <td>normal</td>\n",
       "      <td>notpresent</td>\n",
       "      <td>notpresent</td>\n",
       "      <td>...</td>\n",
       "      <td>44</td>\n",
       "      <td>7800</td>\n",
       "      <td>5.2</td>\n",
       "      <td>yes</td>\n",
       "      <td>yes</td>\n",
       "      <td>no</td>\n",
       "      <td>good</td>\n",
       "      <td>no</td>\n",
       "      <td>no</td>\n",
       "      <td>ckd</td>\n",
       "    </tr>\n",
       "    <tr>\n",
       "      <th>1</th>\n",
       "      <td>1</td>\n",
       "      <td>7.0</td>\n",
       "      <td>50.0</td>\n",
       "      <td>1.020</td>\n",
       "      <td>4.0</td>\n",
       "      <td>0.0</td>\n",
       "      <td>NaN</td>\n",
       "      <td>normal</td>\n",
       "      <td>notpresent</td>\n",
       "      <td>notpresent</td>\n",
       "      <td>...</td>\n",
       "      <td>38</td>\n",
       "      <td>6000</td>\n",
       "      <td>NaN</td>\n",
       "      <td>no</td>\n",
       "      <td>no</td>\n",
       "      <td>no</td>\n",
       "      <td>good</td>\n",
       "      <td>no</td>\n",
       "      <td>no</td>\n",
       "      <td>ckd</td>\n",
       "    </tr>\n",
       "    <tr>\n",
       "      <th>2</th>\n",
       "      <td>2</td>\n",
       "      <td>62.0</td>\n",
       "      <td>80.0</td>\n",
       "      <td>1.010</td>\n",
       "      <td>2.0</td>\n",
       "      <td>3.0</td>\n",
       "      <td>normal</td>\n",
       "      <td>normal</td>\n",
       "      <td>notpresent</td>\n",
       "      <td>notpresent</td>\n",
       "      <td>...</td>\n",
       "      <td>31</td>\n",
       "      <td>7500</td>\n",
       "      <td>NaN</td>\n",
       "      <td>no</td>\n",
       "      <td>yes</td>\n",
       "      <td>no</td>\n",
       "      <td>poor</td>\n",
       "      <td>no</td>\n",
       "      <td>yes</td>\n",
       "      <td>ckd</td>\n",
       "    </tr>\n",
       "    <tr>\n",
       "      <th>3</th>\n",
       "      <td>3</td>\n",
       "      <td>48.0</td>\n",
       "      <td>70.0</td>\n",
       "      <td>1.005</td>\n",
       "      <td>4.0</td>\n",
       "      <td>0.0</td>\n",
       "      <td>normal</td>\n",
       "      <td>abnormal</td>\n",
       "      <td>present</td>\n",
       "      <td>notpresent</td>\n",
       "      <td>...</td>\n",
       "      <td>32</td>\n",
       "      <td>6700</td>\n",
       "      <td>3.9</td>\n",
       "      <td>yes</td>\n",
       "      <td>no</td>\n",
       "      <td>no</td>\n",
       "      <td>poor</td>\n",
       "      <td>yes</td>\n",
       "      <td>yes</td>\n",
       "      <td>ckd</td>\n",
       "    </tr>\n",
       "    <tr>\n",
       "      <th>4</th>\n",
       "      <td>4</td>\n",
       "      <td>51.0</td>\n",
       "      <td>80.0</td>\n",
       "      <td>1.010</td>\n",
       "      <td>2.0</td>\n",
       "      <td>0.0</td>\n",
       "      <td>normal</td>\n",
       "      <td>normal</td>\n",
       "      <td>notpresent</td>\n",
       "      <td>notpresent</td>\n",
       "      <td>...</td>\n",
       "      <td>35</td>\n",
       "      <td>7300</td>\n",
       "      <td>4.6</td>\n",
       "      <td>no</td>\n",
       "      <td>no</td>\n",
       "      <td>no</td>\n",
       "      <td>good</td>\n",
       "      <td>no</td>\n",
       "      <td>no</td>\n",
       "      <td>ckd</td>\n",
       "    </tr>\n",
       "    <tr>\n",
       "      <th>...</th>\n",
       "      <td>...</td>\n",
       "      <td>...</td>\n",
       "      <td>...</td>\n",
       "      <td>...</td>\n",
       "      <td>...</td>\n",
       "      <td>...</td>\n",
       "      <td>...</td>\n",
       "      <td>...</td>\n",
       "      <td>...</td>\n",
       "      <td>...</td>\n",
       "      <td>...</td>\n",
       "      <td>...</td>\n",
       "      <td>...</td>\n",
       "      <td>...</td>\n",
       "      <td>...</td>\n",
       "      <td>...</td>\n",
       "      <td>...</td>\n",
       "      <td>...</td>\n",
       "      <td>...</td>\n",
       "      <td>...</td>\n",
       "      <td>...</td>\n",
       "    </tr>\n",
       "    <tr>\n",
       "      <th>395</th>\n",
       "      <td>395</td>\n",
       "      <td>55.0</td>\n",
       "      <td>80.0</td>\n",
       "      <td>1.020</td>\n",
       "      <td>0.0</td>\n",
       "      <td>0.0</td>\n",
       "      <td>normal</td>\n",
       "      <td>normal</td>\n",
       "      <td>notpresent</td>\n",
       "      <td>notpresent</td>\n",
       "      <td>...</td>\n",
       "      <td>47</td>\n",
       "      <td>6700</td>\n",
       "      <td>4.9</td>\n",
       "      <td>no</td>\n",
       "      <td>no</td>\n",
       "      <td>no</td>\n",
       "      <td>good</td>\n",
       "      <td>no</td>\n",
       "      <td>no</td>\n",
       "      <td>notckd</td>\n",
       "    </tr>\n",
       "    <tr>\n",
       "      <th>396</th>\n",
       "      <td>396</td>\n",
       "      <td>42.0</td>\n",
       "      <td>70.0</td>\n",
       "      <td>1.025</td>\n",
       "      <td>0.0</td>\n",
       "      <td>0.0</td>\n",
       "      <td>normal</td>\n",
       "      <td>normal</td>\n",
       "      <td>notpresent</td>\n",
       "      <td>notpresent</td>\n",
       "      <td>...</td>\n",
       "      <td>54</td>\n",
       "      <td>7800</td>\n",
       "      <td>6.2</td>\n",
       "      <td>no</td>\n",
       "      <td>no</td>\n",
       "      <td>no</td>\n",
       "      <td>good</td>\n",
       "      <td>no</td>\n",
       "      <td>no</td>\n",
       "      <td>notckd</td>\n",
       "    </tr>\n",
       "    <tr>\n",
       "      <th>397</th>\n",
       "      <td>397</td>\n",
       "      <td>12.0</td>\n",
       "      <td>80.0</td>\n",
       "      <td>1.020</td>\n",
       "      <td>0.0</td>\n",
       "      <td>0.0</td>\n",
       "      <td>normal</td>\n",
       "      <td>normal</td>\n",
       "      <td>notpresent</td>\n",
       "      <td>notpresent</td>\n",
       "      <td>...</td>\n",
       "      <td>49</td>\n",
       "      <td>6600</td>\n",
       "      <td>5.4</td>\n",
       "      <td>no</td>\n",
       "      <td>no</td>\n",
       "      <td>no</td>\n",
       "      <td>good</td>\n",
       "      <td>no</td>\n",
       "      <td>no</td>\n",
       "      <td>notckd</td>\n",
       "    </tr>\n",
       "    <tr>\n",
       "      <th>398</th>\n",
       "      <td>398</td>\n",
       "      <td>17.0</td>\n",
       "      <td>60.0</td>\n",
       "      <td>1.025</td>\n",
       "      <td>0.0</td>\n",
       "      <td>0.0</td>\n",
       "      <td>normal</td>\n",
       "      <td>normal</td>\n",
       "      <td>notpresent</td>\n",
       "      <td>notpresent</td>\n",
       "      <td>...</td>\n",
       "      <td>51</td>\n",
       "      <td>7200</td>\n",
       "      <td>5.9</td>\n",
       "      <td>no</td>\n",
       "      <td>no</td>\n",
       "      <td>no</td>\n",
       "      <td>good</td>\n",
       "      <td>no</td>\n",
       "      <td>no</td>\n",
       "      <td>notckd</td>\n",
       "    </tr>\n",
       "    <tr>\n",
       "      <th>399</th>\n",
       "      <td>399</td>\n",
       "      <td>58.0</td>\n",
       "      <td>80.0</td>\n",
       "      <td>1.025</td>\n",
       "      <td>0.0</td>\n",
       "      <td>0.0</td>\n",
       "      <td>normal</td>\n",
       "      <td>normal</td>\n",
       "      <td>notpresent</td>\n",
       "      <td>notpresent</td>\n",
       "      <td>...</td>\n",
       "      <td>53</td>\n",
       "      <td>6800</td>\n",
       "      <td>6.1</td>\n",
       "      <td>no</td>\n",
       "      <td>no</td>\n",
       "      <td>no</td>\n",
       "      <td>good</td>\n",
       "      <td>no</td>\n",
       "      <td>no</td>\n",
       "      <td>notckd</td>\n",
       "    </tr>\n",
       "  </tbody>\n",
       "</table>\n",
       "<p>400 rows × 26 columns</p>\n",
       "</div>"
      ],
      "text/plain": [
       "      id   age    bp     sg   al   su     rbc        pc         pcc  \\\n",
       "0      0  48.0  80.0  1.020  1.0  0.0     NaN    normal  notpresent   \n",
       "1      1   7.0  50.0  1.020  4.0  0.0     NaN    normal  notpresent   \n",
       "2      2  62.0  80.0  1.010  2.0  3.0  normal    normal  notpresent   \n",
       "3      3  48.0  70.0  1.005  4.0  0.0  normal  abnormal     present   \n",
       "4      4  51.0  80.0  1.010  2.0  0.0  normal    normal  notpresent   \n",
       "..   ...   ...   ...    ...  ...  ...     ...       ...         ...   \n",
       "395  395  55.0  80.0  1.020  0.0  0.0  normal    normal  notpresent   \n",
       "396  396  42.0  70.0  1.025  0.0  0.0  normal    normal  notpresent   \n",
       "397  397  12.0  80.0  1.020  0.0  0.0  normal    normal  notpresent   \n",
       "398  398  17.0  60.0  1.025  0.0  0.0  normal    normal  notpresent   \n",
       "399  399  58.0  80.0  1.025  0.0  0.0  normal    normal  notpresent   \n",
       "\n",
       "             ba  ...  pcv    wc   rc  htn   dm  cad appet   pe  ane  \\\n",
       "0    notpresent  ...   44  7800  5.2  yes  yes   no  good   no   no   \n",
       "1    notpresent  ...   38  6000  NaN   no   no   no  good   no   no   \n",
       "2    notpresent  ...   31  7500  NaN   no  yes   no  poor   no  yes   \n",
       "3    notpresent  ...   32  6700  3.9  yes   no   no  poor  yes  yes   \n",
       "4    notpresent  ...   35  7300  4.6   no   no   no  good   no   no   \n",
       "..          ...  ...  ...   ...  ...  ...  ...  ...   ...  ...  ...   \n",
       "395  notpresent  ...   47  6700  4.9   no   no   no  good   no   no   \n",
       "396  notpresent  ...   54  7800  6.2   no   no   no  good   no   no   \n",
       "397  notpresent  ...   49  6600  5.4   no   no   no  good   no   no   \n",
       "398  notpresent  ...   51  7200  5.9   no   no   no  good   no   no   \n",
       "399  notpresent  ...   53  6800  6.1   no   no   no  good   no   no   \n",
       "\n",
       "    classification  \n",
       "0              ckd  \n",
       "1              ckd  \n",
       "2              ckd  \n",
       "3              ckd  \n",
       "4              ckd  \n",
       "..             ...  \n",
       "395         notckd  \n",
       "396         notckd  \n",
       "397         notckd  \n",
       "398         notckd  \n",
       "399         notckd  \n",
       "\n",
       "[400 rows x 26 columns]"
      ]
     },
     "execution_count": 2,
     "metadata": {},
     "output_type": "execute_result"
    }
   ],
   "source": [
    "df"
   ]
  },
  {
   "cell_type": "code",
   "execution_count": 3,
   "id": "fe5a14b6-0718-422b-8fb0-16ab35a59989",
   "metadata": {},
   "outputs": [
    {
     "data": {
      "text/html": [
       "<div>\n",
       "<style scoped>\n",
       "    .dataframe tbody tr th:only-of-type {\n",
       "        vertical-align: middle;\n",
       "    }\n",
       "\n",
       "    .dataframe tbody tr th {\n",
       "        vertical-align: top;\n",
       "    }\n",
       "\n",
       "    .dataframe thead th {\n",
       "        text-align: right;\n",
       "    }\n",
       "</style>\n",
       "<table border=\"1\" class=\"dataframe\">\n",
       "  <thead>\n",
       "    <tr style=\"text-align: right;\">\n",
       "      <th></th>\n",
       "      <th>id</th>\n",
       "      <th>age</th>\n",
       "      <th>bp</th>\n",
       "      <th>sg</th>\n",
       "      <th>al</th>\n",
       "      <th>su</th>\n",
       "      <th>bgr</th>\n",
       "      <th>bu</th>\n",
       "      <th>sc</th>\n",
       "      <th>sod</th>\n",
       "      <th>pot</th>\n",
       "      <th>hemo</th>\n",
       "    </tr>\n",
       "  </thead>\n",
       "  <tbody>\n",
       "    <tr>\n",
       "      <th>count</th>\n",
       "      <td>400.000000</td>\n",
       "      <td>391.000000</td>\n",
       "      <td>388.000000</td>\n",
       "      <td>353.000000</td>\n",
       "      <td>354.000000</td>\n",
       "      <td>351.000000</td>\n",
       "      <td>356.000000</td>\n",
       "      <td>381.000000</td>\n",
       "      <td>383.000000</td>\n",
       "      <td>313.000000</td>\n",
       "      <td>312.000000</td>\n",
       "      <td>348.000000</td>\n",
       "    </tr>\n",
       "    <tr>\n",
       "      <th>mean</th>\n",
       "      <td>199.500000</td>\n",
       "      <td>51.483376</td>\n",
       "      <td>76.469072</td>\n",
       "      <td>1.017408</td>\n",
       "      <td>1.016949</td>\n",
       "      <td>0.450142</td>\n",
       "      <td>148.036517</td>\n",
       "      <td>57.425722</td>\n",
       "      <td>3.072454</td>\n",
       "      <td>137.528754</td>\n",
       "      <td>4.627244</td>\n",
       "      <td>12.526437</td>\n",
       "    </tr>\n",
       "    <tr>\n",
       "      <th>std</th>\n",
       "      <td>115.614301</td>\n",
       "      <td>17.169714</td>\n",
       "      <td>13.683637</td>\n",
       "      <td>0.005717</td>\n",
       "      <td>1.352679</td>\n",
       "      <td>1.099191</td>\n",
       "      <td>79.281714</td>\n",
       "      <td>50.503006</td>\n",
       "      <td>5.741126</td>\n",
       "      <td>10.408752</td>\n",
       "      <td>3.193904</td>\n",
       "      <td>2.912587</td>\n",
       "    </tr>\n",
       "    <tr>\n",
       "      <th>min</th>\n",
       "      <td>0.000000</td>\n",
       "      <td>2.000000</td>\n",
       "      <td>50.000000</td>\n",
       "      <td>1.005000</td>\n",
       "      <td>0.000000</td>\n",
       "      <td>0.000000</td>\n",
       "      <td>22.000000</td>\n",
       "      <td>1.500000</td>\n",
       "      <td>0.400000</td>\n",
       "      <td>4.500000</td>\n",
       "      <td>2.500000</td>\n",
       "      <td>3.100000</td>\n",
       "    </tr>\n",
       "    <tr>\n",
       "      <th>25%</th>\n",
       "      <td>99.750000</td>\n",
       "      <td>42.000000</td>\n",
       "      <td>70.000000</td>\n",
       "      <td>1.010000</td>\n",
       "      <td>0.000000</td>\n",
       "      <td>0.000000</td>\n",
       "      <td>99.000000</td>\n",
       "      <td>27.000000</td>\n",
       "      <td>0.900000</td>\n",
       "      <td>135.000000</td>\n",
       "      <td>3.800000</td>\n",
       "      <td>10.300000</td>\n",
       "    </tr>\n",
       "    <tr>\n",
       "      <th>50%</th>\n",
       "      <td>199.500000</td>\n",
       "      <td>55.000000</td>\n",
       "      <td>80.000000</td>\n",
       "      <td>1.020000</td>\n",
       "      <td>0.000000</td>\n",
       "      <td>0.000000</td>\n",
       "      <td>121.000000</td>\n",
       "      <td>42.000000</td>\n",
       "      <td>1.300000</td>\n",
       "      <td>138.000000</td>\n",
       "      <td>4.400000</td>\n",
       "      <td>12.650000</td>\n",
       "    </tr>\n",
       "    <tr>\n",
       "      <th>75%</th>\n",
       "      <td>299.250000</td>\n",
       "      <td>64.500000</td>\n",
       "      <td>80.000000</td>\n",
       "      <td>1.020000</td>\n",
       "      <td>2.000000</td>\n",
       "      <td>0.000000</td>\n",
       "      <td>163.000000</td>\n",
       "      <td>66.000000</td>\n",
       "      <td>2.800000</td>\n",
       "      <td>142.000000</td>\n",
       "      <td>4.900000</td>\n",
       "      <td>15.000000</td>\n",
       "    </tr>\n",
       "    <tr>\n",
       "      <th>max</th>\n",
       "      <td>399.000000</td>\n",
       "      <td>90.000000</td>\n",
       "      <td>180.000000</td>\n",
       "      <td>1.025000</td>\n",
       "      <td>5.000000</td>\n",
       "      <td>5.000000</td>\n",
       "      <td>490.000000</td>\n",
       "      <td>391.000000</td>\n",
       "      <td>76.000000</td>\n",
       "      <td>163.000000</td>\n",
       "      <td>47.000000</td>\n",
       "      <td>17.800000</td>\n",
       "    </tr>\n",
       "  </tbody>\n",
       "</table>\n",
       "</div>"
      ],
      "text/plain": [
       "               id         age          bp          sg          al          su  \\\n",
       "count  400.000000  391.000000  388.000000  353.000000  354.000000  351.000000   \n",
       "mean   199.500000   51.483376   76.469072    1.017408    1.016949    0.450142   \n",
       "std    115.614301   17.169714   13.683637    0.005717    1.352679    1.099191   \n",
       "min      0.000000    2.000000   50.000000    1.005000    0.000000    0.000000   \n",
       "25%     99.750000   42.000000   70.000000    1.010000    0.000000    0.000000   \n",
       "50%    199.500000   55.000000   80.000000    1.020000    0.000000    0.000000   \n",
       "75%    299.250000   64.500000   80.000000    1.020000    2.000000    0.000000   \n",
       "max    399.000000   90.000000  180.000000    1.025000    5.000000    5.000000   \n",
       "\n",
       "              bgr          bu          sc         sod         pot        hemo  \n",
       "count  356.000000  381.000000  383.000000  313.000000  312.000000  348.000000  \n",
       "mean   148.036517   57.425722    3.072454  137.528754    4.627244   12.526437  \n",
       "std     79.281714   50.503006    5.741126   10.408752    3.193904    2.912587  \n",
       "min     22.000000    1.500000    0.400000    4.500000    2.500000    3.100000  \n",
       "25%     99.000000   27.000000    0.900000  135.000000    3.800000   10.300000  \n",
       "50%    121.000000   42.000000    1.300000  138.000000    4.400000   12.650000  \n",
       "75%    163.000000   66.000000    2.800000  142.000000    4.900000   15.000000  \n",
       "max    490.000000  391.000000   76.000000  163.000000   47.000000   17.800000  "
      ]
     },
     "execution_count": 3,
     "metadata": {},
     "output_type": "execute_result"
    }
   ],
   "source": [
    "df.describe()"
   ]
  },
  {
   "cell_type": "code",
   "execution_count": 4,
   "id": "c4cfa053-199f-4e3b-81e2-2be599fc031b",
   "metadata": {},
   "outputs": [
    {
     "data": {
      "text/plain": [
       "Index(['id', 'age', 'bp', 'sg', 'al', 'su', 'rbc', 'pc', 'pcc', 'ba', 'bgr',\n",
       "       'bu', 'sc', 'sod', 'pot', 'hemo', 'pcv', 'wc', 'rc', 'htn', 'dm', 'cad',\n",
       "       'appet', 'pe', 'ane', 'classification'],\n",
       "      dtype='object')"
      ]
     },
     "execution_count": 4,
     "metadata": {},
     "output_type": "execute_result"
    }
   ],
   "source": [
    "df.columns"
   ]
  },
  {
   "cell_type": "code",
   "execution_count": 5,
   "id": "5966aff9-04a3-4520-893d-86f54b2869a6",
   "metadata": {},
   "outputs": [
    {
     "data": {
      "text/html": [
       "<div>\n",
       "<style scoped>\n",
       "    .dataframe tbody tr th:only-of-type {\n",
       "        vertical-align: middle;\n",
       "    }\n",
       "\n",
       "    .dataframe tbody tr th {\n",
       "        vertical-align: top;\n",
       "    }\n",
       "\n",
       "    .dataframe thead th {\n",
       "        text-align: right;\n",
       "    }\n",
       "</style>\n",
       "<table border=\"1\" class=\"dataframe\">\n",
       "  <thead>\n",
       "    <tr style=\"text-align: right;\">\n",
       "      <th></th>\n",
       "      <th>id</th>\n",
       "      <th>age</th>\n",
       "      <th>bp</th>\n",
       "      <th>sg</th>\n",
       "      <th>al</th>\n",
       "      <th>su</th>\n",
       "      <th>rbc</th>\n",
       "      <th>pc</th>\n",
       "      <th>pcc</th>\n",
       "      <th>ba</th>\n",
       "      <th>...</th>\n",
       "      <th>pcv</th>\n",
       "      <th>wc</th>\n",
       "      <th>rc</th>\n",
       "      <th>htn</th>\n",
       "      <th>dm</th>\n",
       "      <th>cad</th>\n",
       "      <th>appet</th>\n",
       "      <th>pe</th>\n",
       "      <th>ane</th>\n",
       "      <th>classification</th>\n",
       "    </tr>\n",
       "  </thead>\n",
       "  <tbody>\n",
       "    <tr>\n",
       "      <th>0</th>\n",
       "      <td>False</td>\n",
       "      <td>False</td>\n",
       "      <td>False</td>\n",
       "      <td>False</td>\n",
       "      <td>False</td>\n",
       "      <td>False</td>\n",
       "      <td>True</td>\n",
       "      <td>False</td>\n",
       "      <td>False</td>\n",
       "      <td>False</td>\n",
       "      <td>...</td>\n",
       "      <td>False</td>\n",
       "      <td>False</td>\n",
       "      <td>False</td>\n",
       "      <td>False</td>\n",
       "      <td>False</td>\n",
       "      <td>False</td>\n",
       "      <td>False</td>\n",
       "      <td>False</td>\n",
       "      <td>False</td>\n",
       "      <td>False</td>\n",
       "    </tr>\n",
       "    <tr>\n",
       "      <th>1</th>\n",
       "      <td>False</td>\n",
       "      <td>False</td>\n",
       "      <td>False</td>\n",
       "      <td>False</td>\n",
       "      <td>False</td>\n",
       "      <td>False</td>\n",
       "      <td>True</td>\n",
       "      <td>False</td>\n",
       "      <td>False</td>\n",
       "      <td>False</td>\n",
       "      <td>...</td>\n",
       "      <td>False</td>\n",
       "      <td>False</td>\n",
       "      <td>True</td>\n",
       "      <td>False</td>\n",
       "      <td>False</td>\n",
       "      <td>False</td>\n",
       "      <td>False</td>\n",
       "      <td>False</td>\n",
       "      <td>False</td>\n",
       "      <td>False</td>\n",
       "    </tr>\n",
       "    <tr>\n",
       "      <th>2</th>\n",
       "      <td>False</td>\n",
       "      <td>False</td>\n",
       "      <td>False</td>\n",
       "      <td>False</td>\n",
       "      <td>False</td>\n",
       "      <td>False</td>\n",
       "      <td>False</td>\n",
       "      <td>False</td>\n",
       "      <td>False</td>\n",
       "      <td>False</td>\n",
       "      <td>...</td>\n",
       "      <td>False</td>\n",
       "      <td>False</td>\n",
       "      <td>True</td>\n",
       "      <td>False</td>\n",
       "      <td>False</td>\n",
       "      <td>False</td>\n",
       "      <td>False</td>\n",
       "      <td>False</td>\n",
       "      <td>False</td>\n",
       "      <td>False</td>\n",
       "    </tr>\n",
       "    <tr>\n",
       "      <th>3</th>\n",
       "      <td>False</td>\n",
       "      <td>False</td>\n",
       "      <td>False</td>\n",
       "      <td>False</td>\n",
       "      <td>False</td>\n",
       "      <td>False</td>\n",
       "      <td>False</td>\n",
       "      <td>False</td>\n",
       "      <td>False</td>\n",
       "      <td>False</td>\n",
       "      <td>...</td>\n",
       "      <td>False</td>\n",
       "      <td>False</td>\n",
       "      <td>False</td>\n",
       "      <td>False</td>\n",
       "      <td>False</td>\n",
       "      <td>False</td>\n",
       "      <td>False</td>\n",
       "      <td>False</td>\n",
       "      <td>False</td>\n",
       "      <td>False</td>\n",
       "    </tr>\n",
       "    <tr>\n",
       "      <th>4</th>\n",
       "      <td>False</td>\n",
       "      <td>False</td>\n",
       "      <td>False</td>\n",
       "      <td>False</td>\n",
       "      <td>False</td>\n",
       "      <td>False</td>\n",
       "      <td>False</td>\n",
       "      <td>False</td>\n",
       "      <td>False</td>\n",
       "      <td>False</td>\n",
       "      <td>...</td>\n",
       "      <td>False</td>\n",
       "      <td>False</td>\n",
       "      <td>False</td>\n",
       "      <td>False</td>\n",
       "      <td>False</td>\n",
       "      <td>False</td>\n",
       "      <td>False</td>\n",
       "      <td>False</td>\n",
       "      <td>False</td>\n",
       "      <td>False</td>\n",
       "    </tr>\n",
       "    <tr>\n",
       "      <th>...</th>\n",
       "      <td>...</td>\n",
       "      <td>...</td>\n",
       "      <td>...</td>\n",
       "      <td>...</td>\n",
       "      <td>...</td>\n",
       "      <td>...</td>\n",
       "      <td>...</td>\n",
       "      <td>...</td>\n",
       "      <td>...</td>\n",
       "      <td>...</td>\n",
       "      <td>...</td>\n",
       "      <td>...</td>\n",
       "      <td>...</td>\n",
       "      <td>...</td>\n",
       "      <td>...</td>\n",
       "      <td>...</td>\n",
       "      <td>...</td>\n",
       "      <td>...</td>\n",
       "      <td>...</td>\n",
       "      <td>...</td>\n",
       "      <td>...</td>\n",
       "    </tr>\n",
       "    <tr>\n",
       "      <th>395</th>\n",
       "      <td>False</td>\n",
       "      <td>False</td>\n",
       "      <td>False</td>\n",
       "      <td>False</td>\n",
       "      <td>False</td>\n",
       "      <td>False</td>\n",
       "      <td>False</td>\n",
       "      <td>False</td>\n",
       "      <td>False</td>\n",
       "      <td>False</td>\n",
       "      <td>...</td>\n",
       "      <td>False</td>\n",
       "      <td>False</td>\n",
       "      <td>False</td>\n",
       "      <td>False</td>\n",
       "      <td>False</td>\n",
       "      <td>False</td>\n",
       "      <td>False</td>\n",
       "      <td>False</td>\n",
       "      <td>False</td>\n",
       "      <td>False</td>\n",
       "    </tr>\n",
       "    <tr>\n",
       "      <th>396</th>\n",
       "      <td>False</td>\n",
       "      <td>False</td>\n",
       "      <td>False</td>\n",
       "      <td>False</td>\n",
       "      <td>False</td>\n",
       "      <td>False</td>\n",
       "      <td>False</td>\n",
       "      <td>False</td>\n",
       "      <td>False</td>\n",
       "      <td>False</td>\n",
       "      <td>...</td>\n",
       "      <td>False</td>\n",
       "      <td>False</td>\n",
       "      <td>False</td>\n",
       "      <td>False</td>\n",
       "      <td>False</td>\n",
       "      <td>False</td>\n",
       "      <td>False</td>\n",
       "      <td>False</td>\n",
       "      <td>False</td>\n",
       "      <td>False</td>\n",
       "    </tr>\n",
       "    <tr>\n",
       "      <th>397</th>\n",
       "      <td>False</td>\n",
       "      <td>False</td>\n",
       "      <td>False</td>\n",
       "      <td>False</td>\n",
       "      <td>False</td>\n",
       "      <td>False</td>\n",
       "      <td>False</td>\n",
       "      <td>False</td>\n",
       "      <td>False</td>\n",
       "      <td>False</td>\n",
       "      <td>...</td>\n",
       "      <td>False</td>\n",
       "      <td>False</td>\n",
       "      <td>False</td>\n",
       "      <td>False</td>\n",
       "      <td>False</td>\n",
       "      <td>False</td>\n",
       "      <td>False</td>\n",
       "      <td>False</td>\n",
       "      <td>False</td>\n",
       "      <td>False</td>\n",
       "    </tr>\n",
       "    <tr>\n",
       "      <th>398</th>\n",
       "      <td>False</td>\n",
       "      <td>False</td>\n",
       "      <td>False</td>\n",
       "      <td>False</td>\n",
       "      <td>False</td>\n",
       "      <td>False</td>\n",
       "      <td>False</td>\n",
       "      <td>False</td>\n",
       "      <td>False</td>\n",
       "      <td>False</td>\n",
       "      <td>...</td>\n",
       "      <td>False</td>\n",
       "      <td>False</td>\n",
       "      <td>False</td>\n",
       "      <td>False</td>\n",
       "      <td>False</td>\n",
       "      <td>False</td>\n",
       "      <td>False</td>\n",
       "      <td>False</td>\n",
       "      <td>False</td>\n",
       "      <td>False</td>\n",
       "    </tr>\n",
       "    <tr>\n",
       "      <th>399</th>\n",
       "      <td>False</td>\n",
       "      <td>False</td>\n",
       "      <td>False</td>\n",
       "      <td>False</td>\n",
       "      <td>False</td>\n",
       "      <td>False</td>\n",
       "      <td>False</td>\n",
       "      <td>False</td>\n",
       "      <td>False</td>\n",
       "      <td>False</td>\n",
       "      <td>...</td>\n",
       "      <td>False</td>\n",
       "      <td>False</td>\n",
       "      <td>False</td>\n",
       "      <td>False</td>\n",
       "      <td>False</td>\n",
       "      <td>False</td>\n",
       "      <td>False</td>\n",
       "      <td>False</td>\n",
       "      <td>False</td>\n",
       "      <td>False</td>\n",
       "    </tr>\n",
       "  </tbody>\n",
       "</table>\n",
       "<p>400 rows × 26 columns</p>\n",
       "</div>"
      ],
      "text/plain": [
       "        id    age     bp     sg     al     su    rbc     pc    pcc     ba  \\\n",
       "0    False  False  False  False  False  False   True  False  False  False   \n",
       "1    False  False  False  False  False  False   True  False  False  False   \n",
       "2    False  False  False  False  False  False  False  False  False  False   \n",
       "3    False  False  False  False  False  False  False  False  False  False   \n",
       "4    False  False  False  False  False  False  False  False  False  False   \n",
       "..     ...    ...    ...    ...    ...    ...    ...    ...    ...    ...   \n",
       "395  False  False  False  False  False  False  False  False  False  False   \n",
       "396  False  False  False  False  False  False  False  False  False  False   \n",
       "397  False  False  False  False  False  False  False  False  False  False   \n",
       "398  False  False  False  False  False  False  False  False  False  False   \n",
       "399  False  False  False  False  False  False  False  False  False  False   \n",
       "\n",
       "     ...    pcv     wc     rc    htn     dm    cad  appet     pe    ane  \\\n",
       "0    ...  False  False  False  False  False  False  False  False  False   \n",
       "1    ...  False  False   True  False  False  False  False  False  False   \n",
       "2    ...  False  False   True  False  False  False  False  False  False   \n",
       "3    ...  False  False  False  False  False  False  False  False  False   \n",
       "4    ...  False  False  False  False  False  False  False  False  False   \n",
       "..   ...    ...    ...    ...    ...    ...    ...    ...    ...    ...   \n",
       "395  ...  False  False  False  False  False  False  False  False  False   \n",
       "396  ...  False  False  False  False  False  False  False  False  False   \n",
       "397  ...  False  False  False  False  False  False  False  False  False   \n",
       "398  ...  False  False  False  False  False  False  False  False  False   \n",
       "399  ...  False  False  False  False  False  False  False  False  False   \n",
       "\n",
       "     classification  \n",
       "0             False  \n",
       "1             False  \n",
       "2             False  \n",
       "3             False  \n",
       "4             False  \n",
       "..              ...  \n",
       "395           False  \n",
       "396           False  \n",
       "397           False  \n",
       "398           False  \n",
       "399           False  \n",
       "\n",
       "[400 rows x 26 columns]"
      ]
     },
     "execution_count": 5,
     "metadata": {},
     "output_type": "execute_result"
    }
   ],
   "source": [
    "df.isna()"
   ]
  },
  {
   "cell_type": "code",
   "execution_count": 6,
   "id": "5efd468c-38fb-4171-b577-eed22678ca61",
   "metadata": {},
   "outputs": [
    {
     "data": {
      "text/plain": [
       "id                  0\n",
       "age                 9\n",
       "bp                 12\n",
       "sg                 47\n",
       "al                 46\n",
       "su                 49\n",
       "rbc               152\n",
       "pc                 65\n",
       "pcc                 4\n",
       "ba                  4\n",
       "bgr                44\n",
       "bu                 19\n",
       "sc                 17\n",
       "sod                87\n",
       "pot                88\n",
       "hemo               52\n",
       "pcv                70\n",
       "wc                105\n",
       "rc                130\n",
       "htn                 2\n",
       "dm                  2\n",
       "cad                 2\n",
       "appet               1\n",
       "pe                  1\n",
       "ane                 1\n",
       "classification      0\n",
       "dtype: int64"
      ]
     },
     "execution_count": 6,
     "metadata": {},
     "output_type": "execute_result"
    }
   ],
   "source": [
    "df.isna().sum()"
   ]
  },
  {
   "cell_type": "markdown",
   "id": "58f7beb0-7b6d-4267-8277-ffcd1c7f1400",
   "metadata": {},
   "source": [
    "### : Age of the patient in years (e.g. 35, 42, 67, etc.)"
   ]
  },
  {
   "cell_type": "code",
   "execution_count": 7,
   "id": "76adfc45-ae68-40d7-9f05-ef577e666d43",
   "metadata": {},
   "outputs": [
    {
     "data": {
      "text/plain": [
       "age\n",
       "60.0    19\n",
       "65.0    17\n",
       "48.0    12\n",
       "55.0    12\n",
       "50.0    12\n",
       "        ..\n",
       "83.0     1\n",
       "27.0     1\n",
       "14.0     1\n",
       "81.0     1\n",
       "79.0     1\n",
       "Name: count, Length: 76, dtype: int64"
      ]
     },
     "execution_count": 7,
     "metadata": {},
     "output_type": "execute_result"
    }
   ],
   "source": [
    "df['age'].value_counts()"
   ]
  },
  {
   "cell_type": "code",
   "execution_count": 8,
   "id": "9faacc0a-bab2-42f7-8671-a0d886ff495c",
   "metadata": {},
   "outputs": [
    {
     "data": {
      "text/plain": [
       "51.48337595907928"
      ]
     },
     "execution_count": 8,
     "metadata": {},
     "output_type": "execute_result"
    }
   ],
   "source": [
    "df['age'].mean()"
   ]
  },
  {
   "cell_type": "code",
   "execution_count": 9,
   "id": "15aea716-8ebd-4513-a7ad-b39ee0fd9ba1",
   "metadata": {},
   "outputs": [
    {
     "data": {
      "text/plain": [
       "55.0"
      ]
     },
     "execution_count": 9,
     "metadata": {},
     "output_type": "execute_result"
    }
   ],
   "source": [
    "df['age'].median()"
   ]
  },
  {
   "cell_type": "code",
   "execution_count": 10,
   "id": "33c317b7-d612-414e-9f75-357bccb3fa42",
   "metadata": {},
   "outputs": [],
   "source": [
    "df['age'].fillna(df['age'].mean(),inplace = True)"
   ]
  },
  {
   "cell_type": "code",
   "execution_count": 11,
   "id": "c2b1914d-7ec2-42a6-ac0b-4a7b6d22fea1",
   "metadata": {},
   "outputs": [
    {
     "data": {
      "text/plain": [
       "0"
      ]
     },
     "execution_count": 11,
     "metadata": {},
     "output_type": "execute_result"
    }
   ],
   "source": [
    "df['age'].isna().sum()"
   ]
  },
  {
   "cell_type": "markdown",
   "id": "b29213fd-3f01-4f33-a4d9-a315c69f19f1",
   "metadata": {},
   "source": [
    "### bp: Blood pressure of the patient in mm/Hg (e.g. 120,80, 140, etc.)"
   ]
  },
  {
   "cell_type": "code",
   "execution_count": 12,
   "id": "1fcfd0bb-4aac-4e1c-af87-b71f2b700c18",
   "metadata": {},
   "outputs": [
    {
     "data": {
      "text/plain": [
       "bp\n",
       "80.0     116\n",
       "70.0     112\n",
       "60.0      71\n",
       "90.0      53\n",
       "100.0     25\n",
       "50.0       5\n",
       "110.0      3\n",
       "140.0      1\n",
       "180.0      1\n",
       "120.0      1\n",
       "Name: count, dtype: int64"
      ]
     },
     "execution_count": 12,
     "metadata": {},
     "output_type": "execute_result"
    }
   ],
   "source": [
    "df['bp'].value_counts()"
   ]
  },
  {
   "cell_type": "code",
   "execution_count": 13,
   "id": "02bf0439-fd46-4406-8b79-a61de71a9a7f",
   "metadata": {},
   "outputs": [
    {
     "data": {
      "text/plain": [
       "80.0"
      ]
     },
     "execution_count": 13,
     "metadata": {},
     "output_type": "execute_result"
    }
   ],
   "source": [
    "df['bp'].median()"
   ]
  },
  {
   "cell_type": "code",
   "execution_count": 14,
   "id": "34accbbd-5535-4880-addb-17f538a01bd2",
   "metadata": {},
   "outputs": [
    {
     "data": {
      "text/plain": [
       "76.46907216494846"
      ]
     },
     "execution_count": 14,
     "metadata": {},
     "output_type": "execute_result"
    }
   ],
   "source": [
    "df['bp'].mean()"
   ]
  },
  {
   "cell_type": "code",
   "execution_count": 15,
   "id": "7e559615-9d2c-4bee-b6ff-a8e8fe226042",
   "metadata": {},
   "outputs": [],
   "source": [
    "df['bp'].fillna(df['bp'].median(),inplace = True)"
   ]
  },
  {
   "cell_type": "code",
   "execution_count": 16,
   "id": "3507d697-4f08-41e6-96d9-1793cf0ddc41",
   "metadata": {},
   "outputs": [
    {
     "data": {
      "text/plain": [
       "0"
      ]
     },
     "execution_count": 16,
     "metadata": {},
     "output_type": "execute_result"
    }
   ],
   "source": [
    "df['bp'].isna().sum()"
   ]
  },
  {
   "cell_type": "code",
   "execution_count": 17,
   "id": "4747451e-0dbf-4b1d-a5de-08c7cb990a80",
   "metadata": {},
   "outputs": [
    {
     "data": {
      "text/plain": [
       "id                  0\n",
       "age                 0\n",
       "bp                  0\n",
       "sg                 47\n",
       "al                 46\n",
       "su                 49\n",
       "rbc               152\n",
       "pc                 65\n",
       "pcc                 4\n",
       "ba                  4\n",
       "bgr                44\n",
       "bu                 19\n",
       "sc                 17\n",
       "sod                87\n",
       "pot                88\n",
       "hemo               52\n",
       "pcv                70\n",
       "wc                105\n",
       "rc                130\n",
       "htn                 2\n",
       "dm                  2\n",
       "cad                 2\n",
       "appet               1\n",
       "pe                  1\n",
       "ane                 1\n",
       "classification      0\n",
       "dtype: int64"
      ]
     },
     "execution_count": 17,
     "metadata": {},
     "output_type": "execute_result"
    }
   ],
   "source": [
    "df.isna().sum()"
   ]
  },
  {
   "cell_type": "markdown",
   "id": "b1bd2d6e-8ca8-497f-8189-9744fdde6b6d",
   "metadata": {},
   "source": [
    "### sg: Specific gravity of the patient's urine (e.g. 1.010, 1.020, etc.)"
   ]
  },
  {
   "cell_type": "code",
   "execution_count": 18,
   "id": "3d310f7f-b58b-4e6e-b54d-660eeff754ee",
   "metadata": {},
   "outputs": [
    {
     "data": {
      "text/plain": [
       "1.02"
      ]
     },
     "execution_count": 18,
     "metadata": {},
     "output_type": "execute_result"
    }
   ],
   "source": [
    "df['sg'].median()"
   ]
  },
  {
   "cell_type": "code",
   "execution_count": 19,
   "id": "39987933-c738-4484-b34d-8793ad83688c",
   "metadata": {},
   "outputs": [
    {
     "data": {
      "text/plain": [
       "1.0174079320113314"
      ]
     },
     "execution_count": 19,
     "metadata": {},
     "output_type": "execute_result"
    }
   ],
   "source": [
    "df['sg'].mean()"
   ]
  },
  {
   "cell_type": "code",
   "execution_count": 20,
   "id": "9001bb56-a549-4ce0-961d-17c944d8c1a6",
   "metadata": {},
   "outputs": [],
   "source": [
    "#Replacing by Mean\n",
    "df['sg'].fillna(df['sg'].mean(),inplace =True)"
   ]
  },
  {
   "cell_type": "code",
   "execution_count": 21,
   "id": "59d040ee-3471-4cab-81c7-be4fc8953d01",
   "metadata": {},
   "outputs": [
    {
     "data": {
      "text/plain": [
       "0"
      ]
     },
     "execution_count": 21,
     "metadata": {},
     "output_type": "execute_result"
    }
   ],
   "source": [
    "df['sg'].isna().sum()"
   ]
  },
  {
   "cell_type": "markdown",
   "id": "3a6ae7d8-4272-4339-a496-369bd23bb589",
   "metadata": {},
   "source": [
    "### al: Amount of albumin present in the patient's urine (e.g. trace, 1+, 2+, etc.)"
   ]
  },
  {
   "cell_type": "code",
   "execution_count": 22,
   "id": "a06919fa-2955-4967-ae67-f54a5609c5a2",
   "metadata": {},
   "outputs": [
    {
     "data": {
      "text/plain": [
       "al\n",
       "0.0    199\n",
       "1.0     44\n",
       "2.0     43\n",
       "3.0     43\n",
       "4.0     24\n",
       "5.0      1\n",
       "Name: count, dtype: int64"
      ]
     },
     "execution_count": 22,
     "metadata": {},
     "output_type": "execute_result"
    }
   ],
   "source": [
    "df['al'].value_counts()"
   ]
  },
  {
   "cell_type": "code",
   "execution_count": 23,
   "id": "92105276-f678-4c54-93e7-11e2c90703a0",
   "metadata": {},
   "outputs": [
    {
     "data": {
      "text/plain": [
       "1.0169491525423728"
      ]
     },
     "execution_count": 23,
     "metadata": {},
     "output_type": "execute_result"
    }
   ],
   "source": [
    "df['al'].mean()"
   ]
  },
  {
   "cell_type": "code",
   "execution_count": 24,
   "id": "24b85ad0-eacc-4a04-a85c-036c8a478117",
   "metadata": {},
   "outputs": [
    {
     "data": {
      "text/plain": [
       "0.0"
      ]
     },
     "execution_count": 24,
     "metadata": {},
     "output_type": "execute_result"
    }
   ],
   "source": [
    "df['al'].median()"
   ]
  },
  {
   "cell_type": "code",
   "execution_count": 25,
   "id": "388833a9-03e2-4ec3-b003-3a225666d53b",
   "metadata": {},
   "outputs": [],
   "source": [
    "df['al'].fillna(df['al'].median(), inplace = True)"
   ]
  },
  {
   "cell_type": "code",
   "execution_count": 26,
   "id": "e4590198-8c58-4783-b727-7f01d70fd28e",
   "metadata": {},
   "outputs": [
    {
     "data": {
      "text/plain": [
       "id                  0\n",
       "age                 0\n",
       "bp                  0\n",
       "sg                  0\n",
       "al                  0\n",
       "su                 49\n",
       "rbc               152\n",
       "pc                 65\n",
       "pcc                 4\n",
       "ba                  4\n",
       "bgr                44\n",
       "bu                 19\n",
       "sc                 17\n",
       "sod                87\n",
       "pot                88\n",
       "hemo               52\n",
       "pcv                70\n",
       "wc                105\n",
       "rc                130\n",
       "htn                 2\n",
       "dm                  2\n",
       "cad                 2\n",
       "appet               1\n",
       "pe                  1\n",
       "ane                 1\n",
       "classification      0\n",
       "dtype: int64"
      ]
     },
     "execution_count": 26,
     "metadata": {},
     "output_type": "execute_result"
    }
   ],
   "source": [
    "df.isna().sum()"
   ]
  },
  {
   "cell_type": "markdown",
   "id": "0d823396-be2f-45c2-94ff-081b0e4ae618",
   "metadata": {},
   "source": [
    "### su: Amount of sugar present in the patient's urine (e.g. trace, 1+, 2+, etc.)"
   ]
  },
  {
   "cell_type": "code",
   "execution_count": 27,
   "id": "031bd19d-a350-4986-a834-bddbc49c24fb",
   "metadata": {},
   "outputs": [
    {
     "data": {
      "text/plain": [
       "su\n",
       "0.0    290\n",
       "2.0     18\n",
       "3.0     14\n",
       "4.0     13\n",
       "1.0     13\n",
       "5.0      3\n",
       "Name: count, dtype: int64"
      ]
     },
     "execution_count": 27,
     "metadata": {},
     "output_type": "execute_result"
    }
   ],
   "source": [
    "df['su'].value_counts()"
   ]
  },
  {
   "cell_type": "code",
   "execution_count": 28,
   "id": "afce1c36-29f6-4be5-b409-15e22ccedaba",
   "metadata": {},
   "outputs": [
    {
     "data": {
      "text/plain": [
       "0.45014245014245013"
      ]
     },
     "execution_count": 28,
     "metadata": {},
     "output_type": "execute_result"
    }
   ],
   "source": [
    "df['su'].mean()"
   ]
  },
  {
   "cell_type": "code",
   "execution_count": 29,
   "id": "b05ff8b2-c2e6-46e3-95a5-e26e1883509e",
   "metadata": {},
   "outputs": [
    {
     "data": {
      "text/plain": [
       "0.0"
      ]
     },
     "execution_count": 29,
     "metadata": {},
     "output_type": "execute_result"
    }
   ],
   "source": [
    "df['su'].median()"
   ]
  },
  {
   "cell_type": "code",
   "execution_count": 30,
   "id": "ab192d4b-a55b-4928-8b3a-e07deda2197c",
   "metadata": {},
   "outputs": [],
   "source": [
    "df['su'].fillna(df['su'].median(), inplace = True)"
   ]
  },
  {
   "cell_type": "code",
   "execution_count": 31,
   "id": "90c8b1a2-5d05-44df-9aa4-2c9e75fbe165",
   "metadata": {},
   "outputs": [
    {
     "data": {
      "text/plain": [
       "0"
      ]
     },
     "execution_count": 31,
     "metadata": {},
     "output_type": "execute_result"
    }
   ],
   "source": [
    "df['su'].isna().sum()"
   ]
  },
  {
   "cell_type": "markdown",
   "id": "c5a29026-35ea-4d07-8d19-42cd564c3327",
   "metadata": {},
   "source": [
    "### rbc: Presence of red blood cells in the patient's urine (e.g. normal, abnormal)"
   ]
  },
  {
   "cell_type": "code",
   "execution_count": 32,
   "id": "9d1dc53b-a7a9-420f-ac94-baad64ad2ecf",
   "metadata": {},
   "outputs": [
    {
     "data": {
      "text/plain": [
       "rbc\n",
       "normal      201\n",
       "abnormal     47\n",
       "Name: count, dtype: int64"
      ]
     },
     "execution_count": 32,
     "metadata": {},
     "output_type": "execute_result"
    }
   ],
   "source": [
    "df['rbc'].value_counts()"
   ]
  },
  {
   "cell_type": "code",
   "execution_count": 33,
   "id": "96851940-a1e2-4fc5-9cb4-bdaa5f36eb67",
   "metadata": {},
   "outputs": [
    {
     "data": {
      "text/plain": [
       "0    normal\n",
       "Name: rbc, dtype: object"
      ]
     },
     "execution_count": 33,
     "metadata": {},
     "output_type": "execute_result"
    }
   ],
   "source": [
    "df['rbc'].mode()"
   ]
  },
  {
   "cell_type": "code",
   "execution_count": 34,
   "id": "2f4ace13-2fba-4018-8b57-f883265a7968",
   "metadata": {},
   "outputs": [],
   "source": [
    "df['rbc'].fillna(df['rbc'].mode()[0], inplace = True)"
   ]
  },
  {
   "cell_type": "code",
   "execution_count": 35,
   "id": "62b2cd87-e7ea-4854-b88e-c459d9a4c9f1",
   "metadata": {},
   "outputs": [
    {
     "data": {
      "text/plain": [
       "0"
      ]
     },
     "execution_count": 35,
     "metadata": {},
     "output_type": "execute_result"
    }
   ],
   "source": [
    "df['rbc'].isna().sum()"
   ]
  },
  {
   "cell_type": "code",
   "execution_count": 36,
   "id": "1ab390fb-b328-4db4-98b6-4078863887a2",
   "metadata": {},
   "outputs": [
    {
     "data": {
      "text/plain": [
       "id                  0\n",
       "age                 0\n",
       "bp                  0\n",
       "sg                  0\n",
       "al                  0\n",
       "su                  0\n",
       "rbc                 0\n",
       "pc                 65\n",
       "pcc                 4\n",
       "ba                  4\n",
       "bgr                44\n",
       "bu                 19\n",
       "sc                 17\n",
       "sod                87\n",
       "pot                88\n",
       "hemo               52\n",
       "pcv                70\n",
       "wc                105\n",
       "rc                130\n",
       "htn                 2\n",
       "dm                  2\n",
       "cad                 2\n",
       "appet               1\n",
       "pe                  1\n",
       "ane                 1\n",
       "classification      0\n",
       "dtype: int64"
      ]
     },
     "execution_count": 36,
     "metadata": {},
     "output_type": "execute_result"
    }
   ],
   "source": [
    "df.isna().sum()"
   ]
  },
  {
   "cell_type": "markdown",
   "id": "9bb89136-16d5-49f8-ab14-5b8e09b48a05",
   "metadata": {},
   "source": [
    "### pc: Presence of pus cells in the patient's urine (e.g. normal, abnormal)"
   ]
  },
  {
   "cell_type": "code",
   "execution_count": 37,
   "id": "92f5aab2-6fa1-4afb-9793-5d5594c9e1c2",
   "metadata": {},
   "outputs": [
    {
     "data": {
      "text/plain": [
       "pc\n",
       "normal      259\n",
       "abnormal     76\n",
       "Name: count, dtype: int64"
      ]
     },
     "execution_count": 37,
     "metadata": {},
     "output_type": "execute_result"
    }
   ],
   "source": [
    "df['pc'].value_counts()"
   ]
  },
  {
   "cell_type": "code",
   "execution_count": 38,
   "id": "c7d532cc-d359-49dc-b518-4da413a407f0",
   "metadata": {},
   "outputs": [
    {
     "data": {
      "text/plain": [
       "0    normal\n",
       "Name: pc, dtype: object"
      ]
     },
     "execution_count": 38,
     "metadata": {},
     "output_type": "execute_result"
    }
   ],
   "source": [
    "df['pc'].mode()"
   ]
  },
  {
   "cell_type": "code",
   "execution_count": 39,
   "id": "5add6e12-1071-41d9-88ef-f7f8fe12d926",
   "metadata": {},
   "outputs": [],
   "source": [
    "df['pc'].fillna(df['pc'].mode()[0], inplace = True)"
   ]
  },
  {
   "cell_type": "code",
   "execution_count": 40,
   "id": "57e4e16e-2bd4-4b27-8aa4-278c5176b64c",
   "metadata": {},
   "outputs": [
    {
     "data": {
      "text/plain": [
       "id                  0\n",
       "age                 0\n",
       "bp                  0\n",
       "sg                  0\n",
       "al                  0\n",
       "su                  0\n",
       "rbc                 0\n",
       "pc                  0\n",
       "pcc                 4\n",
       "ba                  4\n",
       "bgr                44\n",
       "bu                 19\n",
       "sc                 17\n",
       "sod                87\n",
       "pot                88\n",
       "hemo               52\n",
       "pcv                70\n",
       "wc                105\n",
       "rc                130\n",
       "htn                 2\n",
       "dm                  2\n",
       "cad                 2\n",
       "appet               1\n",
       "pe                  1\n",
       "ane                 1\n",
       "classification      0\n",
       "dtype: int64"
      ]
     },
     "execution_count": 40,
     "metadata": {},
     "output_type": "execute_result"
    }
   ],
   "source": [
    "df.isna().sum()"
   ]
  },
  {
   "cell_type": "markdown",
   "id": "d5716df1-412c-41e3-b057-31af09c3af52",
   "metadata": {},
   "source": [
    "### pcc: Presence of bacteria in the patient's urine (e.g. present, absent)"
   ]
  },
  {
   "cell_type": "code",
   "execution_count": 41,
   "id": "0d4a8db9-e44b-465b-aab4-e1bdb4a572df",
   "metadata": {},
   "outputs": [
    {
     "data": {
      "text/plain": [
       "pcc\n",
       "notpresent    354\n",
       "present        42\n",
       "Name: count, dtype: int64"
      ]
     },
     "execution_count": 41,
     "metadata": {},
     "output_type": "execute_result"
    }
   ],
   "source": [
    "df['pcc'].value_counts()"
   ]
  },
  {
   "cell_type": "code",
   "execution_count": 42,
   "id": "79eb79b3-b876-4166-b0aa-692d17a84430",
   "metadata": {},
   "outputs": [
    {
     "data": {
      "text/plain": [
       "0    notpresent\n",
       "Name: pcc, dtype: object"
      ]
     },
     "execution_count": 42,
     "metadata": {},
     "output_type": "execute_result"
    }
   ],
   "source": [
    "df['pcc'].mode()"
   ]
  },
  {
   "cell_type": "code",
   "execution_count": 43,
   "id": "3cec0c77-7777-4336-9df4-74302421ecce",
   "metadata": {},
   "outputs": [],
   "source": [
    "df['pcc'].fillna(df['pcc'].mode()[0], inplace = True)"
   ]
  },
  {
   "cell_type": "code",
   "execution_count": 44,
   "id": "a3bcaa9b-9a16-44bd-b035-49c59e95536c",
   "metadata": {},
   "outputs": [
    {
     "data": {
      "text/plain": [
       "0"
      ]
     },
     "execution_count": 44,
     "metadata": {},
     "output_type": "execute_result"
    }
   ],
   "source": [
    "df['pcc'].isna().sum()"
   ]
  },
  {
   "cell_type": "markdown",
   "id": "5094887f-7f83-4f5a-b1b3-6a5636196e8c",
   "metadata": {},
   "source": [
    "#### Note: Pcc and ba both refer to the presence of bacteria in the patient's urine.\n",
    "Pcc stands for \"pyuria or leukocyte esterase test results\", which is a measure of the presence of white blood cells in the urine, and can indicate an infection in the urinary tract\n",
    "ba: Presence of bacteria in the patient's urine (e.g. present, absent)\n",
    "Ba stands for \"bacteria\", and simply indicates whether bacteria were found in the urine or not.\n",
    "Both pcc and ba are important parameters for diagnosing and monitoring urinary tract infections, which can affect the kidneys and lead to kidney damage if left untreated."
   ]
  },
  {
   "cell_type": "markdown",
   "id": "7f59075b-0668-48cb-8582-117ba4f59bb8",
   "metadata": {},
   "source": [
    "### ba: Presence of bacteria in the patient's urine (e.g. present, absent)"
   ]
  },
  {
   "cell_type": "code",
   "execution_count": 45,
   "id": "1b16f095-59c5-475b-9a07-4f058533b1cd",
   "metadata": {},
   "outputs": [
    {
     "data": {
      "text/plain": [
       "ba\n",
       "notpresent    374\n",
       "present        22\n",
       "Name: count, dtype: int64"
      ]
     },
     "execution_count": 45,
     "metadata": {},
     "output_type": "execute_result"
    }
   ],
   "source": [
    "df['ba'].value_counts()"
   ]
  },
  {
   "cell_type": "code",
   "execution_count": 46,
   "id": "94560426-b909-4a6b-b2ca-e3de496a16ef",
   "metadata": {},
   "outputs": [],
   "source": [
    "df['ba'].fillna(df['ba'].mode()[0], inplace = True)"
   ]
  },
  {
   "cell_type": "code",
   "execution_count": 47,
   "id": "f33fe119-7514-442e-87dd-073adb009cb1",
   "metadata": {},
   "outputs": [
    {
     "data": {
      "text/plain": [
       "id                  0\n",
       "age                 0\n",
       "bp                  0\n",
       "sg                  0\n",
       "al                  0\n",
       "su                  0\n",
       "rbc                 0\n",
       "pc                  0\n",
       "pcc                 0\n",
       "ba                  0\n",
       "bgr                44\n",
       "bu                 19\n",
       "sc                 17\n",
       "sod                87\n",
       "pot                88\n",
       "hemo               52\n",
       "pcv                70\n",
       "wc                105\n",
       "rc                130\n",
       "htn                 2\n",
       "dm                  2\n",
       "cad                 2\n",
       "appet               1\n",
       "pe                  1\n",
       "ane                 1\n",
       "classification      0\n",
       "dtype: int64"
      ]
     },
     "execution_count": 47,
     "metadata": {},
     "output_type": "execute_result"
    }
   ],
   "source": [
    "df.isna().sum()"
   ]
  },
  {
   "cell_type": "markdown",
   "id": "b6f67f79-6384-40a0-95a8-de0eed220ff2",
   "metadata": {},
   "source": [
    "### bgr: Blood glucose level of the patient in mg/dL (e.g. 120, 200, etc.)"
   ]
  },
  {
   "cell_type": "code",
   "execution_count": 48,
   "id": "cbcecaff-2d67-4f9e-a51a-ac9a86237be5",
   "metadata": {},
   "outputs": [
    {
     "data": {
      "text/plain": [
       "bgr\n",
       "99.0     10\n",
       "93.0      9\n",
       "100.0     9\n",
       "107.0     8\n",
       "131.0     6\n",
       "         ..\n",
       "288.0     1\n",
       "182.0     1\n",
       "84.0      1\n",
       "256.0     1\n",
       "226.0     1\n",
       "Name: count, Length: 146, dtype: int64"
      ]
     },
     "execution_count": 48,
     "metadata": {},
     "output_type": "execute_result"
    }
   ],
   "source": [
    "df['bgr'].value_counts()"
   ]
  },
  {
   "cell_type": "code",
   "execution_count": 49,
   "id": "7a0cbca2-5a2b-4a3d-a5f3-27ae232da486",
   "metadata": {},
   "outputs": [
    {
     "data": {
      "text/plain": [
       "148.0365168539326"
      ]
     },
     "execution_count": 49,
     "metadata": {},
     "output_type": "execute_result"
    }
   ],
   "source": [
    "df['bgr'].mean()"
   ]
  },
  {
   "cell_type": "code",
   "execution_count": 50,
   "id": "2bbd223c-6e40-4b1f-b45b-2c21fa0e34dd",
   "metadata": {},
   "outputs": [
    {
     "data": {
      "text/plain": [
       "121.0"
      ]
     },
     "execution_count": 50,
     "metadata": {},
     "output_type": "execute_result"
    }
   ],
   "source": [
    "df['bgr'].median()"
   ]
  },
  {
   "cell_type": "code",
   "execution_count": 51,
   "id": "69078507-fb6e-4b31-b8bb-5f07b1848398",
   "metadata": {},
   "outputs": [
    {
     "data": {
      "text/plain": [
       "0    99.0\n",
       "Name: bgr, dtype: float64"
      ]
     },
     "execution_count": 51,
     "metadata": {},
     "output_type": "execute_result"
    }
   ],
   "source": [
    "df['bgr'].mode()"
   ]
  },
  {
   "cell_type": "code",
   "execution_count": 52,
   "id": "9630f3b1-d276-4681-8601-e7cf854ab2db",
   "metadata": {},
   "outputs": [],
   "source": [
    "df['bgr'].fillna(df['bgr'].mode()[0], inplace = True)"
   ]
  },
  {
   "cell_type": "code",
   "execution_count": 53,
   "id": "3d53e1cc-37b1-46c9-8240-691dd90e4ae0",
   "metadata": {},
   "outputs": [
    {
     "data": {
      "text/plain": [
       "id                  0\n",
       "age                 0\n",
       "bp                  0\n",
       "sg                  0\n",
       "al                  0\n",
       "su                  0\n",
       "rbc                 0\n",
       "pc                  0\n",
       "pcc                 0\n",
       "ba                  0\n",
       "bgr                 0\n",
       "bu                 19\n",
       "sc                 17\n",
       "sod                87\n",
       "pot                88\n",
       "hemo               52\n",
       "pcv                70\n",
       "wc                105\n",
       "rc                130\n",
       "htn                 2\n",
       "dm                  2\n",
       "cad                 2\n",
       "appet               1\n",
       "pe                  1\n",
       "ane                 1\n",
       "classification      0\n",
       "dtype: int64"
      ]
     },
     "execution_count": 53,
     "metadata": {},
     "output_type": "execute_result"
    }
   ],
   "source": [
    "df.isna().sum()"
   ]
  },
  {
   "cell_type": "markdown",
   "id": "07e2fab6-74ab-4a3e-a7d9-ed552913756e",
   "metadata": {},
   "source": [
    "### bu: Blood urea level of the patient in mg/dL (e.g. 20, 30, etc.)"
   ]
  },
  {
   "cell_type": "code",
   "execution_count": 54,
   "id": "911a7bdd-818a-4e63-af16-67d57fc433d0",
   "metadata": {},
   "outputs": [
    {
     "data": {
      "text/plain": [
       "bu\n",
       "46.0     15\n",
       "25.0     13\n",
       "19.0     11\n",
       "40.0     10\n",
       "50.0      9\n",
       "         ..\n",
       "176.0     1\n",
       "145.0     1\n",
       "92.0      1\n",
       "322.0     1\n",
       "186.0     1\n",
       "Name: count, Length: 118, dtype: int64"
      ]
     },
     "execution_count": 54,
     "metadata": {},
     "output_type": "execute_result"
    }
   ],
   "source": [
    "df['bu'].value_counts()"
   ]
  },
  {
   "cell_type": "code",
   "execution_count": 55,
   "id": "a1dbfa83-9d9e-4ede-ad84-2341a00c5bc7",
   "metadata": {},
   "outputs": [
    {
     "data": {
      "text/plain": [
       "0    46.0\n",
       "Name: bu, dtype: float64"
      ]
     },
     "execution_count": 55,
     "metadata": {},
     "output_type": "execute_result"
    }
   ],
   "source": [
    "df['bu'].mode()"
   ]
  },
  {
   "cell_type": "code",
   "execution_count": 56,
   "id": "e3e43038-daa5-498b-bde8-c63b8626a491",
   "metadata": {},
   "outputs": [],
   "source": [
    "df['bu'].fillna(df['bu'].mode()[0], inplace = True)"
   ]
  },
  {
   "cell_type": "code",
   "execution_count": 57,
   "id": "4c4ae65f-49c3-4b97-843b-67a5a00eeafd",
   "metadata": {},
   "outputs": [
    {
     "data": {
      "text/plain": [
       "0"
      ]
     },
     "execution_count": 57,
     "metadata": {},
     "output_type": "execute_result"
    }
   ],
   "source": [
    "df['bu'].isna().sum()"
   ]
  },
  {
   "cell_type": "markdown",
   "id": "436e3ad9-b742-4e77-ae70-12d9937c633b",
   "metadata": {},
   "source": [
    "### sc: Serum creatinine level of the patient in mg/dL (e.g. 0.8, 1.2, etc.)"
   ]
  },
  {
   "cell_type": "code",
   "execution_count": 58,
   "id": "b7fbe0c3-0d98-45ac-aaeb-b776b078a44a",
   "metadata": {},
   "outputs": [
    {
     "data": {
      "text/plain": [
       "sc\n",
       "1.2     40\n",
       "1.1     24\n",
       "0.5     23\n",
       "1.0     23\n",
       "0.9     22\n",
       "        ..\n",
       "3.8      1\n",
       "12.2     1\n",
       "9.2      1\n",
       "13.8     1\n",
       "0.4      1\n",
       "Name: count, Length: 84, dtype: int64"
      ]
     },
     "execution_count": 58,
     "metadata": {},
     "output_type": "execute_result"
    }
   ],
   "source": [
    "df['sc'].value_counts()"
   ]
  },
  {
   "cell_type": "code",
   "execution_count": 59,
   "id": "592c96f9-0b39-4ead-b8aa-5acf64a7bf9a",
   "metadata": {},
   "outputs": [],
   "source": [
    "df['sc'].fillna(df['sc'].mode()[0], inplace = True)"
   ]
  },
  {
   "cell_type": "code",
   "execution_count": 60,
   "id": "4b3a5a51-50f0-449d-bec6-3c3d8c0a7fb4",
   "metadata": {},
   "outputs": [
    {
     "data": {
      "text/plain": [
       "id                  0\n",
       "age                 0\n",
       "bp                  0\n",
       "sg                  0\n",
       "al                  0\n",
       "su                  0\n",
       "rbc                 0\n",
       "pc                  0\n",
       "pcc                 0\n",
       "ba                  0\n",
       "bgr                 0\n",
       "bu                  0\n",
       "sc                  0\n",
       "sod                87\n",
       "pot                88\n",
       "hemo               52\n",
       "pcv                70\n",
       "wc                105\n",
       "rc                130\n",
       "htn                 2\n",
       "dm                  2\n",
       "cad                 2\n",
       "appet               1\n",
       "pe                  1\n",
       "ane                 1\n",
       "classification      0\n",
       "dtype: int64"
      ]
     },
     "execution_count": 60,
     "metadata": {},
     "output_type": "execute_result"
    }
   ],
   "source": [
    "df.isna().sum()"
   ]
  },
  {
   "cell_type": "markdown",
   "id": "8500f62d-a73a-452d-a4f8-5b68bfa14594",
   "metadata": {},
   "source": [
    "### sod: Sodium level in the patient's blood in mEq/L (e.g. 135, 140, etc.)"
   ]
  },
  {
   "cell_type": "code",
   "execution_count": 61,
   "id": "992e8a83-0082-437e-bb33-b6f8364da6bf",
   "metadata": {},
   "outputs": [
    {
     "data": {
      "text/plain": [
       "sod\n",
       "135.0    40\n",
       "140.0    25\n",
       "141.0    22\n",
       "139.0    21\n",
       "138.0    20\n",
       "142.0    20\n",
       "137.0    19\n",
       "150.0    17\n",
       "136.0    17\n",
       "147.0    13\n",
       "145.0    11\n",
       "132.0    10\n",
       "146.0    10\n",
       "131.0     9\n",
       "144.0     9\n",
       "133.0     8\n",
       "130.0     7\n",
       "134.0     6\n",
       "143.0     4\n",
       "124.0     3\n",
       "127.0     3\n",
       "122.0     2\n",
       "113.0     2\n",
       "120.0     2\n",
       "125.0     2\n",
       "128.0     2\n",
       "114.0     2\n",
       "126.0     1\n",
       "163.0     1\n",
       "115.0     1\n",
       "129.0     1\n",
       "4.5       1\n",
       "104.0     1\n",
       "111.0     1\n",
       "Name: count, dtype: int64"
      ]
     },
     "execution_count": 61,
     "metadata": {},
     "output_type": "execute_result"
    }
   ],
   "source": [
    "df['sod'].value_counts()"
   ]
  },
  {
   "cell_type": "code",
   "execution_count": 62,
   "id": "95bf7908-713d-462f-a5e9-db12e3067a0c",
   "metadata": {},
   "outputs": [
    {
     "data": {
      "text/plain": [
       "0    135.0\n",
       "Name: sod, dtype: float64"
      ]
     },
     "execution_count": 62,
     "metadata": {},
     "output_type": "execute_result"
    }
   ],
   "source": [
    "df['sod'].mode()"
   ]
  },
  {
   "cell_type": "code",
   "execution_count": 63,
   "id": "b084677f-c3e4-4665-aab0-b678a2c895b9",
   "metadata": {},
   "outputs": [],
   "source": [
    "df['sod'].fillna(df['sod'].mode()[0], inplace = True)"
   ]
  },
  {
   "cell_type": "code",
   "execution_count": 64,
   "id": "668cde96-fb4c-41f5-b22b-f570a8df2d2f",
   "metadata": {},
   "outputs": [
    {
     "data": {
      "text/plain": [
       "id                  0\n",
       "age                 0\n",
       "bp                  0\n",
       "sg                  0\n",
       "al                  0\n",
       "su                  0\n",
       "rbc                 0\n",
       "pc                  0\n",
       "pcc                 0\n",
       "ba                  0\n",
       "bgr                 0\n",
       "bu                  0\n",
       "sc                  0\n",
       "sod                 0\n",
       "pot                88\n",
       "hemo               52\n",
       "pcv                70\n",
       "wc                105\n",
       "rc                130\n",
       "htn                 2\n",
       "dm                  2\n",
       "cad                 2\n",
       "appet               1\n",
       "pe                  1\n",
       "ane                 1\n",
       "classification      0\n",
       "dtype: int64"
      ]
     },
     "execution_count": 64,
     "metadata": {},
     "output_type": "execute_result"
    }
   ],
   "source": [
    "df.isna().sum()"
   ]
  },
  {
   "cell_type": "markdown",
   "id": "d1823050-af46-48f2-be54-15b37c9c7fe2",
   "metadata": {},
   "source": [
    "### pot: Potassium level in the patient's blood in mEq/L (e.g. 3.5, 4.0, etc.)"
   ]
  },
  {
   "cell_type": "code",
   "execution_count": 65,
   "id": "6d166b09-1379-479c-8d81-9e56f64835d3",
   "metadata": {},
   "outputs": [
    {
     "data": {
      "text/plain": [
       "pot\n",
       "3.5     30\n",
       "5.0     30\n",
       "4.9     27\n",
       "4.7     17\n",
       "4.8     16\n",
       "3.9     14\n",
       "3.8     14\n",
       "4.1     14\n",
       "4.2     14\n",
       "4.0     14\n",
       "4.4     14\n",
       "4.5     13\n",
       "4.3     12\n",
       "3.7     12\n",
       "3.6      8\n",
       "4.6      7\n",
       "3.4      5\n",
       "5.2      5\n",
       "5.3      4\n",
       "5.7      4\n",
       "3.2      3\n",
       "5.5      3\n",
       "6.3      3\n",
       "5.4      3\n",
       "2.9      3\n",
       "3.3      3\n",
       "5.6      2\n",
       "3.0      2\n",
       "6.5      2\n",
       "2.5      2\n",
       "5.9      2\n",
       "5.8      2\n",
       "7.6      1\n",
       "47.0     1\n",
       "6.6      1\n",
       "5.1      1\n",
       "6.4      1\n",
       "2.8      1\n",
       "2.7      1\n",
       "39.0     1\n",
       "Name: count, dtype: int64"
      ]
     },
     "execution_count": 65,
     "metadata": {},
     "output_type": "execute_result"
    }
   ],
   "source": [
    "df['pot'].value_counts()"
   ]
  },
  {
   "cell_type": "code",
   "execution_count": 66,
   "id": "ba447a46-c600-4852-9287-ffabb8ebbb7d",
   "metadata": {},
   "outputs": [
    {
     "data": {
      "text/plain": [
       "4.62724358974359"
      ]
     },
     "execution_count": 66,
     "metadata": {},
     "output_type": "execute_result"
    }
   ],
   "source": [
    "df['pot'].mean()"
   ]
  },
  {
   "cell_type": "code",
   "execution_count": 67,
   "id": "53bea7df-1f48-4211-a434-d7586338f862",
   "metadata": {},
   "outputs": [
    {
     "data": {
      "text/plain": [
       "4.4"
      ]
     },
     "execution_count": 67,
     "metadata": {},
     "output_type": "execute_result"
    }
   ],
   "source": [
    "df['pot'].median()"
   ]
  },
  {
   "cell_type": "code",
   "execution_count": 68,
   "id": "fb1543b3-1586-4518-818b-6d4b77b7e536",
   "metadata": {},
   "outputs": [
    {
     "data": {
      "text/plain": [
       "5.0"
      ]
     },
     "execution_count": 68,
     "metadata": {},
     "output_type": "execute_result"
    }
   ],
   "source": [
    "df['pot'].mode()[1]"
   ]
  },
  {
   "cell_type": "code",
   "execution_count": 69,
   "id": "1cbd560a-7c03-4e89-9663-586349906081",
   "metadata": {},
   "outputs": [],
   "source": [
    "df['pot'].fillna(df['pot'].mode()[1], inplace = True)"
   ]
  },
  {
   "cell_type": "code",
   "execution_count": 70,
   "id": "eea3d4ed-5d5e-4cc8-8a7f-451dc5c0df1d",
   "metadata": {},
   "outputs": [
    {
     "data": {
      "text/plain": [
       "id                  0\n",
       "age                 0\n",
       "bp                  0\n",
       "sg                  0\n",
       "al                  0\n",
       "su                  0\n",
       "rbc                 0\n",
       "pc                  0\n",
       "pcc                 0\n",
       "ba                  0\n",
       "bgr                 0\n",
       "bu                  0\n",
       "sc                  0\n",
       "sod                 0\n",
       "pot                 0\n",
       "hemo               52\n",
       "pcv                70\n",
       "wc                105\n",
       "rc                130\n",
       "htn                 2\n",
       "dm                  2\n",
       "cad                 2\n",
       "appet               1\n",
       "pe                  1\n",
       "ane                 1\n",
       "classification      0\n",
       "dtype: int64"
      ]
     },
     "execution_count": 70,
     "metadata": {},
     "output_type": "execute_result"
    }
   ],
   "source": [
    "df.isna().sum()"
   ]
  },
  {
   "cell_type": "markdown",
   "id": "7910e058-2690-4aaf-8d66-a7bae6831d10",
   "metadata": {},
   "source": [
    "### hemo: Hemoglobin level in the patient's blood in g/dL (e.g. 10, 12, etc.)"
   ]
  },
  {
   "cell_type": "code",
   "execution_count": 71,
   "id": "4b117d51-2ef0-4777-99f8-7590dbbbfcaf",
   "metadata": {},
   "outputs": [
    {
     "data": {
      "text/plain": [
       "hemo\n",
       "15.0    16\n",
       "10.9     8\n",
       "13.6     7\n",
       "13.0     7\n",
       "9.8      7\n",
       "        ..\n",
       "6.8      1\n",
       "8.5      1\n",
       "7.3      1\n",
       "12.8     1\n",
       "17.6     1\n",
       "Name: count, Length: 115, dtype: int64"
      ]
     },
     "execution_count": 71,
     "metadata": {},
     "output_type": "execute_result"
    }
   ],
   "source": [
    "df['hemo'].value_counts()"
   ]
  },
  {
   "cell_type": "code",
   "execution_count": 72,
   "id": "cde6aee4-d237-48ea-98c0-eecec9fcc60f",
   "metadata": {},
   "outputs": [
    {
     "data": {
      "text/plain": [
       "id                  0\n",
       "age                 0\n",
       "bp                  0\n",
       "sg                  0\n",
       "al                  0\n",
       "su                  0\n",
       "rbc                 0\n",
       "pc                  0\n",
       "pcc                 0\n",
       "ba                  0\n",
       "bgr                 0\n",
       "bu                  0\n",
       "sc                  0\n",
       "sod                 0\n",
       "pot                 0\n",
       "hemo               52\n",
       "pcv                70\n",
       "wc                105\n",
       "rc                130\n",
       "htn                 2\n",
       "dm                  2\n",
       "cad                 2\n",
       "appet               1\n",
       "pe                  1\n",
       "ane                 1\n",
       "classification      0\n",
       "dtype: int64"
      ]
     },
     "execution_count": 72,
     "metadata": {},
     "output_type": "execute_result"
    }
   ],
   "source": [
    "df.isna().sum()"
   ]
  },
  {
   "cell_type": "code",
   "execution_count": 73,
   "id": "80466e59-a640-4e7e-86ff-f8817ee6e03e",
   "metadata": {},
   "outputs": [],
   "source": [
    "df['hemo'].fillna(df['hemo'].mean(), inplace=True)"
   ]
  },
  {
   "cell_type": "code",
   "execution_count": 74,
   "id": "56102a0b-9c1e-4ebe-aeb4-88fa62e30f48",
   "metadata": {},
   "outputs": [
    {
     "data": {
      "text/plain": [
       "id                  0\n",
       "age                 0\n",
       "bp                  0\n",
       "sg                  0\n",
       "al                  0\n",
       "su                  0\n",
       "rbc                 0\n",
       "pc                  0\n",
       "pcc                 0\n",
       "ba                  0\n",
       "bgr                 0\n",
       "bu                  0\n",
       "sc                  0\n",
       "sod                 0\n",
       "pot                 0\n",
       "hemo                0\n",
       "pcv                70\n",
       "wc                105\n",
       "rc                130\n",
       "htn                 2\n",
       "dm                  2\n",
       "cad                 2\n",
       "appet               1\n",
       "pe                  1\n",
       "ane                 1\n",
       "classification      0\n",
       "dtype: int64"
      ]
     },
     "execution_count": 74,
     "metadata": {},
     "output_type": "execute_result"
    }
   ],
   "source": [
    "df.isna().sum()"
   ]
  },
  {
   "cell_type": "markdown",
   "id": "2c75525a-1066-45bb-80d1-f25f58e23c56",
   "metadata": {},
   "source": [
    "### pcv: Packed cell volume (PCV) in the patient's blood (e.g. 35, 40, etc.)"
   ]
  },
  {
   "cell_type": "code",
   "execution_count": 75,
   "id": "d3a61215-5376-413c-bdb6-5f0d7df819e0",
   "metadata": {},
   "outputs": [
    {
     "data": {
      "text/plain": [
       "pcv\n",
       "41      21\n",
       "52      21\n",
       "44      19\n",
       "48      19\n",
       "40      16\n",
       "43      14\n",
       "42      13\n",
       "45      13\n",
       "32      12\n",
       "36      12\n",
       "33      12\n",
       "50      12\n",
       "28      12\n",
       "34      11\n",
       "37      11\n",
       "30       9\n",
       "29       9\n",
       "35       9\n",
       "46       9\n",
       "31       8\n",
       "24       7\n",
       "39       7\n",
       "26       6\n",
       "38       5\n",
       "53       4\n",
       "51       4\n",
       "49       4\n",
       "47       4\n",
       "54       4\n",
       "25       3\n",
       "27       3\n",
       "22       3\n",
       "19       2\n",
       "23       2\n",
       "15       1\n",
       "21       1\n",
       "17       1\n",
       "20       1\n",
       "\\t43     1\n",
       "18       1\n",
       "9        1\n",
       "14       1\n",
       "\\t?      1\n",
       "16       1\n",
       "Name: count, dtype: int64"
      ]
     },
     "execution_count": 75,
     "metadata": {},
     "output_type": "execute_result"
    }
   ],
   "source": [
    "df['pcv'].value_counts()"
   ]
  },
  {
   "cell_type": "code",
   "execution_count": 76,
   "id": "cf1f7042-4a9c-41ee-94d7-886d9fb2c350",
   "metadata": {},
   "outputs": [
    {
     "data": {
      "text/plain": [
       "dtype('O')"
      ]
     },
     "execution_count": 76,
     "metadata": {},
     "output_type": "execute_result"
    }
   ],
   "source": [
    "df['pcv'].dtype"
   ]
  },
  {
   "cell_type": "code",
   "execution_count": 77,
   "id": "4be4d93e-c71a-46e4-9c67-c689ad7eda93",
   "metadata": {},
   "outputs": [
    {
     "data": {
      "text/plain": [
       "dtype('float64')"
      ]
     },
     "execution_count": 77,
     "metadata": {},
     "output_type": "execute_result"
    }
   ],
   "source": [
    "# Convert 'pcv' column to numeric data type\n",
    "df['pcv'] = pd.to_numeric(df['pcv'], errors='coerce')\n",
    "df['pcv'].dtype"
   ]
  },
  {
   "cell_type": "code",
   "execution_count": 78,
   "id": "2be34487-98f7-4dec-b575-2cb6c06b8b02",
   "metadata": {},
   "outputs": [
    {
     "data": {
      "text/plain": [
       "71"
      ]
     },
     "execution_count": 78,
     "metadata": {},
     "output_type": "execute_result"
    }
   ],
   "source": [
    "df['pcv'].isnull().sum()"
   ]
  },
  {
   "cell_type": "code",
   "execution_count": 79,
   "id": "3efeb2eb-d7bf-405f-b7e4-85228bcfbd6d",
   "metadata": {},
   "outputs": [
    {
     "data": {
      "text/plain": [
       "id                  0\n",
       "age                 0\n",
       "bp                  0\n",
       "sg                  0\n",
       "al                  0\n",
       "su                  0\n",
       "rbc                 0\n",
       "pc                  0\n",
       "pcc                 0\n",
       "ba                  0\n",
       "bgr                 0\n",
       "bu                  0\n",
       "sc                  0\n",
       "sod                 0\n",
       "pot                 0\n",
       "hemo                0\n",
       "pcv                71\n",
       "wc                105\n",
       "rc                130\n",
       "htn                 2\n",
       "dm                  2\n",
       "cad                 2\n",
       "appet               1\n",
       "pe                  1\n",
       "ane                 1\n",
       "classification      0\n",
       "dtype: int64"
      ]
     },
     "execution_count": 79,
     "metadata": {},
     "output_type": "execute_result"
    }
   ],
   "source": [
    "df.isna().sum()"
   ]
  },
  {
   "cell_type": "code",
   "execution_count": 80,
   "id": "4d4dce1a-9f5f-4557-83e0-4f3438e8c8bd",
   "metadata": {},
   "outputs": [
    {
     "data": {
      "text/plain": [
       "0    41.0\n",
       "1    52.0\n",
       "Name: pcv, dtype: float64"
      ]
     },
     "execution_count": 80,
     "metadata": {},
     "output_type": "execute_result"
    }
   ],
   "source": [
    "df['pcv'].mode()"
   ]
  },
  {
   "cell_type": "code",
   "execution_count": 81,
   "id": "dafe4a9d-11f4-4455-bea5-c58d7ce1a402",
   "metadata": {},
   "outputs": [
    {
     "data": {
      "text/plain": [
       "38.88449848024316"
      ]
     },
     "execution_count": 81,
     "metadata": {},
     "output_type": "execute_result"
    }
   ],
   "source": [
    "df['pcv'].mean()"
   ]
  },
  {
   "cell_type": "code",
   "execution_count": 82,
   "id": "9142e793-7e7a-47f6-bea8-d8266a3d8dbc",
   "metadata": {},
   "outputs": [],
   "source": [
    "df['pcv'].fillna(df['pcv'].mode()[0], inplace=True)"
   ]
  },
  {
   "cell_type": "code",
   "execution_count": 83,
   "id": "defe7e60-c0a7-4e76-b403-8d299b67a6b3",
   "metadata": {},
   "outputs": [
    {
     "data": {
      "text/plain": [
       "id                  0\n",
       "age                 0\n",
       "bp                  0\n",
       "sg                  0\n",
       "al                  0\n",
       "su                  0\n",
       "rbc                 0\n",
       "pc                  0\n",
       "pcc                 0\n",
       "ba                  0\n",
       "bgr                 0\n",
       "bu                  0\n",
       "sc                  0\n",
       "sod                 0\n",
       "pot                 0\n",
       "hemo                0\n",
       "pcv                 0\n",
       "wc                105\n",
       "rc                130\n",
       "htn                 2\n",
       "dm                  2\n",
       "cad                 2\n",
       "appet               1\n",
       "pe                  1\n",
       "ane                 1\n",
       "classification      0\n",
       "dtype: int64"
      ]
     },
     "execution_count": 83,
     "metadata": {},
     "output_type": "execute_result"
    }
   ],
   "source": [
    "df.isna().sum()"
   ]
  },
  {
   "cell_type": "markdown",
   "id": "6e5ec829-bfd4-407d-8c30-4263a2371d32",
   "metadata": {},
   "source": [
    "### wc: White blood cell (WBC) count in the patient's blood (e.g. 7000, 8000, etc.)"
   ]
  },
  {
   "cell_type": "code",
   "execution_count": 84,
   "id": "e8c179bb-a748-4a8a-94d2-18560d32b824",
   "metadata": {},
   "outputs": [
    {
     "data": {
      "text/plain": [
       "dtype('O')"
      ]
     },
     "execution_count": 84,
     "metadata": {},
     "output_type": "execute_result"
    }
   ],
   "source": [
    "df['wc'].dtype"
   ]
  },
  {
   "cell_type": "code",
   "execution_count": 85,
   "id": "74c2f09e-288c-40a5-8e73-b664d0c3bf37",
   "metadata": {},
   "outputs": [
    {
     "data": {
      "text/plain": [
       "wc\n",
       "9800     11\n",
       "6700     10\n",
       "9200      9\n",
       "9600      9\n",
       "7200      9\n",
       "         ..\n",
       "19100     1\n",
       "\\t?       1\n",
       "12300     1\n",
       "14900     1\n",
       "12700     1\n",
       "Name: count, Length: 92, dtype: int64"
      ]
     },
     "execution_count": 85,
     "metadata": {},
     "output_type": "execute_result"
    }
   ],
   "source": [
    "df['wc'].value_counts()"
   ]
  },
  {
   "cell_type": "code",
   "execution_count": 86,
   "id": "2080a737-5a72-4492-8b2f-5a508153ccdf",
   "metadata": {},
   "outputs": [
    {
     "data": {
      "text/plain": [
       "dtype('float64')"
      ]
     },
     "execution_count": 86,
     "metadata": {},
     "output_type": "execute_result"
    }
   ],
   "source": [
    "# converting 'wc' column datatype to numeric data type\n",
    "df['wc'] = pd.to_numeric(df['wc'], errors='coerce')\n",
    "df['wc'].dtype"
   ]
  },
  {
   "cell_type": "code",
   "execution_count": 87,
   "id": "d6ffb0ee-a94d-45fd-83f0-607bde5fac66",
   "metadata": {},
   "outputs": [
    {
     "data": {
      "text/plain": [
       "count      294.000000\n",
       "mean      8406.122449\n",
       "std       2944.474190\n",
       "min       2200.000000\n",
       "25%       6500.000000\n",
       "50%       8000.000000\n",
       "75%       9800.000000\n",
       "max      26400.000000\n",
       "Name: wc, dtype: float64"
      ]
     },
     "execution_count": 87,
     "metadata": {},
     "output_type": "execute_result"
    }
   ],
   "source": [
    "df['wc'].describe()"
   ]
  },
  {
   "cell_type": "code",
   "execution_count": 88,
   "id": "3e1cbe76-780e-4f8f-a7e1-b792f9a1cbd2",
   "metadata": {},
   "outputs": [
    {
     "data": {
      "text/plain": [
       "id                  0\n",
       "age                 0\n",
       "bp                  0\n",
       "sg                  0\n",
       "al                  0\n",
       "su                  0\n",
       "rbc                 0\n",
       "pc                  0\n",
       "pcc                 0\n",
       "ba                  0\n",
       "bgr                 0\n",
       "bu                  0\n",
       "sc                  0\n",
       "sod                 0\n",
       "pot                 0\n",
       "hemo                0\n",
       "pcv                 0\n",
       "wc                  0\n",
       "rc                130\n",
       "htn                 2\n",
       "dm                  2\n",
       "cad                 2\n",
       "appet               1\n",
       "pe                  1\n",
       "ane                 1\n",
       "classification      0\n",
       "dtype: int64"
      ]
     },
     "execution_count": 88,
     "metadata": {},
     "output_type": "execute_result"
    }
   ],
   "source": [
    "df['wc'].fillna(df['wc'].mean(), inplace=True)\n",
    "df.isna().sum()"
   ]
  },
  {
   "cell_type": "markdown",
   "id": "288d6539-86c0-454a-9cc1-a33d9eedc7f5",
   "metadata": {},
   "source": [
    "### rc: Red blood cell (RBC) count in the patient's blood (e.g. 4.5, 5.0, etc.)"
   ]
  },
  {
   "cell_type": "code",
   "execution_count": 89,
   "id": "d962e574-a2aa-4454-b39a-b7d1f4c82f9a",
   "metadata": {},
   "outputs": [
    {
     "data": {
      "text/plain": [
       "dtype('O')"
      ]
     },
     "execution_count": 89,
     "metadata": {},
     "output_type": "execute_result"
    }
   ],
   "source": [
    "df['rc'].dtype"
   ]
  },
  {
   "cell_type": "code",
   "execution_count": 90,
   "id": "214cf96f-331f-4de8-8945-89e6d2a94797",
   "metadata": {},
   "outputs": [
    {
     "data": {
      "text/plain": [
       "array(['5.2', nan, '3.9', '4.6', '4.4', '5', '4.0', '3.7', '3.8', '3.4',\n",
       "       '2.6', '2.8', '4.3', '3.2', '3.6', '4', '4.1', '4.9', '2.5', '4.2',\n",
       "       '4.5', '3.1', '4.7', '3.5', '6.0', '5.0', '2.1', '5.6', '2.3',\n",
       "       '2.9', '2.7', '8.0', '3.3', '3.0', '3', '2.4', '4.8', '\\t?', '5.4',\n",
       "       '6.1', '6.2', '6.3', '5.1', '5.8', '5.5', '5.3', '6.4', '5.7',\n",
       "       '5.9', '6.5'], dtype=object)"
      ]
     },
     "execution_count": 90,
     "metadata": {},
     "output_type": "execute_result"
    }
   ],
   "source": [
    "df['rc'].unique()"
   ]
  },
  {
   "cell_type": "code",
   "execution_count": 91,
   "id": "74e9f518-83e1-45c3-9b37-d94b3594341b",
   "metadata": {},
   "outputs": [
    {
     "data": {
      "text/plain": [
       "rc\n",
       "5.2    18\n",
       "4.5    16\n",
       "4.9    14\n",
       "4.7    11\n",
       "4.8    10\n",
       "3.9    10\n",
       "4.6     9\n",
       "3.4     9\n",
       "5.9     8\n",
       "5.5     8\n",
       "6.1     8\n",
       "5.0     8\n",
       "3.7     8\n",
       "5.3     7\n",
       "5.8     7\n",
       "5.4     7\n",
       "3.8     7\n",
       "5.6     6\n",
       "4.3     6\n",
       "4.2     6\n",
       "3.2     5\n",
       "4.4     5\n",
       "5.7     5\n",
       "6.4     5\n",
       "5.1     5\n",
       "6.2     5\n",
       "6.5     5\n",
       "4.1     5\n",
       "3.6     4\n",
       "6.3     4\n",
       "6.0     4\n",
       "4.0     3\n",
       "3.3     3\n",
       "4       3\n",
       "3.5     3\n",
       "2.9     2\n",
       "3.1     2\n",
       "2.6     2\n",
       "2.1     2\n",
       "2.5     2\n",
       "2.8     2\n",
       "3.0     2\n",
       "2.7     2\n",
       "5       2\n",
       "2.3     1\n",
       "\\t?     1\n",
       "2.4     1\n",
       "3       1\n",
       "8.0     1\n",
       "Name: count, dtype: int64"
      ]
     },
     "execution_count": 91,
     "metadata": {},
     "output_type": "execute_result"
    }
   ],
   "source": [
    "df['rc'].value_counts()"
   ]
  },
  {
   "cell_type": "code",
   "execution_count": 92,
   "id": "7ae1cf0e-09c6-43b7-8be4-0a6b3877b866",
   "metadata": {},
   "outputs": [
    {
     "data": {
      "text/plain": [
       "dtype('float64')"
      ]
     },
     "execution_count": 92,
     "metadata": {},
     "output_type": "execute_result"
    }
   ],
   "source": [
    "# changing 'rc' column  to numeric data type\n",
    "df['rc'] = pd.to_numeric(df['rc'], errors= 'coerce')\n",
    "df['rc'].dtype"
   ]
  },
  {
   "cell_type": "code",
   "execution_count": 93,
   "id": "52e0bbfe-01c3-46af-bd57-2ff194fc05ca",
   "metadata": {},
   "outputs": [
    {
     "data": {
      "text/plain": [
       "id                0\n",
       "age               0\n",
       "bp                0\n",
       "sg                0\n",
       "al                0\n",
       "su                0\n",
       "rbc               0\n",
       "pc                0\n",
       "pcc               0\n",
       "ba                0\n",
       "bgr               0\n",
       "bu                0\n",
       "sc                0\n",
       "sod               0\n",
       "pot               0\n",
       "hemo              0\n",
       "pcv               0\n",
       "wc                0\n",
       "rc                0\n",
       "htn               2\n",
       "dm                2\n",
       "cad               2\n",
       "appet             1\n",
       "pe                1\n",
       "ane               1\n",
       "classification    0\n",
       "dtype: int64"
      ]
     },
     "execution_count": 93,
     "metadata": {},
     "output_type": "execute_result"
    }
   ],
   "source": [
    "df['rc'].fillna(df['rc'].mean(), inplace=True)\n",
    "df.isna().sum()"
   ]
  },
  {
   "cell_type": "markdown",
   "id": "c6150520-2b49-4988-ba03-57c38d8e38e3",
   "metadata": {},
   "source": [
    "### htn: Presence of hypertension (e.g. yes, no)"
   ]
  },
  {
   "cell_type": "code",
   "execution_count": 94,
   "id": "845ff03a-3889-4bf8-8a2a-2d48dd197149",
   "metadata": {},
   "outputs": [
    {
     "data": {
      "text/plain": [
       "dtype('O')"
      ]
     },
     "execution_count": 94,
     "metadata": {},
     "output_type": "execute_result"
    }
   ],
   "source": [
    "df['htn'].dtype"
   ]
  },
  {
   "cell_type": "code",
   "execution_count": 95,
   "id": "0fad701f-2ded-4384-8240-26f7a69cb221",
   "metadata": {},
   "outputs": [
    {
     "data": {
      "text/plain": [
       "array(['yes', 'no', nan], dtype=object)"
      ]
     },
     "execution_count": 95,
     "metadata": {},
     "output_type": "execute_result"
    }
   ],
   "source": [
    "df['htn'].unique()"
   ]
  },
  {
   "cell_type": "code",
   "execution_count": 96,
   "id": "2a5888d6-e7a9-4568-be29-f986528f8331",
   "metadata": {},
   "outputs": [
    {
     "data": {
      "text/plain": [
       "htn\n",
       "no     251\n",
       "yes    147\n",
       "Name: count, dtype: int64"
      ]
     },
     "execution_count": 96,
     "metadata": {},
     "output_type": "execute_result"
    }
   ],
   "source": [
    "df['htn'].value_counts()"
   ]
  },
  {
   "cell_type": "code",
   "execution_count": 97,
   "id": "c63742da-9d78-425b-8e46-958664a5f943",
   "metadata": {},
   "outputs": [
    {
     "data": {
      "text/plain": [
       "id                0\n",
       "age               0\n",
       "bp                0\n",
       "sg                0\n",
       "al                0\n",
       "su                0\n",
       "rbc               0\n",
       "pc                0\n",
       "pcc               0\n",
       "ba                0\n",
       "bgr               0\n",
       "bu                0\n",
       "sc                0\n",
       "sod               0\n",
       "pot               0\n",
       "hemo              0\n",
       "pcv               0\n",
       "wc                0\n",
       "rc                0\n",
       "htn               0\n",
       "dm                2\n",
       "cad               2\n",
       "appet             1\n",
       "pe                1\n",
       "ane               1\n",
       "classification    0\n",
       "dtype: int64"
      ]
     },
     "execution_count": 97,
     "metadata": {},
     "output_type": "execute_result"
    }
   ],
   "source": [
    "df['htn'].fillna(df['htn'].mode()[0] ,inplace=True)\n",
    "df.isna().sum()"
   ]
  },
  {
   "cell_type": "markdown",
   "id": "5d0d1d23-4260-4861-a954-9321a33acdb5",
   "metadata": {},
   "source": [
    "### dm: Presence of diabetes mellitus (e.g. yes, no)"
   ]
  },
  {
   "cell_type": "code",
   "execution_count": 98,
   "id": "73de9e1b-e104-44e9-972b-943fdd0bbd18",
   "metadata": {},
   "outputs": [
    {
     "data": {
      "text/plain": [
       "array(['yes', 'no', ' yes', '\\tno', '\\tyes', nan], dtype=object)"
      ]
     },
     "execution_count": 98,
     "metadata": {},
     "output_type": "execute_result"
    }
   ],
   "source": [
    "df['dm'].unique()"
   ]
  },
  {
   "cell_type": "code",
   "execution_count": 99,
   "id": "7e41278d-5ba8-45fb-b18b-a678e1450c85",
   "metadata": {},
   "outputs": [
    {
     "data": {
      "text/plain": [
       "dm\n",
       "no       258\n",
       "yes      134\n",
       "\\tno       3\n",
       "\\tyes      2\n",
       " yes       1\n",
       "Name: count, dtype: int64"
      ]
     },
     "execution_count": 99,
     "metadata": {},
     "output_type": "execute_result"
    }
   ],
   "source": [
    "df['dm'].value_counts()"
   ]
  },
  {
   "cell_type": "code",
   "execution_count": 100,
   "id": "4c3d22a7-b569-4952-ab1e-3ccd928caa81",
   "metadata": {},
   "outputs": [
    {
     "data": {
      "text/plain": [
       "dm\n",
       "no     261\n",
       "yes    137\n",
       "Name: count, dtype: int64"
      ]
     },
     "execution_count": 100,
     "metadata": {},
     "output_type": "execute_result"
    }
   ],
   "source": [
    "df['dm'] = df['dm'].replace('\\tno' , 'no')\n",
    "df['dm'] = df['dm'].replace(['\\tyes',' yes'] , 'yes')\n",
    "df['dm'].value_counts()"
   ]
  },
  {
   "cell_type": "code",
   "execution_count": 101,
   "id": "2c124c82-f39a-4e76-9255-fdc07b1dbeb6",
   "metadata": {},
   "outputs": [
    {
     "data": {
      "text/plain": [
       "2"
      ]
     },
     "execution_count": 101,
     "metadata": {},
     "output_type": "execute_result"
    }
   ],
   "source": [
    "df['dm'].isna().sum()"
   ]
  },
  {
   "cell_type": "code",
   "execution_count": 102,
   "id": "2a38a45c-e380-4022-8d7d-aa83997dd189",
   "metadata": {},
   "outputs": [
    {
     "data": {
      "text/plain": [
       "id                0\n",
       "age               0\n",
       "bp                0\n",
       "sg                0\n",
       "al                0\n",
       "su                0\n",
       "rbc               0\n",
       "pc                0\n",
       "pcc               0\n",
       "ba                0\n",
       "bgr               0\n",
       "bu                0\n",
       "sc                0\n",
       "sod               0\n",
       "pot               0\n",
       "hemo              0\n",
       "pcv               0\n",
       "wc                0\n",
       "rc                0\n",
       "htn               0\n",
       "dm                0\n",
       "cad               2\n",
       "appet             1\n",
       "pe                1\n",
       "ane               1\n",
       "classification    0\n",
       "dtype: int64"
      ]
     },
     "execution_count": 102,
     "metadata": {},
     "output_type": "execute_result"
    }
   ],
   "source": [
    "df['dm'].fillna(df['dm'].mode()[0], inplace = True)\n",
    "df.isna().sum()"
   ]
  },
  {
   "cell_type": "markdown",
   "id": "ecc57065-73d2-4465-81f2-d77e4c18baf3",
   "metadata": {},
   "source": [
    "### cad: Presence of coronary artery disease (e.g. yes, no)"
   ]
  },
  {
   "cell_type": "code",
   "execution_count": 103,
   "id": "53113d98-70f0-4da4-922c-8426a89a4a2c",
   "metadata": {},
   "outputs": [
    {
     "data": {
      "text/plain": [
       "cad\n",
       "no      362\n",
       "yes      34\n",
       "\\tno      2\n",
       "Name: count, dtype: int64"
      ]
     },
     "execution_count": 103,
     "metadata": {},
     "output_type": "execute_result"
    }
   ],
   "source": [
    "df['cad'].value_counts()"
   ]
  },
  {
   "cell_type": "code",
   "execution_count": 104,
   "id": "d0aa5059-432d-48da-b7cd-de88345e73eb",
   "metadata": {},
   "outputs": [],
   "source": [
    "df['cad'] = df['cad'].replace('\\tno', 'no')"
   ]
  },
  {
   "cell_type": "code",
   "execution_count": 105,
   "id": "3c40f0f9-4bf7-4c7e-83ed-f59170786ad6",
   "metadata": {},
   "outputs": [
    {
     "data": {
      "text/plain": [
       "cad\n",
       "no     364\n",
       "yes     34\n",
       "Name: count, dtype: int64"
      ]
     },
     "execution_count": 105,
     "metadata": {},
     "output_type": "execute_result"
    }
   ],
   "source": [
    "df['cad'].value_counts()"
   ]
  },
  {
   "cell_type": "code",
   "execution_count": 106,
   "id": "13bc84dc-b6b4-4a1c-ae9e-4049b9f79835",
   "metadata": {},
   "outputs": [
    {
     "data": {
      "text/plain": [
       "'no'"
      ]
     },
     "execution_count": 106,
     "metadata": {},
     "output_type": "execute_result"
    }
   ],
   "source": [
    "df['cad'].mode()[0]"
   ]
  },
  {
   "cell_type": "code",
   "execution_count": 107,
   "id": "41a3de2c-8fa3-440b-ae68-3daac3f34efe",
   "metadata": {},
   "outputs": [],
   "source": [
    "df['cad'].fillna(df['cad'].mode()[0], inplace = True)"
   ]
  },
  {
   "cell_type": "code",
   "execution_count": 108,
   "id": "36995348-3894-4e82-a475-612671652538",
   "metadata": {},
   "outputs": [
    {
     "data": {
      "text/plain": [
       "id                0\n",
       "age               0\n",
       "bp                0\n",
       "sg                0\n",
       "al                0\n",
       "su                0\n",
       "rbc               0\n",
       "pc                0\n",
       "pcc               0\n",
       "ba                0\n",
       "bgr               0\n",
       "bu                0\n",
       "sc                0\n",
       "sod               0\n",
       "pot               0\n",
       "hemo              0\n",
       "pcv               0\n",
       "wc                0\n",
       "rc                0\n",
       "htn               0\n",
       "dm                0\n",
       "cad               0\n",
       "appet             1\n",
       "pe                1\n",
       "ane               1\n",
       "classification    0\n",
       "dtype: int64"
      ]
     },
     "execution_count": 108,
     "metadata": {},
     "output_type": "execute_result"
    }
   ],
   "source": [
    "df.isna().sum()"
   ]
  },
  {
   "cell_type": "markdown",
   "id": "0dd51157-2c72-4ca6-8b14-c5a00a26c133",
   "metadata": {},
   "source": [
    "### appet: Appetite of the patient (e.g. good, poor)"
   ]
  },
  {
   "cell_type": "code",
   "execution_count": 109,
   "id": "4f7d2fdb-9c93-4622-9cdf-31531c9ee65a",
   "metadata": {},
   "outputs": [
    {
     "data": {
      "text/plain": [
       "dtype('O')"
      ]
     },
     "execution_count": 109,
     "metadata": {},
     "output_type": "execute_result"
    }
   ],
   "source": [
    "df['appet'].dtype"
   ]
  },
  {
   "cell_type": "code",
   "execution_count": 110,
   "id": "83258c52-af30-49b6-b841-755963f176ed",
   "metadata": {},
   "outputs": [
    {
     "data": {
      "text/plain": [
       "array(['good', 'poor', nan], dtype=object)"
      ]
     },
     "execution_count": 110,
     "metadata": {},
     "output_type": "execute_result"
    }
   ],
   "source": [
    "df['appet'].unique()"
   ]
  },
  {
   "cell_type": "code",
   "execution_count": 111,
   "id": "7e402da0-9f09-49ab-ab50-6899f1fd70ee",
   "metadata": {},
   "outputs": [
    {
     "data": {
      "text/plain": [
       "appet\n",
       "good    317\n",
       "poor     82\n",
       "Name: count, dtype: int64"
      ]
     },
     "execution_count": 111,
     "metadata": {},
     "output_type": "execute_result"
    }
   ],
   "source": [
    "df['appet'].value_counts()"
   ]
  },
  {
   "cell_type": "code",
   "execution_count": 112,
   "id": "d1262233-6b38-431b-95b7-a65b866767dc",
   "metadata": {},
   "outputs": [
    {
     "data": {
      "text/plain": [
       "id                0\n",
       "age               0\n",
       "bp                0\n",
       "sg                0\n",
       "al                0\n",
       "su                0\n",
       "rbc               0\n",
       "pc                0\n",
       "pcc               0\n",
       "ba                0\n",
       "bgr               0\n",
       "bu                0\n",
       "sc                0\n",
       "sod               0\n",
       "pot               0\n",
       "hemo              0\n",
       "pcv               0\n",
       "wc                0\n",
       "rc                0\n",
       "htn               0\n",
       "dm                0\n",
       "cad               0\n",
       "appet             0\n",
       "pe                1\n",
       "ane               1\n",
       "classification    0\n",
       "dtype: int64"
      ]
     },
     "execution_count": 112,
     "metadata": {},
     "output_type": "execute_result"
    }
   ],
   "source": [
    "df['appet'].fillna(df['appet'].mode()[0], inplace=True)\n",
    "df.isna().sum()"
   ]
  },
  {
   "cell_type": "markdown",
   "id": "c19f35c3-1949-4264-9bff-98d2003a42eb",
   "metadata": {},
   "source": [
    "### pe: Presence of pedal edema (e.g. yes, no)"
   ]
  },
  {
   "cell_type": "code",
   "execution_count": 113,
   "id": "411392c5-6e5b-4d72-8d98-219f9a72ec28",
   "metadata": {},
   "outputs": [
    {
     "data": {
      "text/plain": [
       "array(['no', 'yes', nan], dtype=object)"
      ]
     },
     "execution_count": 113,
     "metadata": {},
     "output_type": "execute_result"
    }
   ],
   "source": [
    "df['pe'].unique()"
   ]
  },
  {
   "cell_type": "code",
   "execution_count": 114,
   "id": "03e3df01-003c-43fd-a33d-60a20191396a",
   "metadata": {},
   "outputs": [
    {
     "data": {
      "text/plain": [
       "pe\n",
       "no     323\n",
       "yes     76\n",
       "Name: count, dtype: int64"
      ]
     },
     "execution_count": 114,
     "metadata": {},
     "output_type": "execute_result"
    }
   ],
   "source": [
    "df['pe'].value_counts()"
   ]
  },
  {
   "cell_type": "code",
   "execution_count": 115,
   "id": "e0722f2a-6ff4-4e5b-95d2-5c870b3f9ffb",
   "metadata": {},
   "outputs": [
    {
     "data": {
      "text/plain": [
       "id                0\n",
       "age               0\n",
       "bp                0\n",
       "sg                0\n",
       "al                0\n",
       "su                0\n",
       "rbc               0\n",
       "pc                0\n",
       "pcc               0\n",
       "ba                0\n",
       "bgr               0\n",
       "bu                0\n",
       "sc                0\n",
       "sod               0\n",
       "pot               0\n",
       "hemo              0\n",
       "pcv               0\n",
       "wc                0\n",
       "rc                0\n",
       "htn               0\n",
       "dm                0\n",
       "cad               0\n",
       "appet             0\n",
       "pe                0\n",
       "ane               1\n",
       "classification    0\n",
       "dtype: int64"
      ]
     },
     "execution_count": 115,
     "metadata": {},
     "output_type": "execute_result"
    }
   ],
   "source": [
    "df['pe'].fillna(df['pe'].mode()[0], inplace=True)\n",
    "df.isna().sum()"
   ]
  },
  {
   "cell_type": "markdown",
   "id": "6a1a8164-913c-4809-a6e4-c81e17751752",
   "metadata": {},
   "source": [
    "### ane: Presence of anemia (e.g. yes, no)"
   ]
  },
  {
   "cell_type": "code",
   "execution_count": 116,
   "id": "8fee9952-05fb-455f-8e55-c8be68a16802",
   "metadata": {},
   "outputs": [
    {
     "data": {
      "text/plain": [
       "array(['no', 'yes', nan], dtype=object)"
      ]
     },
     "execution_count": 116,
     "metadata": {},
     "output_type": "execute_result"
    }
   ],
   "source": [
    "df['ane'].unique()"
   ]
  },
  {
   "cell_type": "code",
   "execution_count": 117,
   "id": "2999f90f-1c14-492c-9550-3edada84e88f",
   "metadata": {},
   "outputs": [
    {
     "data": {
      "text/plain": [
       "id                0\n",
       "age               0\n",
       "bp                0\n",
       "sg                0\n",
       "al                0\n",
       "su                0\n",
       "rbc               0\n",
       "pc                0\n",
       "pcc               0\n",
       "ba                0\n",
       "bgr               0\n",
       "bu                0\n",
       "sc                0\n",
       "sod               0\n",
       "pot               0\n",
       "hemo              0\n",
       "pcv               0\n",
       "wc                0\n",
       "rc                0\n",
       "htn               0\n",
       "dm                0\n",
       "cad               0\n",
       "appet             0\n",
       "pe                0\n",
       "ane               0\n",
       "classification    0\n",
       "dtype: int64"
      ]
     },
     "execution_count": 117,
     "metadata": {},
     "output_type": "execute_result"
    }
   ],
   "source": [
    "df['ane'].fillna(df['ane'].mode()[0], inplace=True)\n",
    "df.isna().sum()"
   ]
  },
  {
   "cell_type": "markdown",
   "id": "98236f09-7fc0-4faf-9898-fd359e60ef4c",
   "metadata": {},
   "source": [
    "### classification: Diagnosis of kidney disease (e.g. ckd as chronic kidney disease, notckd as not chronic kidney disease , etc.)"
   ]
  },
  {
   "cell_type": "code",
   "execution_count": 118,
   "id": "9b825221-411d-4989-93f5-f2b2541740f7",
   "metadata": {},
   "outputs": [
    {
     "data": {
      "text/plain": [
       "array(['ckd', 'ckd\\t', 'notckd'], dtype=object)"
      ]
     },
     "execution_count": 118,
     "metadata": {},
     "output_type": "execute_result"
    }
   ],
   "source": [
    "df['classification'].unique()"
   ]
  },
  {
   "cell_type": "code",
   "execution_count": 119,
   "id": "f736f2fc-d84d-4c9b-ad4c-e77626426d5b",
   "metadata": {},
   "outputs": [
    {
     "data": {
      "text/plain": [
       "classification\n",
       "ckd       248\n",
       "notckd    150\n",
       "ckd\\t       2\n",
       "Name: count, dtype: int64"
      ]
     },
     "execution_count": 119,
     "metadata": {},
     "output_type": "execute_result"
    }
   ],
   "source": [
    "df['classification'].value_counts()"
   ]
  },
  {
   "cell_type": "code",
   "execution_count": 120,
   "id": "54ab2719-a080-4774-b2b9-830e1eee298d",
   "metadata": {},
   "outputs": [],
   "source": [
    "df['classification'] = df['classification'].replace('ckd\\t', 'ckd')"
   ]
  },
  {
   "cell_type": "code",
   "execution_count": 121,
   "id": "f106ca8e-b3b9-40a0-b85a-b41e8d0e9b8c",
   "metadata": {},
   "outputs": [
    {
     "data": {
      "text/plain": [
       "array(['ckd', 'notckd'], dtype=object)"
      ]
     },
     "execution_count": 121,
     "metadata": {},
     "output_type": "execute_result"
    }
   ],
   "source": [
    "df['classification'].unique()"
   ]
  },
  {
   "cell_type": "code",
   "execution_count": 122,
   "id": "e2ae8e4a-e9d0-461a-bf6b-55108585a2db",
   "metadata": {},
   "outputs": [
    {
     "data": {
      "text/plain": [
       "classification\n",
       "ckd       250\n",
       "notckd    150\n",
       "Name: count, dtype: int64"
      ]
     },
     "execution_count": 122,
     "metadata": {},
     "output_type": "execute_result"
    }
   ],
   "source": [
    "df['classification'].value_counts()"
   ]
  },
  {
   "cell_type": "code",
   "execution_count": 123,
   "id": "f47db798-7284-4023-b9b1-b5c98f4cafb2",
   "metadata": {},
   "outputs": [],
   "source": [
    "df.to_csv('CleanedKidneyData.csv')"
   ]
  },
  {
   "cell_type": "markdown",
   "id": "d3ac4557-f6a2-42c5-a0cc-73e3794444a4",
   "metadata": {},
   "source": [
    "# Machine Learning Model (Classification)"
   ]
  },
  {
   "cell_type": "code",
   "execution_count": 124,
   "id": "29ef3c00-1e12-4315-84a1-d473ad491c6a",
   "metadata": {},
   "outputs": [
    {
     "data": {
      "text/plain": [
       "Index(['id', 'age', 'bp', 'sg', 'al', 'su', 'bgr', 'bu', 'sc', 'sod', 'pot',\n",
       "       'hemo', 'pcv', 'wc', 'rc'],\n",
       "      dtype='object')"
      ]
     },
     "execution_count": 124,
     "metadata": {},
     "output_type": "execute_result"
    }
   ],
   "source": [
    "df.describe().columns"
   ]
  },
  {
   "cell_type": "code",
   "execution_count": 125,
   "id": "0417cffb-cef2-4a1a-8c51-dac6a9487a82",
   "metadata": {},
   "outputs": [],
   "source": [
    "# df1 is a dataframe consisting of only categorical datatypes\n",
    "df1 = df.drop(df.describe().columns, axis = 1)"
   ]
  },
  {
   "cell_type": "code",
   "execution_count": 126,
   "id": "0f818318-7427-4818-bf94-4beeaf1c8ed1",
   "metadata": {},
   "outputs": [
    {
     "name": "stdout",
     "output_type": "stream",
     "text": [
      "<class 'pandas.core.frame.DataFrame'>\n",
      "RangeIndex: 400 entries, 0 to 399\n",
      "Data columns (total 11 columns):\n",
      " #   Column          Non-Null Count  Dtype \n",
      "---  ------          --------------  ----- \n",
      " 0   rbc             400 non-null    object\n",
      " 1   pc              400 non-null    object\n",
      " 2   pcc             400 non-null    object\n",
      " 3   ba              400 non-null    object\n",
      " 4   htn             400 non-null    object\n",
      " 5   dm              400 non-null    object\n",
      " 6   cad             400 non-null    object\n",
      " 7   appet           400 non-null    object\n",
      " 8   pe              400 non-null    object\n",
      " 9   ane             400 non-null    object\n",
      " 10  classification  400 non-null    object\n",
      "dtypes: object(11)\n",
      "memory usage: 34.5+ KB\n"
     ]
    }
   ],
   "source": [
    "df1.info()"
   ]
  },
  {
   "cell_type": "code",
   "execution_count": 127,
   "id": "39656e4e-97e4-48ad-8a3c-e7edb3dfe7c7",
   "metadata": {},
   "outputs": [
    {
     "name": "stdout",
     "output_type": "stream",
     "text": [
      "['normal' 'abnormal']\n",
      "['normal' 'abnormal']\n",
      "['notpresent' 'present']\n",
      "['notpresent' 'present']\n",
      "['yes' 'no']\n",
      "['yes' 'no']\n",
      "['no' 'yes']\n",
      "['good' 'poor']\n",
      "['no' 'yes']\n",
      "['no' 'yes']\n",
      "['ckd' 'notckd']\n"
     ]
    }
   ],
   "source": [
    "for column in df1.columns:\n",
    "    print(df1[column].unique())"
   ]
  },
  {
   "cell_type": "code",
   "execution_count": 128,
   "id": "710b02b7-cad7-4d55-8c68-ff5ad9389fa2",
   "metadata": {},
   "outputs": [
    {
     "data": {
      "text/html": [
       "<div>\n",
       "<style scoped>\n",
       "    .dataframe tbody tr th:only-of-type {\n",
       "        vertical-align: middle;\n",
       "    }\n",
       "\n",
       "    .dataframe tbody tr th {\n",
       "        vertical-align: top;\n",
       "    }\n",
       "\n",
       "    .dataframe thead th {\n",
       "        text-align: right;\n",
       "    }\n",
       "</style>\n",
       "<table border=\"1\" class=\"dataframe\">\n",
       "  <thead>\n",
       "    <tr style=\"text-align: right;\">\n",
       "      <th></th>\n",
       "      <th>id</th>\n",
       "      <th>age</th>\n",
       "      <th>bp</th>\n",
       "      <th>sg</th>\n",
       "      <th>al</th>\n",
       "      <th>su</th>\n",
       "      <th>rbc</th>\n",
       "      <th>pc</th>\n",
       "      <th>pcc</th>\n",
       "      <th>ba</th>\n",
       "      <th>...</th>\n",
       "      <th>pcv</th>\n",
       "      <th>wc</th>\n",
       "      <th>rc</th>\n",
       "      <th>htn</th>\n",
       "      <th>dm</th>\n",
       "      <th>cad</th>\n",
       "      <th>appet</th>\n",
       "      <th>pe</th>\n",
       "      <th>ane</th>\n",
       "      <th>classification</th>\n",
       "    </tr>\n",
       "  </thead>\n",
       "  <tbody>\n",
       "    <tr>\n",
       "      <th>0</th>\n",
       "      <td>0</td>\n",
       "      <td>48.0</td>\n",
       "      <td>80.0</td>\n",
       "      <td>1.020</td>\n",
       "      <td>1.0</td>\n",
       "      <td>0.0</td>\n",
       "      <td>normal</td>\n",
       "      <td>normal</td>\n",
       "      <td>notpresent</td>\n",
       "      <td>notpresent</td>\n",
       "      <td>...</td>\n",
       "      <td>44.0</td>\n",
       "      <td>7800.0</td>\n",
       "      <td>5.200000</td>\n",
       "      <td>yes</td>\n",
       "      <td>yes</td>\n",
       "      <td>no</td>\n",
       "      <td>good</td>\n",
       "      <td>no</td>\n",
       "      <td>no</td>\n",
       "      <td>ckd</td>\n",
       "    </tr>\n",
       "    <tr>\n",
       "      <th>1</th>\n",
       "      <td>1</td>\n",
       "      <td>7.0</td>\n",
       "      <td>50.0</td>\n",
       "      <td>1.020</td>\n",
       "      <td>4.0</td>\n",
       "      <td>0.0</td>\n",
       "      <td>normal</td>\n",
       "      <td>normal</td>\n",
       "      <td>notpresent</td>\n",
       "      <td>notpresent</td>\n",
       "      <td>...</td>\n",
       "      <td>38.0</td>\n",
       "      <td>6000.0</td>\n",
       "      <td>4.707435</td>\n",
       "      <td>no</td>\n",
       "      <td>no</td>\n",
       "      <td>no</td>\n",
       "      <td>good</td>\n",
       "      <td>no</td>\n",
       "      <td>no</td>\n",
       "      <td>ckd</td>\n",
       "    </tr>\n",
       "    <tr>\n",
       "      <th>2</th>\n",
       "      <td>2</td>\n",
       "      <td>62.0</td>\n",
       "      <td>80.0</td>\n",
       "      <td>1.010</td>\n",
       "      <td>2.0</td>\n",
       "      <td>3.0</td>\n",
       "      <td>normal</td>\n",
       "      <td>normal</td>\n",
       "      <td>notpresent</td>\n",
       "      <td>notpresent</td>\n",
       "      <td>...</td>\n",
       "      <td>31.0</td>\n",
       "      <td>7500.0</td>\n",
       "      <td>4.707435</td>\n",
       "      <td>no</td>\n",
       "      <td>yes</td>\n",
       "      <td>no</td>\n",
       "      <td>poor</td>\n",
       "      <td>no</td>\n",
       "      <td>yes</td>\n",
       "      <td>ckd</td>\n",
       "    </tr>\n",
       "    <tr>\n",
       "      <th>3</th>\n",
       "      <td>3</td>\n",
       "      <td>48.0</td>\n",
       "      <td>70.0</td>\n",
       "      <td>1.005</td>\n",
       "      <td>4.0</td>\n",
       "      <td>0.0</td>\n",
       "      <td>normal</td>\n",
       "      <td>abnormal</td>\n",
       "      <td>present</td>\n",
       "      <td>notpresent</td>\n",
       "      <td>...</td>\n",
       "      <td>32.0</td>\n",
       "      <td>6700.0</td>\n",
       "      <td>3.900000</td>\n",
       "      <td>yes</td>\n",
       "      <td>no</td>\n",
       "      <td>no</td>\n",
       "      <td>poor</td>\n",
       "      <td>yes</td>\n",
       "      <td>yes</td>\n",
       "      <td>ckd</td>\n",
       "    </tr>\n",
       "    <tr>\n",
       "      <th>4</th>\n",
       "      <td>4</td>\n",
       "      <td>51.0</td>\n",
       "      <td>80.0</td>\n",
       "      <td>1.010</td>\n",
       "      <td>2.0</td>\n",
       "      <td>0.0</td>\n",
       "      <td>normal</td>\n",
       "      <td>normal</td>\n",
       "      <td>notpresent</td>\n",
       "      <td>notpresent</td>\n",
       "      <td>...</td>\n",
       "      <td>35.0</td>\n",
       "      <td>7300.0</td>\n",
       "      <td>4.600000</td>\n",
       "      <td>no</td>\n",
       "      <td>no</td>\n",
       "      <td>no</td>\n",
       "      <td>good</td>\n",
       "      <td>no</td>\n",
       "      <td>no</td>\n",
       "      <td>ckd</td>\n",
       "    </tr>\n",
       "    <tr>\n",
       "      <th>...</th>\n",
       "      <td>...</td>\n",
       "      <td>...</td>\n",
       "      <td>...</td>\n",
       "      <td>...</td>\n",
       "      <td>...</td>\n",
       "      <td>...</td>\n",
       "      <td>...</td>\n",
       "      <td>...</td>\n",
       "      <td>...</td>\n",
       "      <td>...</td>\n",
       "      <td>...</td>\n",
       "      <td>...</td>\n",
       "      <td>...</td>\n",
       "      <td>...</td>\n",
       "      <td>...</td>\n",
       "      <td>...</td>\n",
       "      <td>...</td>\n",
       "      <td>...</td>\n",
       "      <td>...</td>\n",
       "      <td>...</td>\n",
       "      <td>...</td>\n",
       "    </tr>\n",
       "    <tr>\n",
       "      <th>395</th>\n",
       "      <td>395</td>\n",
       "      <td>55.0</td>\n",
       "      <td>80.0</td>\n",
       "      <td>1.020</td>\n",
       "      <td>0.0</td>\n",
       "      <td>0.0</td>\n",
       "      <td>normal</td>\n",
       "      <td>normal</td>\n",
       "      <td>notpresent</td>\n",
       "      <td>notpresent</td>\n",
       "      <td>...</td>\n",
       "      <td>47.0</td>\n",
       "      <td>6700.0</td>\n",
       "      <td>4.900000</td>\n",
       "      <td>no</td>\n",
       "      <td>no</td>\n",
       "      <td>no</td>\n",
       "      <td>good</td>\n",
       "      <td>no</td>\n",
       "      <td>no</td>\n",
       "      <td>notckd</td>\n",
       "    </tr>\n",
       "    <tr>\n",
       "      <th>396</th>\n",
       "      <td>396</td>\n",
       "      <td>42.0</td>\n",
       "      <td>70.0</td>\n",
       "      <td>1.025</td>\n",
       "      <td>0.0</td>\n",
       "      <td>0.0</td>\n",
       "      <td>normal</td>\n",
       "      <td>normal</td>\n",
       "      <td>notpresent</td>\n",
       "      <td>notpresent</td>\n",
       "      <td>...</td>\n",
       "      <td>54.0</td>\n",
       "      <td>7800.0</td>\n",
       "      <td>6.200000</td>\n",
       "      <td>no</td>\n",
       "      <td>no</td>\n",
       "      <td>no</td>\n",
       "      <td>good</td>\n",
       "      <td>no</td>\n",
       "      <td>no</td>\n",
       "      <td>notckd</td>\n",
       "    </tr>\n",
       "    <tr>\n",
       "      <th>397</th>\n",
       "      <td>397</td>\n",
       "      <td>12.0</td>\n",
       "      <td>80.0</td>\n",
       "      <td>1.020</td>\n",
       "      <td>0.0</td>\n",
       "      <td>0.0</td>\n",
       "      <td>normal</td>\n",
       "      <td>normal</td>\n",
       "      <td>notpresent</td>\n",
       "      <td>notpresent</td>\n",
       "      <td>...</td>\n",
       "      <td>49.0</td>\n",
       "      <td>6600.0</td>\n",
       "      <td>5.400000</td>\n",
       "      <td>no</td>\n",
       "      <td>no</td>\n",
       "      <td>no</td>\n",
       "      <td>good</td>\n",
       "      <td>no</td>\n",
       "      <td>no</td>\n",
       "      <td>notckd</td>\n",
       "    </tr>\n",
       "    <tr>\n",
       "      <th>398</th>\n",
       "      <td>398</td>\n",
       "      <td>17.0</td>\n",
       "      <td>60.0</td>\n",
       "      <td>1.025</td>\n",
       "      <td>0.0</td>\n",
       "      <td>0.0</td>\n",
       "      <td>normal</td>\n",
       "      <td>normal</td>\n",
       "      <td>notpresent</td>\n",
       "      <td>notpresent</td>\n",
       "      <td>...</td>\n",
       "      <td>51.0</td>\n",
       "      <td>7200.0</td>\n",
       "      <td>5.900000</td>\n",
       "      <td>no</td>\n",
       "      <td>no</td>\n",
       "      <td>no</td>\n",
       "      <td>good</td>\n",
       "      <td>no</td>\n",
       "      <td>no</td>\n",
       "      <td>notckd</td>\n",
       "    </tr>\n",
       "    <tr>\n",
       "      <th>399</th>\n",
       "      <td>399</td>\n",
       "      <td>58.0</td>\n",
       "      <td>80.0</td>\n",
       "      <td>1.025</td>\n",
       "      <td>0.0</td>\n",
       "      <td>0.0</td>\n",
       "      <td>normal</td>\n",
       "      <td>normal</td>\n",
       "      <td>notpresent</td>\n",
       "      <td>notpresent</td>\n",
       "      <td>...</td>\n",
       "      <td>53.0</td>\n",
       "      <td>6800.0</td>\n",
       "      <td>6.100000</td>\n",
       "      <td>no</td>\n",
       "      <td>no</td>\n",
       "      <td>no</td>\n",
       "      <td>good</td>\n",
       "      <td>no</td>\n",
       "      <td>no</td>\n",
       "      <td>notckd</td>\n",
       "    </tr>\n",
       "  </tbody>\n",
       "</table>\n",
       "<p>400 rows × 26 columns</p>\n",
       "</div>"
      ],
      "text/plain": [
       "      id   age    bp     sg   al   su     rbc        pc         pcc  \\\n",
       "0      0  48.0  80.0  1.020  1.0  0.0  normal    normal  notpresent   \n",
       "1      1   7.0  50.0  1.020  4.0  0.0  normal    normal  notpresent   \n",
       "2      2  62.0  80.0  1.010  2.0  3.0  normal    normal  notpresent   \n",
       "3      3  48.0  70.0  1.005  4.0  0.0  normal  abnormal     present   \n",
       "4      4  51.0  80.0  1.010  2.0  0.0  normal    normal  notpresent   \n",
       "..   ...   ...   ...    ...  ...  ...     ...       ...         ...   \n",
       "395  395  55.0  80.0  1.020  0.0  0.0  normal    normal  notpresent   \n",
       "396  396  42.0  70.0  1.025  0.0  0.0  normal    normal  notpresent   \n",
       "397  397  12.0  80.0  1.020  0.0  0.0  normal    normal  notpresent   \n",
       "398  398  17.0  60.0  1.025  0.0  0.0  normal    normal  notpresent   \n",
       "399  399  58.0  80.0  1.025  0.0  0.0  normal    normal  notpresent   \n",
       "\n",
       "             ba  ...   pcv      wc        rc  htn   dm  cad  appet   pe  ane  \\\n",
       "0    notpresent  ...  44.0  7800.0  5.200000  yes  yes   no   good   no   no   \n",
       "1    notpresent  ...  38.0  6000.0  4.707435   no   no   no   good   no   no   \n",
       "2    notpresent  ...  31.0  7500.0  4.707435   no  yes   no   poor   no  yes   \n",
       "3    notpresent  ...  32.0  6700.0  3.900000  yes   no   no   poor  yes  yes   \n",
       "4    notpresent  ...  35.0  7300.0  4.600000   no   no   no   good   no   no   \n",
       "..          ...  ...   ...     ...       ...  ...  ...  ...    ...  ...  ...   \n",
       "395  notpresent  ...  47.0  6700.0  4.900000   no   no   no   good   no   no   \n",
       "396  notpresent  ...  54.0  7800.0  6.200000   no   no   no   good   no   no   \n",
       "397  notpresent  ...  49.0  6600.0  5.400000   no   no   no   good   no   no   \n",
       "398  notpresent  ...  51.0  7200.0  5.900000   no   no   no   good   no   no   \n",
       "399  notpresent  ...  53.0  6800.0  6.100000   no   no   no   good   no   no   \n",
       "\n",
       "    classification  \n",
       "0              ckd  \n",
       "1              ckd  \n",
       "2              ckd  \n",
       "3              ckd  \n",
       "4              ckd  \n",
       "..             ...  \n",
       "395         notckd  \n",
       "396         notckd  \n",
       "397         notckd  \n",
       "398         notckd  \n",
       "399         notckd  \n",
       "\n",
       "[400 rows x 26 columns]"
      ]
     },
     "execution_count": 128,
     "metadata": {},
     "output_type": "execute_result"
    }
   ],
   "source": [
    "df"
   ]
  },
  {
   "cell_type": "code",
   "execution_count": 129,
   "id": "58d5ca5d-497a-4537-8977-6a65e1d6ad39",
   "metadata": {},
   "outputs": [
    {
     "data": {
      "text/plain": [
       "Index(['id', 'age', 'bp', 'sg', 'al', 'su', 'rbc', 'pc', 'pcc', 'ba', 'bgr',\n",
       "       'bu', 'sc', 'sod', 'pot', 'hemo', 'pcv', 'wc', 'rc', 'htn', 'dm', 'cad',\n",
       "       'appet', 'pe', 'ane', 'classification'],\n",
       "      dtype='object')"
      ]
     },
     "execution_count": 129,
     "metadata": {},
     "output_type": "execute_result"
    }
   ],
   "source": [
    "df.columns"
   ]
  },
  {
   "cell_type": "code",
   "execution_count": 130,
   "id": "53fd84f4-950c-4cc2-880e-228fd8b42db5",
   "metadata": {},
   "outputs": [],
   "source": [
    "#Splitting the Data\n",
    "X = df.drop(['id','age','classification'],axis=1)\n",
    "y = df['classification']"
   ]
  },
  {
   "cell_type": "code",
   "execution_count": 131,
   "id": "8436a478-3a8c-4f91-9f9a-e4ca53ec4451",
   "metadata": {},
   "outputs": [
    {
     "data": {
      "text/html": [
       "<div>\n",
       "<style scoped>\n",
       "    .dataframe tbody tr th:only-of-type {\n",
       "        vertical-align: middle;\n",
       "    }\n",
       "\n",
       "    .dataframe tbody tr th {\n",
       "        vertical-align: top;\n",
       "    }\n",
       "\n",
       "    .dataframe thead th {\n",
       "        text-align: right;\n",
       "    }\n",
       "</style>\n",
       "<table border=\"1\" class=\"dataframe\">\n",
       "  <thead>\n",
       "    <tr style=\"text-align: right;\">\n",
       "      <th></th>\n",
       "      <th>bp</th>\n",
       "      <th>sg</th>\n",
       "      <th>al</th>\n",
       "      <th>su</th>\n",
       "      <th>rbc</th>\n",
       "      <th>pc</th>\n",
       "      <th>pcc</th>\n",
       "      <th>ba</th>\n",
       "      <th>bgr</th>\n",
       "      <th>bu</th>\n",
       "      <th>...</th>\n",
       "      <th>hemo</th>\n",
       "      <th>pcv</th>\n",
       "      <th>wc</th>\n",
       "      <th>rc</th>\n",
       "      <th>htn</th>\n",
       "      <th>dm</th>\n",
       "      <th>cad</th>\n",
       "      <th>appet</th>\n",
       "      <th>pe</th>\n",
       "      <th>ane</th>\n",
       "    </tr>\n",
       "  </thead>\n",
       "  <tbody>\n",
       "    <tr>\n",
       "      <th>0</th>\n",
       "      <td>80.0</td>\n",
       "      <td>1.020</td>\n",
       "      <td>1.0</td>\n",
       "      <td>0.0</td>\n",
       "      <td>normal</td>\n",
       "      <td>normal</td>\n",
       "      <td>notpresent</td>\n",
       "      <td>notpresent</td>\n",
       "      <td>121.0</td>\n",
       "      <td>36.0</td>\n",
       "      <td>...</td>\n",
       "      <td>15.4</td>\n",
       "      <td>44.0</td>\n",
       "      <td>7800.0</td>\n",
       "      <td>5.200000</td>\n",
       "      <td>yes</td>\n",
       "      <td>yes</td>\n",
       "      <td>no</td>\n",
       "      <td>good</td>\n",
       "      <td>no</td>\n",
       "      <td>no</td>\n",
       "    </tr>\n",
       "    <tr>\n",
       "      <th>1</th>\n",
       "      <td>50.0</td>\n",
       "      <td>1.020</td>\n",
       "      <td>4.0</td>\n",
       "      <td>0.0</td>\n",
       "      <td>normal</td>\n",
       "      <td>normal</td>\n",
       "      <td>notpresent</td>\n",
       "      <td>notpresent</td>\n",
       "      <td>99.0</td>\n",
       "      <td>18.0</td>\n",
       "      <td>...</td>\n",
       "      <td>11.3</td>\n",
       "      <td>38.0</td>\n",
       "      <td>6000.0</td>\n",
       "      <td>4.707435</td>\n",
       "      <td>no</td>\n",
       "      <td>no</td>\n",
       "      <td>no</td>\n",
       "      <td>good</td>\n",
       "      <td>no</td>\n",
       "      <td>no</td>\n",
       "    </tr>\n",
       "    <tr>\n",
       "      <th>2</th>\n",
       "      <td>80.0</td>\n",
       "      <td>1.010</td>\n",
       "      <td>2.0</td>\n",
       "      <td>3.0</td>\n",
       "      <td>normal</td>\n",
       "      <td>normal</td>\n",
       "      <td>notpresent</td>\n",
       "      <td>notpresent</td>\n",
       "      <td>423.0</td>\n",
       "      <td>53.0</td>\n",
       "      <td>...</td>\n",
       "      <td>9.6</td>\n",
       "      <td>31.0</td>\n",
       "      <td>7500.0</td>\n",
       "      <td>4.707435</td>\n",
       "      <td>no</td>\n",
       "      <td>yes</td>\n",
       "      <td>no</td>\n",
       "      <td>poor</td>\n",
       "      <td>no</td>\n",
       "      <td>yes</td>\n",
       "    </tr>\n",
       "    <tr>\n",
       "      <th>3</th>\n",
       "      <td>70.0</td>\n",
       "      <td>1.005</td>\n",
       "      <td>4.0</td>\n",
       "      <td>0.0</td>\n",
       "      <td>normal</td>\n",
       "      <td>abnormal</td>\n",
       "      <td>present</td>\n",
       "      <td>notpresent</td>\n",
       "      <td>117.0</td>\n",
       "      <td>56.0</td>\n",
       "      <td>...</td>\n",
       "      <td>11.2</td>\n",
       "      <td>32.0</td>\n",
       "      <td>6700.0</td>\n",
       "      <td>3.900000</td>\n",
       "      <td>yes</td>\n",
       "      <td>no</td>\n",
       "      <td>no</td>\n",
       "      <td>poor</td>\n",
       "      <td>yes</td>\n",
       "      <td>yes</td>\n",
       "    </tr>\n",
       "    <tr>\n",
       "      <th>4</th>\n",
       "      <td>80.0</td>\n",
       "      <td>1.010</td>\n",
       "      <td>2.0</td>\n",
       "      <td>0.0</td>\n",
       "      <td>normal</td>\n",
       "      <td>normal</td>\n",
       "      <td>notpresent</td>\n",
       "      <td>notpresent</td>\n",
       "      <td>106.0</td>\n",
       "      <td>26.0</td>\n",
       "      <td>...</td>\n",
       "      <td>11.6</td>\n",
       "      <td>35.0</td>\n",
       "      <td>7300.0</td>\n",
       "      <td>4.600000</td>\n",
       "      <td>no</td>\n",
       "      <td>no</td>\n",
       "      <td>no</td>\n",
       "      <td>good</td>\n",
       "      <td>no</td>\n",
       "      <td>no</td>\n",
       "    </tr>\n",
       "    <tr>\n",
       "      <th>...</th>\n",
       "      <td>...</td>\n",
       "      <td>...</td>\n",
       "      <td>...</td>\n",
       "      <td>...</td>\n",
       "      <td>...</td>\n",
       "      <td>...</td>\n",
       "      <td>...</td>\n",
       "      <td>...</td>\n",
       "      <td>...</td>\n",
       "      <td>...</td>\n",
       "      <td>...</td>\n",
       "      <td>...</td>\n",
       "      <td>...</td>\n",
       "      <td>...</td>\n",
       "      <td>...</td>\n",
       "      <td>...</td>\n",
       "      <td>...</td>\n",
       "      <td>...</td>\n",
       "      <td>...</td>\n",
       "      <td>...</td>\n",
       "      <td>...</td>\n",
       "    </tr>\n",
       "    <tr>\n",
       "      <th>395</th>\n",
       "      <td>80.0</td>\n",
       "      <td>1.020</td>\n",
       "      <td>0.0</td>\n",
       "      <td>0.0</td>\n",
       "      <td>normal</td>\n",
       "      <td>normal</td>\n",
       "      <td>notpresent</td>\n",
       "      <td>notpresent</td>\n",
       "      <td>140.0</td>\n",
       "      <td>49.0</td>\n",
       "      <td>...</td>\n",
       "      <td>15.7</td>\n",
       "      <td>47.0</td>\n",
       "      <td>6700.0</td>\n",
       "      <td>4.900000</td>\n",
       "      <td>no</td>\n",
       "      <td>no</td>\n",
       "      <td>no</td>\n",
       "      <td>good</td>\n",
       "      <td>no</td>\n",
       "      <td>no</td>\n",
       "    </tr>\n",
       "    <tr>\n",
       "      <th>396</th>\n",
       "      <td>70.0</td>\n",
       "      <td>1.025</td>\n",
       "      <td>0.0</td>\n",
       "      <td>0.0</td>\n",
       "      <td>normal</td>\n",
       "      <td>normal</td>\n",
       "      <td>notpresent</td>\n",
       "      <td>notpresent</td>\n",
       "      <td>75.0</td>\n",
       "      <td>31.0</td>\n",
       "      <td>...</td>\n",
       "      <td>16.5</td>\n",
       "      <td>54.0</td>\n",
       "      <td>7800.0</td>\n",
       "      <td>6.200000</td>\n",
       "      <td>no</td>\n",
       "      <td>no</td>\n",
       "      <td>no</td>\n",
       "      <td>good</td>\n",
       "      <td>no</td>\n",
       "      <td>no</td>\n",
       "    </tr>\n",
       "    <tr>\n",
       "      <th>397</th>\n",
       "      <td>80.0</td>\n",
       "      <td>1.020</td>\n",
       "      <td>0.0</td>\n",
       "      <td>0.0</td>\n",
       "      <td>normal</td>\n",
       "      <td>normal</td>\n",
       "      <td>notpresent</td>\n",
       "      <td>notpresent</td>\n",
       "      <td>100.0</td>\n",
       "      <td>26.0</td>\n",
       "      <td>...</td>\n",
       "      <td>15.8</td>\n",
       "      <td>49.0</td>\n",
       "      <td>6600.0</td>\n",
       "      <td>5.400000</td>\n",
       "      <td>no</td>\n",
       "      <td>no</td>\n",
       "      <td>no</td>\n",
       "      <td>good</td>\n",
       "      <td>no</td>\n",
       "      <td>no</td>\n",
       "    </tr>\n",
       "    <tr>\n",
       "      <th>398</th>\n",
       "      <td>60.0</td>\n",
       "      <td>1.025</td>\n",
       "      <td>0.0</td>\n",
       "      <td>0.0</td>\n",
       "      <td>normal</td>\n",
       "      <td>normal</td>\n",
       "      <td>notpresent</td>\n",
       "      <td>notpresent</td>\n",
       "      <td>114.0</td>\n",
       "      <td>50.0</td>\n",
       "      <td>...</td>\n",
       "      <td>14.2</td>\n",
       "      <td>51.0</td>\n",
       "      <td>7200.0</td>\n",
       "      <td>5.900000</td>\n",
       "      <td>no</td>\n",
       "      <td>no</td>\n",
       "      <td>no</td>\n",
       "      <td>good</td>\n",
       "      <td>no</td>\n",
       "      <td>no</td>\n",
       "    </tr>\n",
       "    <tr>\n",
       "      <th>399</th>\n",
       "      <td>80.0</td>\n",
       "      <td>1.025</td>\n",
       "      <td>0.0</td>\n",
       "      <td>0.0</td>\n",
       "      <td>normal</td>\n",
       "      <td>normal</td>\n",
       "      <td>notpresent</td>\n",
       "      <td>notpresent</td>\n",
       "      <td>131.0</td>\n",
       "      <td>18.0</td>\n",
       "      <td>...</td>\n",
       "      <td>15.8</td>\n",
       "      <td>53.0</td>\n",
       "      <td>6800.0</td>\n",
       "      <td>6.100000</td>\n",
       "      <td>no</td>\n",
       "      <td>no</td>\n",
       "      <td>no</td>\n",
       "      <td>good</td>\n",
       "      <td>no</td>\n",
       "      <td>no</td>\n",
       "    </tr>\n",
       "  </tbody>\n",
       "</table>\n",
       "<p>400 rows × 23 columns</p>\n",
       "</div>"
      ],
      "text/plain": [
       "       bp     sg   al   su     rbc        pc         pcc          ba    bgr  \\\n",
       "0    80.0  1.020  1.0  0.0  normal    normal  notpresent  notpresent  121.0   \n",
       "1    50.0  1.020  4.0  0.0  normal    normal  notpresent  notpresent   99.0   \n",
       "2    80.0  1.010  2.0  3.0  normal    normal  notpresent  notpresent  423.0   \n",
       "3    70.0  1.005  4.0  0.0  normal  abnormal     present  notpresent  117.0   \n",
       "4    80.0  1.010  2.0  0.0  normal    normal  notpresent  notpresent  106.0   \n",
       "..    ...    ...  ...  ...     ...       ...         ...         ...    ...   \n",
       "395  80.0  1.020  0.0  0.0  normal    normal  notpresent  notpresent  140.0   \n",
       "396  70.0  1.025  0.0  0.0  normal    normal  notpresent  notpresent   75.0   \n",
       "397  80.0  1.020  0.0  0.0  normal    normal  notpresent  notpresent  100.0   \n",
       "398  60.0  1.025  0.0  0.0  normal    normal  notpresent  notpresent  114.0   \n",
       "399  80.0  1.025  0.0  0.0  normal    normal  notpresent  notpresent  131.0   \n",
       "\n",
       "       bu  ...  hemo   pcv      wc        rc  htn   dm  cad appet   pe  ane  \n",
       "0    36.0  ...  15.4  44.0  7800.0  5.200000  yes  yes   no  good   no   no  \n",
       "1    18.0  ...  11.3  38.0  6000.0  4.707435   no   no   no  good   no   no  \n",
       "2    53.0  ...   9.6  31.0  7500.0  4.707435   no  yes   no  poor   no  yes  \n",
       "3    56.0  ...  11.2  32.0  6700.0  3.900000  yes   no   no  poor  yes  yes  \n",
       "4    26.0  ...  11.6  35.0  7300.0  4.600000   no   no   no  good   no   no  \n",
       "..    ...  ...   ...   ...     ...       ...  ...  ...  ...   ...  ...  ...  \n",
       "395  49.0  ...  15.7  47.0  6700.0  4.900000   no   no   no  good   no   no  \n",
       "396  31.0  ...  16.5  54.0  7800.0  6.200000   no   no   no  good   no   no  \n",
       "397  26.0  ...  15.8  49.0  6600.0  5.400000   no   no   no  good   no   no  \n",
       "398  50.0  ...  14.2  51.0  7200.0  5.900000   no   no   no  good   no   no  \n",
       "399  18.0  ...  15.8  53.0  6800.0  6.100000   no   no   no  good   no   no  \n",
       "\n",
       "[400 rows x 23 columns]"
      ]
     },
     "execution_count": 131,
     "metadata": {},
     "output_type": "execute_result"
    }
   ],
   "source": [
    "X"
   ]
  },
  {
   "cell_type": "code",
   "execution_count": 132,
   "id": "a262da08-976b-4fb8-86f5-174e447b5b1d",
   "metadata": {},
   "outputs": [],
   "source": [
    "from sklearn.model_selection import train_test_split\n",
    "X_train, X_test, y_train, y_test= train_test_split(X,y, test_size=0.2)"
   ]
  },
  {
   "cell_type": "code",
   "execution_count": 133,
   "id": "a796f704-8b02-4d23-b637-6b69fc27ef0b",
   "metadata": {},
   "outputs": [
    {
     "data": {
      "text/html": [
       "<div>\n",
       "<style scoped>\n",
       "    .dataframe tbody tr th:only-of-type {\n",
       "        vertical-align: middle;\n",
       "    }\n",
       "\n",
       "    .dataframe tbody tr th {\n",
       "        vertical-align: top;\n",
       "    }\n",
       "\n",
       "    .dataframe thead th {\n",
       "        text-align: right;\n",
       "    }\n",
       "</style>\n",
       "<table border=\"1\" class=\"dataframe\">\n",
       "  <thead>\n",
       "    <tr style=\"text-align: right;\">\n",
       "      <th></th>\n",
       "      <th>bp</th>\n",
       "      <th>sg</th>\n",
       "      <th>al</th>\n",
       "      <th>su</th>\n",
       "      <th>rbc</th>\n",
       "      <th>pc</th>\n",
       "      <th>pcc</th>\n",
       "      <th>ba</th>\n",
       "      <th>bgr</th>\n",
       "      <th>bu</th>\n",
       "      <th>...</th>\n",
       "      <th>hemo</th>\n",
       "      <th>pcv</th>\n",
       "      <th>wc</th>\n",
       "      <th>rc</th>\n",
       "      <th>htn</th>\n",
       "      <th>dm</th>\n",
       "      <th>cad</th>\n",
       "      <th>appet</th>\n",
       "      <th>pe</th>\n",
       "      <th>ane</th>\n",
       "    </tr>\n",
       "  </thead>\n",
       "  <tbody>\n",
       "    <tr>\n",
       "      <th>285</th>\n",
       "      <td>70.0</td>\n",
       "      <td>1.020000</td>\n",
       "      <td>0.0</td>\n",
       "      <td>0.0</td>\n",
       "      <td>normal</td>\n",
       "      <td>normal</td>\n",
       "      <td>notpresent</td>\n",
       "      <td>notpresent</td>\n",
       "      <td>94.0</td>\n",
       "      <td>19.0</td>\n",
       "      <td>...</td>\n",
       "      <td>16.000000</td>\n",
       "      <td>41.0</td>\n",
       "      <td>5300.000000</td>\n",
       "      <td>5.900000</td>\n",
       "      <td>no</td>\n",
       "      <td>no</td>\n",
       "      <td>no</td>\n",
       "      <td>good</td>\n",
       "      <td>no</td>\n",
       "      <td>no</td>\n",
       "    </tr>\n",
       "    <tr>\n",
       "      <th>256</th>\n",
       "      <td>80.0</td>\n",
       "      <td>1.025000</td>\n",
       "      <td>0.0</td>\n",
       "      <td>0.0</td>\n",
       "      <td>normal</td>\n",
       "      <td>normal</td>\n",
       "      <td>notpresent</td>\n",
       "      <td>notpresent</td>\n",
       "      <td>131.0</td>\n",
       "      <td>10.0</td>\n",
       "      <td>...</td>\n",
       "      <td>14.500000</td>\n",
       "      <td>41.0</td>\n",
       "      <td>10700.000000</td>\n",
       "      <td>5.100000</td>\n",
       "      <td>no</td>\n",
       "      <td>no</td>\n",
       "      <td>no</td>\n",
       "      <td>good</td>\n",
       "      <td>no</td>\n",
       "      <td>no</td>\n",
       "    </tr>\n",
       "    <tr>\n",
       "      <th>237</th>\n",
       "      <td>70.0</td>\n",
       "      <td>1.015000</td>\n",
       "      <td>2.0</td>\n",
       "      <td>2.0</td>\n",
       "      <td>normal</td>\n",
       "      <td>normal</td>\n",
       "      <td>notpresent</td>\n",
       "      <td>notpresent</td>\n",
       "      <td>141.0</td>\n",
       "      <td>53.0</td>\n",
       "      <td>...</td>\n",
       "      <td>12.700000</td>\n",
       "      <td>40.0</td>\n",
       "      <td>9600.000000</td>\n",
       "      <td>4.707435</td>\n",
       "      <td>yes</td>\n",
       "      <td>yes</td>\n",
       "      <td>no</td>\n",
       "      <td>poor</td>\n",
       "      <td>yes</td>\n",
       "      <td>no</td>\n",
       "    </tr>\n",
       "    <tr>\n",
       "      <th>101</th>\n",
       "      <td>90.0</td>\n",
       "      <td>1.015000</td>\n",
       "      <td>2.0</td>\n",
       "      <td>0.0</td>\n",
       "      <td>normal</td>\n",
       "      <td>abnormal</td>\n",
       "      <td>present</td>\n",
       "      <td>present</td>\n",
       "      <td>88.0</td>\n",
       "      <td>80.0</td>\n",
       "      <td>...</td>\n",
       "      <td>11.300000</td>\n",
       "      <td>33.0</td>\n",
       "      <td>10700.000000</td>\n",
       "      <td>3.900000</td>\n",
       "      <td>no</td>\n",
       "      <td>no</td>\n",
       "      <td>no</td>\n",
       "      <td>good</td>\n",
       "      <td>no</td>\n",
       "      <td>no</td>\n",
       "    </tr>\n",
       "    <tr>\n",
       "      <th>76</th>\n",
       "      <td>80.0</td>\n",
       "      <td>1.005000</td>\n",
       "      <td>4.0</td>\n",
       "      <td>0.0</td>\n",
       "      <td>abnormal</td>\n",
       "      <td>abnormal</td>\n",
       "      <td>notpresent</td>\n",
       "      <td>present</td>\n",
       "      <td>133.0</td>\n",
       "      <td>139.0</td>\n",
       "      <td>...</td>\n",
       "      <td>10.300000</td>\n",
       "      <td>36.0</td>\n",
       "      <td>6200.000000</td>\n",
       "      <td>4.000000</td>\n",
       "      <td>no</td>\n",
       "      <td>yes</td>\n",
       "      <td>no</td>\n",
       "      <td>good</td>\n",
       "      <td>yes</td>\n",
       "      <td>no</td>\n",
       "    </tr>\n",
       "    <tr>\n",
       "      <th>...</th>\n",
       "      <td>...</td>\n",
       "      <td>...</td>\n",
       "      <td>...</td>\n",
       "      <td>...</td>\n",
       "      <td>...</td>\n",
       "      <td>...</td>\n",
       "      <td>...</td>\n",
       "      <td>...</td>\n",
       "      <td>...</td>\n",
       "      <td>...</td>\n",
       "      <td>...</td>\n",
       "      <td>...</td>\n",
       "      <td>...</td>\n",
       "      <td>...</td>\n",
       "      <td>...</td>\n",
       "      <td>...</td>\n",
       "      <td>...</td>\n",
       "      <td>...</td>\n",
       "      <td>...</td>\n",
       "      <td>...</td>\n",
       "      <td>...</td>\n",
       "    </tr>\n",
       "    <tr>\n",
       "      <th>73</th>\n",
       "      <td>100.0</td>\n",
       "      <td>1.015000</td>\n",
       "      <td>2.0</td>\n",
       "      <td>0.0</td>\n",
       "      <td>abnormal</td>\n",
       "      <td>abnormal</td>\n",
       "      <td>notpresent</td>\n",
       "      <td>notpresent</td>\n",
       "      <td>129.0</td>\n",
       "      <td>107.0</td>\n",
       "      <td>...</td>\n",
       "      <td>4.800000</td>\n",
       "      <td>14.0</td>\n",
       "      <td>6300.000000</td>\n",
       "      <td>4.707435</td>\n",
       "      <td>yes</td>\n",
       "      <td>no</td>\n",
       "      <td>no</td>\n",
       "      <td>good</td>\n",
       "      <td>yes</td>\n",
       "      <td>yes</td>\n",
       "    </tr>\n",
       "    <tr>\n",
       "      <th>122</th>\n",
       "      <td>70.0</td>\n",
       "      <td>1.017408</td>\n",
       "      <td>0.0</td>\n",
       "      <td>0.0</td>\n",
       "      <td>normal</td>\n",
       "      <td>normal</td>\n",
       "      <td>notpresent</td>\n",
       "      <td>notpresent</td>\n",
       "      <td>99.0</td>\n",
       "      <td>219.0</td>\n",
       "      <td>...</td>\n",
       "      <td>6.000000</td>\n",
       "      <td>41.0</td>\n",
       "      <td>8406.122449</td>\n",
       "      <td>4.707435</td>\n",
       "      <td>yes</td>\n",
       "      <td>no</td>\n",
       "      <td>no</td>\n",
       "      <td>good</td>\n",
       "      <td>no</td>\n",
       "      <td>yes</td>\n",
       "    </tr>\n",
       "    <tr>\n",
       "      <th>328</th>\n",
       "      <td>70.0</td>\n",
       "      <td>1.020000</td>\n",
       "      <td>0.0</td>\n",
       "      <td>0.0</td>\n",
       "      <td>normal</td>\n",
       "      <td>normal</td>\n",
       "      <td>notpresent</td>\n",
       "      <td>notpresent</td>\n",
       "      <td>131.0</td>\n",
       "      <td>29.0</td>\n",
       "      <td>...</td>\n",
       "      <td>12.526437</td>\n",
       "      <td>45.0</td>\n",
       "      <td>8600.000000</td>\n",
       "      <td>6.500000</td>\n",
       "      <td>no</td>\n",
       "      <td>no</td>\n",
       "      <td>no</td>\n",
       "      <td>good</td>\n",
       "      <td>no</td>\n",
       "      <td>no</td>\n",
       "    </tr>\n",
       "    <tr>\n",
       "      <th>209</th>\n",
       "      <td>70.0</td>\n",
       "      <td>1.020000</td>\n",
       "      <td>0.0</td>\n",
       "      <td>0.0</td>\n",
       "      <td>normal</td>\n",
       "      <td>normal</td>\n",
       "      <td>notpresent</td>\n",
       "      <td>notpresent</td>\n",
       "      <td>99.0</td>\n",
       "      <td>46.0</td>\n",
       "      <td>...</td>\n",
       "      <td>11.500000</td>\n",
       "      <td>41.0</td>\n",
       "      <td>6900.000000</td>\n",
       "      <td>4.707435</td>\n",
       "      <td>no</td>\n",
       "      <td>no</td>\n",
       "      <td>no</td>\n",
       "      <td>good</td>\n",
       "      <td>no</td>\n",
       "      <td>no</td>\n",
       "    </tr>\n",
       "    <tr>\n",
       "      <th>350</th>\n",
       "      <td>70.0</td>\n",
       "      <td>1.025000</td>\n",
       "      <td>0.0</td>\n",
       "      <td>0.0</td>\n",
       "      <td>normal</td>\n",
       "      <td>normal</td>\n",
       "      <td>notpresent</td>\n",
       "      <td>notpresent</td>\n",
       "      <td>85.0</td>\n",
       "      <td>20.0</td>\n",
       "      <td>...</td>\n",
       "      <td>16.100000</td>\n",
       "      <td>43.0</td>\n",
       "      <td>9600.000000</td>\n",
       "      <td>4.500000</td>\n",
       "      <td>no</td>\n",
       "      <td>no</td>\n",
       "      <td>no</td>\n",
       "      <td>good</td>\n",
       "      <td>no</td>\n",
       "      <td>no</td>\n",
       "    </tr>\n",
       "  </tbody>\n",
       "</table>\n",
       "<p>320 rows × 23 columns</p>\n",
       "</div>"
      ],
      "text/plain": [
       "        bp        sg   al   su       rbc        pc         pcc          ba  \\\n",
       "285   70.0  1.020000  0.0  0.0    normal    normal  notpresent  notpresent   \n",
       "256   80.0  1.025000  0.0  0.0    normal    normal  notpresent  notpresent   \n",
       "237   70.0  1.015000  2.0  2.0    normal    normal  notpresent  notpresent   \n",
       "101   90.0  1.015000  2.0  0.0    normal  abnormal     present     present   \n",
       "76    80.0  1.005000  4.0  0.0  abnormal  abnormal  notpresent     present   \n",
       "..     ...       ...  ...  ...       ...       ...         ...         ...   \n",
       "73   100.0  1.015000  2.0  0.0  abnormal  abnormal  notpresent  notpresent   \n",
       "122   70.0  1.017408  0.0  0.0    normal    normal  notpresent  notpresent   \n",
       "328   70.0  1.020000  0.0  0.0    normal    normal  notpresent  notpresent   \n",
       "209   70.0  1.020000  0.0  0.0    normal    normal  notpresent  notpresent   \n",
       "350   70.0  1.025000  0.0  0.0    normal    normal  notpresent  notpresent   \n",
       "\n",
       "       bgr     bu  ...       hemo   pcv            wc        rc  htn   dm  \\\n",
       "285   94.0   19.0  ...  16.000000  41.0   5300.000000  5.900000   no   no   \n",
       "256  131.0   10.0  ...  14.500000  41.0  10700.000000  5.100000   no   no   \n",
       "237  141.0   53.0  ...  12.700000  40.0   9600.000000  4.707435  yes  yes   \n",
       "101   88.0   80.0  ...  11.300000  33.0  10700.000000  3.900000   no   no   \n",
       "76   133.0  139.0  ...  10.300000  36.0   6200.000000  4.000000   no  yes   \n",
       "..     ...    ...  ...        ...   ...           ...       ...  ...  ...   \n",
       "73   129.0  107.0  ...   4.800000  14.0   6300.000000  4.707435  yes   no   \n",
       "122   99.0  219.0  ...   6.000000  41.0   8406.122449  4.707435  yes   no   \n",
       "328  131.0   29.0  ...  12.526437  45.0   8600.000000  6.500000   no   no   \n",
       "209   99.0   46.0  ...  11.500000  41.0   6900.000000  4.707435   no   no   \n",
       "350   85.0   20.0  ...  16.100000  43.0   9600.000000  4.500000   no   no   \n",
       "\n",
       "     cad appet   pe  ane  \n",
       "285   no  good   no   no  \n",
       "256   no  good   no   no  \n",
       "237   no  poor  yes   no  \n",
       "101   no  good   no   no  \n",
       "76    no  good  yes   no  \n",
       "..   ...   ...  ...  ...  \n",
       "73    no  good  yes  yes  \n",
       "122   no  good   no  yes  \n",
       "328   no  good   no   no  \n",
       "209   no  good   no   no  \n",
       "350   no  good   no   no  \n",
       "\n",
       "[320 rows x 23 columns]"
      ]
     },
     "execution_count": 133,
     "metadata": {},
     "output_type": "execute_result"
    }
   ],
   "source": [
    "X_train"
   ]
  },
  {
   "cell_type": "code",
   "execution_count": 134,
   "id": "dd39bf06-a21d-467d-831c-6b7163cd5fcc",
   "metadata": {},
   "outputs": [
    {
     "data": {
      "text/plain": [
       "285    notckd\n",
       "256    notckd\n",
       "237       ckd\n",
       "101       ckd\n",
       "76        ckd\n",
       "        ...  \n",
       "73        ckd\n",
       "122       ckd\n",
       "328    notckd\n",
       "209       ckd\n",
       "350    notckd\n",
       "Name: classification, Length: 320, dtype: object"
      ]
     },
     "execution_count": 134,
     "metadata": {},
     "output_type": "execute_result"
    }
   ],
   "source": [
    "y_train"
   ]
  },
  {
   "cell_type": "code",
   "execution_count": 135,
   "id": "a879e639-8922-493e-a967-d91bef122d03",
   "metadata": {},
   "outputs": [
    {
     "data": {
      "text/html": [
       "<div>\n",
       "<style scoped>\n",
       "    .dataframe tbody tr th:only-of-type {\n",
       "        vertical-align: middle;\n",
       "    }\n",
       "\n",
       "    .dataframe tbody tr th {\n",
       "        vertical-align: top;\n",
       "    }\n",
       "\n",
       "    .dataframe thead th {\n",
       "        text-align: right;\n",
       "    }\n",
       "</style>\n",
       "<table border=\"1\" class=\"dataframe\">\n",
       "  <thead>\n",
       "    <tr style=\"text-align: right;\">\n",
       "      <th></th>\n",
       "      <th>bp</th>\n",
       "      <th>sg</th>\n",
       "      <th>al</th>\n",
       "      <th>su</th>\n",
       "      <th>rbc</th>\n",
       "      <th>pc</th>\n",
       "      <th>pcc</th>\n",
       "      <th>ba</th>\n",
       "      <th>bgr</th>\n",
       "      <th>bu</th>\n",
       "      <th>...</th>\n",
       "      <th>hemo</th>\n",
       "      <th>pcv</th>\n",
       "      <th>wc</th>\n",
       "      <th>rc</th>\n",
       "      <th>htn</th>\n",
       "      <th>dm</th>\n",
       "      <th>cad</th>\n",
       "      <th>appet</th>\n",
       "      <th>pe</th>\n",
       "      <th>ane</th>\n",
       "    </tr>\n",
       "  </thead>\n",
       "  <tbody>\n",
       "    <tr>\n",
       "      <th>307</th>\n",
       "      <td>60.0</td>\n",
       "      <td>1.020</td>\n",
       "      <td>0.0</td>\n",
       "      <td>0.0</td>\n",
       "      <td>normal</td>\n",
       "      <td>normal</td>\n",
       "      <td>notpresent</td>\n",
       "      <td>notpresent</td>\n",
       "      <td>137.0</td>\n",
       "      <td>17.0</td>\n",
       "      <td>...</td>\n",
       "      <td>13.600000</td>\n",
       "      <td>44.0</td>\n",
       "      <td>7900.000000</td>\n",
       "      <td>4.500000</td>\n",
       "      <td>no</td>\n",
       "      <td>no</td>\n",
       "      <td>no</td>\n",
       "      <td>good</td>\n",
       "      <td>no</td>\n",
       "      <td>no</td>\n",
       "    </tr>\n",
       "    <tr>\n",
       "      <th>246</th>\n",
       "      <td>110.0</td>\n",
       "      <td>1.015</td>\n",
       "      <td>3.0</td>\n",
       "      <td>0.0</td>\n",
       "      <td>abnormal</td>\n",
       "      <td>normal</td>\n",
       "      <td>present</td>\n",
       "      <td>notpresent</td>\n",
       "      <td>106.0</td>\n",
       "      <td>215.0</td>\n",
       "      <td>...</td>\n",
       "      <td>8.600000</td>\n",
       "      <td>26.0</td>\n",
       "      <td>5000.000000</td>\n",
       "      <td>2.500000</td>\n",
       "      <td>yes</td>\n",
       "      <td>no</td>\n",
       "      <td>yes</td>\n",
       "      <td>good</td>\n",
       "      <td>no</td>\n",
       "      <td>yes</td>\n",
       "    </tr>\n",
       "    <tr>\n",
       "      <th>335</th>\n",
       "      <td>60.0</td>\n",
       "      <td>1.020</td>\n",
       "      <td>0.0</td>\n",
       "      <td>0.0</td>\n",
       "      <td>normal</td>\n",
       "      <td>normal</td>\n",
       "      <td>notpresent</td>\n",
       "      <td>notpresent</td>\n",
       "      <td>134.0</td>\n",
       "      <td>45.0</td>\n",
       "      <td>...</td>\n",
       "      <td>14.200000</td>\n",
       "      <td>48.0</td>\n",
       "      <td>10700.000000</td>\n",
       "      <td>5.600000</td>\n",
       "      <td>no</td>\n",
       "      <td>no</td>\n",
       "      <td>no</td>\n",
       "      <td>good</td>\n",
       "      <td>no</td>\n",
       "      <td>no</td>\n",
       "    </tr>\n",
       "    <tr>\n",
       "      <th>287</th>\n",
       "      <td>70.0</td>\n",
       "      <td>1.025</td>\n",
       "      <td>0.0</td>\n",
       "      <td>0.0</td>\n",
       "      <td>normal</td>\n",
       "      <td>normal</td>\n",
       "      <td>notpresent</td>\n",
       "      <td>notpresent</td>\n",
       "      <td>124.0</td>\n",
       "      <td>22.0</td>\n",
       "      <td>...</td>\n",
       "      <td>13.400000</td>\n",
       "      <td>43.0</td>\n",
       "      <td>8406.122449</td>\n",
       "      <td>4.707435</td>\n",
       "      <td>no</td>\n",
       "      <td>no</td>\n",
       "      <td>no</td>\n",
       "      <td>good</td>\n",
       "      <td>no</td>\n",
       "      <td>no</td>\n",
       "    </tr>\n",
       "    <tr>\n",
       "      <th>87</th>\n",
       "      <td>100.0</td>\n",
       "      <td>1.005</td>\n",
       "      <td>1.0</td>\n",
       "      <td>0.0</td>\n",
       "      <td>normal</td>\n",
       "      <td>abnormal</td>\n",
       "      <td>present</td>\n",
       "      <td>notpresent</td>\n",
       "      <td>169.0</td>\n",
       "      <td>47.0</td>\n",
       "      <td>...</td>\n",
       "      <td>11.100000</td>\n",
       "      <td>32.0</td>\n",
       "      <td>5800.000000</td>\n",
       "      <td>5.000000</td>\n",
       "      <td>yes</td>\n",
       "      <td>yes</td>\n",
       "      <td>no</td>\n",
       "      <td>poor</td>\n",
       "      <td>no</td>\n",
       "      <td>no</td>\n",
       "    </tr>\n",
       "    <tr>\n",
       "      <th>...</th>\n",
       "      <td>...</td>\n",
       "      <td>...</td>\n",
       "      <td>...</td>\n",
       "      <td>...</td>\n",
       "      <td>...</td>\n",
       "      <td>...</td>\n",
       "      <td>...</td>\n",
       "      <td>...</td>\n",
       "      <td>...</td>\n",
       "      <td>...</td>\n",
       "      <td>...</td>\n",
       "      <td>...</td>\n",
       "      <td>...</td>\n",
       "      <td>...</td>\n",
       "      <td>...</td>\n",
       "      <td>...</td>\n",
       "      <td>...</td>\n",
       "      <td>...</td>\n",
       "      <td>...</td>\n",
       "      <td>...</td>\n",
       "      <td>...</td>\n",
       "    </tr>\n",
       "    <tr>\n",
       "      <th>224</th>\n",
       "      <td>60.0</td>\n",
       "      <td>1.020</td>\n",
       "      <td>0.0</td>\n",
       "      <td>0.0</td>\n",
       "      <td>normal</td>\n",
       "      <td>normal</td>\n",
       "      <td>notpresent</td>\n",
       "      <td>notpresent</td>\n",
       "      <td>117.0</td>\n",
       "      <td>28.0</td>\n",
       "      <td>...</td>\n",
       "      <td>12.526437</td>\n",
       "      <td>41.0</td>\n",
       "      <td>8406.122449</td>\n",
       "      <td>4.707435</td>\n",
       "      <td>no</td>\n",
       "      <td>no</td>\n",
       "      <td>no</td>\n",
       "      <td>good</td>\n",
       "      <td>yes</td>\n",
       "      <td>no</td>\n",
       "    </tr>\n",
       "    <tr>\n",
       "      <th>397</th>\n",
       "      <td>80.0</td>\n",
       "      <td>1.020</td>\n",
       "      <td>0.0</td>\n",
       "      <td>0.0</td>\n",
       "      <td>normal</td>\n",
       "      <td>normal</td>\n",
       "      <td>notpresent</td>\n",
       "      <td>notpresent</td>\n",
       "      <td>100.0</td>\n",
       "      <td>26.0</td>\n",
       "      <td>...</td>\n",
       "      <td>15.800000</td>\n",
       "      <td>49.0</td>\n",
       "      <td>6600.000000</td>\n",
       "      <td>5.400000</td>\n",
       "      <td>no</td>\n",
       "      <td>no</td>\n",
       "      <td>no</td>\n",
       "      <td>good</td>\n",
       "      <td>no</td>\n",
       "      <td>no</td>\n",
       "    </tr>\n",
       "    <tr>\n",
       "      <th>7</th>\n",
       "      <td>80.0</td>\n",
       "      <td>1.015</td>\n",
       "      <td>2.0</td>\n",
       "      <td>4.0</td>\n",
       "      <td>normal</td>\n",
       "      <td>abnormal</td>\n",
       "      <td>notpresent</td>\n",
       "      <td>notpresent</td>\n",
       "      <td>410.0</td>\n",
       "      <td>31.0</td>\n",
       "      <td>...</td>\n",
       "      <td>12.400000</td>\n",
       "      <td>44.0</td>\n",
       "      <td>6900.000000</td>\n",
       "      <td>5.000000</td>\n",
       "      <td>no</td>\n",
       "      <td>yes</td>\n",
       "      <td>no</td>\n",
       "      <td>good</td>\n",
       "      <td>yes</td>\n",
       "      <td>no</td>\n",
       "    </tr>\n",
       "    <tr>\n",
       "      <th>377</th>\n",
       "      <td>70.0</td>\n",
       "      <td>1.020</td>\n",
       "      <td>0.0</td>\n",
       "      <td>0.0</td>\n",
       "      <td>normal</td>\n",
       "      <td>normal</td>\n",
       "      <td>notpresent</td>\n",
       "      <td>notpresent</td>\n",
       "      <td>97.0</td>\n",
       "      <td>27.0</td>\n",
       "      <td>...</td>\n",
       "      <td>13.800000</td>\n",
       "      <td>49.0</td>\n",
       "      <td>6400.000000</td>\n",
       "      <td>4.800000</td>\n",
       "      <td>no</td>\n",
       "      <td>no</td>\n",
       "      <td>no</td>\n",
       "      <td>good</td>\n",
       "      <td>no</td>\n",
       "      <td>no</td>\n",
       "    </tr>\n",
       "    <tr>\n",
       "      <th>77</th>\n",
       "      <td>70.0</td>\n",
       "      <td>1.010</td>\n",
       "      <td>1.0</td>\n",
       "      <td>0.0</td>\n",
       "      <td>normal</td>\n",
       "      <td>normal</td>\n",
       "      <td>notpresent</td>\n",
       "      <td>notpresent</td>\n",
       "      <td>102.0</td>\n",
       "      <td>48.0</td>\n",
       "      <td>...</td>\n",
       "      <td>11.900000</td>\n",
       "      <td>34.0</td>\n",
       "      <td>7100.000000</td>\n",
       "      <td>3.700000</td>\n",
       "      <td>yes</td>\n",
       "      <td>yes</td>\n",
       "      <td>no</td>\n",
       "      <td>good</td>\n",
       "      <td>yes</td>\n",
       "      <td>no</td>\n",
       "    </tr>\n",
       "  </tbody>\n",
       "</table>\n",
       "<p>80 rows × 23 columns</p>\n",
       "</div>"
      ],
      "text/plain": [
       "        bp     sg   al   su       rbc        pc         pcc          ba  \\\n",
       "307   60.0  1.020  0.0  0.0    normal    normal  notpresent  notpresent   \n",
       "246  110.0  1.015  3.0  0.0  abnormal    normal     present  notpresent   \n",
       "335   60.0  1.020  0.0  0.0    normal    normal  notpresent  notpresent   \n",
       "287   70.0  1.025  0.0  0.0    normal    normal  notpresent  notpresent   \n",
       "87   100.0  1.005  1.0  0.0    normal  abnormal     present  notpresent   \n",
       "..     ...    ...  ...  ...       ...       ...         ...         ...   \n",
       "224   60.0  1.020  0.0  0.0    normal    normal  notpresent  notpresent   \n",
       "397   80.0  1.020  0.0  0.0    normal    normal  notpresent  notpresent   \n",
       "7     80.0  1.015  2.0  4.0    normal  abnormal  notpresent  notpresent   \n",
       "377   70.0  1.020  0.0  0.0    normal    normal  notpresent  notpresent   \n",
       "77    70.0  1.010  1.0  0.0    normal    normal  notpresent  notpresent   \n",
       "\n",
       "       bgr     bu  ...       hemo   pcv            wc        rc  htn   dm  \\\n",
       "307  137.0   17.0  ...  13.600000  44.0   7900.000000  4.500000   no   no   \n",
       "246  106.0  215.0  ...   8.600000  26.0   5000.000000  2.500000  yes   no   \n",
       "335  134.0   45.0  ...  14.200000  48.0  10700.000000  5.600000   no   no   \n",
       "287  124.0   22.0  ...  13.400000  43.0   8406.122449  4.707435   no   no   \n",
       "87   169.0   47.0  ...  11.100000  32.0   5800.000000  5.000000  yes  yes   \n",
       "..     ...    ...  ...        ...   ...           ...       ...  ...  ...   \n",
       "224  117.0   28.0  ...  12.526437  41.0   8406.122449  4.707435   no   no   \n",
       "397  100.0   26.0  ...  15.800000  49.0   6600.000000  5.400000   no   no   \n",
       "7    410.0   31.0  ...  12.400000  44.0   6900.000000  5.000000   no  yes   \n",
       "377   97.0   27.0  ...  13.800000  49.0   6400.000000  4.800000   no   no   \n",
       "77   102.0   48.0  ...  11.900000  34.0   7100.000000  3.700000  yes  yes   \n",
       "\n",
       "     cad appet   pe  ane  \n",
       "307   no  good   no   no  \n",
       "246  yes  good   no  yes  \n",
       "335   no  good   no   no  \n",
       "287   no  good   no   no  \n",
       "87    no  poor   no   no  \n",
       "..   ...   ...  ...  ...  \n",
       "224   no  good  yes   no  \n",
       "397   no  good   no   no  \n",
       "7     no  good  yes   no  \n",
       "377   no  good   no   no  \n",
       "77    no  good  yes   no  \n",
       "\n",
       "[80 rows x 23 columns]"
      ]
     },
     "execution_count": 135,
     "metadata": {},
     "output_type": "execute_result"
    }
   ],
   "source": [
    "X_test"
   ]
  },
  {
   "cell_type": "code",
   "execution_count": 136,
   "id": "f41bf70e-58a1-4a37-b2fa-b566bc6929e8",
   "metadata": {},
   "outputs": [
    {
     "data": {
      "text/plain": [
       "307    notckd\n",
       "246       ckd\n",
       "335    notckd\n",
       "287    notckd\n",
       "87        ckd\n",
       "        ...  \n",
       "224       ckd\n",
       "397    notckd\n",
       "7         ckd\n",
       "377    notckd\n",
       "77        ckd\n",
       "Name: classification, Length: 80, dtype: object"
      ]
     },
     "execution_count": 136,
     "metadata": {},
     "output_type": "execute_result"
    }
   ],
   "source": [
    "y_test"
   ]
  },
  {
   "cell_type": "code",
   "execution_count": 137,
   "id": "af3b2701-2ac9-4680-a6af-88abd213a6b6",
   "metadata": {},
   "outputs": [
    {
     "name": "stdout",
     "output_type": "stream",
     "text": [
      "Shape of X_train:  (320, 23)\n",
      "Shape of X_test:  (80, 23)\n",
      "Shape of y_train:  (320,)\n",
      "Shape of y_test :  (80,)\n"
     ]
    }
   ],
   "source": [
    "print('Shape of X_train: ', X_train.shape)\n",
    "print('Shape of X_test: ', X_test.shape)\n",
    "print('Shape of y_train: ',y_train.shape)\n",
    "print('Shape of y_test : ', y_test.shape)"
   ]
  },
  {
   "cell_type": "markdown",
   "id": "e8b55b93-a863-4f43-8678-f5baca617c50",
   "metadata": {},
   "source": [
    "#### Refered and Modified Little"
   ]
  },
  {
   "cell_type": "code",
   "execution_count": 166,
   "id": "a5704a30-d171-495a-be25-09019cb2192d",
   "metadata": {},
   "outputs": [
    {
     "name": "stderr",
     "output_type": "stream",
     "text": [
      "C:\\Users\\91877\\AppData\\Local\\Programs\\Python\\Python311\\Lib\\site-packages\\sklearn\\preprocessing\\_encoders.py:975: FutureWarning: `sparse` was renamed to `sparse_output` in version 1.2 and will be removed in 1.4. `sparse_output` is ignored unless you leave `sparse` to its default value.\n",
      "  warnings.warn(\n"
     ]
    }
   ],
   "source": [
    "# Encode the categorical features using OneHotEncoder\n",
    "categorical_cols = ['rbc', 'pc', 'pcc', 'ba', 'htn', 'dm', 'cad', 'pe', 'ane']\n",
    "from sklearn.preprocessing import OneHotEncoder\n",
    "onehot_encoder = OneHotEncoder(drop='first', sparse=False)\n",
    "# fit_transform on X_train only\n",
    "onehot_encoder.fit(X_train[categorical_cols])\n",
    "cols = onehot_encoder.get_feature_names_out(categorical_cols) #just for Example, cols contain new columns  name after one hot Encoding, Can be passed as a argument while transform\n",
    "# Transform on X_train\n",
    "X_train_cat_encoded = pd.DataFrame(onehot_encoder.transform(X_train[categorical_cols]),columns=categorical_cols)  #Creating a Data frame for Encoded Categoricval Values\n",
    "# Transform on X_test\n",
    "X_test_cat_encoded = pd.DataFrame(onehot_encoder.transform(X_test[categorical_cols]), columns=categorical_cols)   #Creating a Data frame for Encoded Categoricval Values"
   ]
  },
  {
   "cell_type": "code",
   "execution_count": 170,
   "id": "b467501d-6a1f-41a5-b815-af85df3ba895",
   "metadata": {},
   "outputs": [
    {
     "data": {
      "text/html": [
       "<div>\n",
       "<style scoped>\n",
       "    .dataframe tbody tr th:only-of-type {\n",
       "        vertical-align: middle;\n",
       "    }\n",
       "\n",
       "    .dataframe tbody tr th {\n",
       "        vertical-align: top;\n",
       "    }\n",
       "\n",
       "    .dataframe thead th {\n",
       "        text-align: right;\n",
       "    }\n",
       "</style>\n",
       "<table border=\"1\" class=\"dataframe\">\n",
       "  <thead>\n",
       "    <tr style=\"text-align: right;\">\n",
       "      <th></th>\n",
       "      <th>rbc</th>\n",
       "      <th>pc</th>\n",
       "      <th>pcc</th>\n",
       "      <th>ba</th>\n",
       "      <th>htn</th>\n",
       "      <th>dm</th>\n",
       "      <th>cad</th>\n",
       "      <th>pe</th>\n",
       "      <th>ane</th>\n",
       "    </tr>\n",
       "  </thead>\n",
       "  <tbody>\n",
       "    <tr>\n",
       "      <th>285</th>\n",
       "      <td>normal</td>\n",
       "      <td>normal</td>\n",
       "      <td>notpresent</td>\n",
       "      <td>notpresent</td>\n",
       "      <td>no</td>\n",
       "      <td>no</td>\n",
       "      <td>no</td>\n",
       "      <td>no</td>\n",
       "      <td>no</td>\n",
       "    </tr>\n",
       "    <tr>\n",
       "      <th>256</th>\n",
       "      <td>normal</td>\n",
       "      <td>normal</td>\n",
       "      <td>notpresent</td>\n",
       "      <td>notpresent</td>\n",
       "      <td>no</td>\n",
       "      <td>no</td>\n",
       "      <td>no</td>\n",
       "      <td>no</td>\n",
       "      <td>no</td>\n",
       "    </tr>\n",
       "    <tr>\n",
       "      <th>237</th>\n",
       "      <td>normal</td>\n",
       "      <td>normal</td>\n",
       "      <td>notpresent</td>\n",
       "      <td>notpresent</td>\n",
       "      <td>yes</td>\n",
       "      <td>yes</td>\n",
       "      <td>no</td>\n",
       "      <td>yes</td>\n",
       "      <td>no</td>\n",
       "    </tr>\n",
       "    <tr>\n",
       "      <th>101</th>\n",
       "      <td>normal</td>\n",
       "      <td>abnormal</td>\n",
       "      <td>present</td>\n",
       "      <td>present</td>\n",
       "      <td>no</td>\n",
       "      <td>no</td>\n",
       "      <td>no</td>\n",
       "      <td>no</td>\n",
       "      <td>no</td>\n",
       "    </tr>\n",
       "    <tr>\n",
       "      <th>76</th>\n",
       "      <td>abnormal</td>\n",
       "      <td>abnormal</td>\n",
       "      <td>notpresent</td>\n",
       "      <td>present</td>\n",
       "      <td>no</td>\n",
       "      <td>yes</td>\n",
       "      <td>no</td>\n",
       "      <td>yes</td>\n",
       "      <td>no</td>\n",
       "    </tr>\n",
       "    <tr>\n",
       "      <th>...</th>\n",
       "      <td>...</td>\n",
       "      <td>...</td>\n",
       "      <td>...</td>\n",
       "      <td>...</td>\n",
       "      <td>...</td>\n",
       "      <td>...</td>\n",
       "      <td>...</td>\n",
       "      <td>...</td>\n",
       "      <td>...</td>\n",
       "    </tr>\n",
       "    <tr>\n",
       "      <th>73</th>\n",
       "      <td>abnormal</td>\n",
       "      <td>abnormal</td>\n",
       "      <td>notpresent</td>\n",
       "      <td>notpresent</td>\n",
       "      <td>yes</td>\n",
       "      <td>no</td>\n",
       "      <td>no</td>\n",
       "      <td>yes</td>\n",
       "      <td>yes</td>\n",
       "    </tr>\n",
       "    <tr>\n",
       "      <th>122</th>\n",
       "      <td>normal</td>\n",
       "      <td>normal</td>\n",
       "      <td>notpresent</td>\n",
       "      <td>notpresent</td>\n",
       "      <td>yes</td>\n",
       "      <td>no</td>\n",
       "      <td>no</td>\n",
       "      <td>no</td>\n",
       "      <td>yes</td>\n",
       "    </tr>\n",
       "    <tr>\n",
       "      <th>328</th>\n",
       "      <td>normal</td>\n",
       "      <td>normal</td>\n",
       "      <td>notpresent</td>\n",
       "      <td>notpresent</td>\n",
       "      <td>no</td>\n",
       "      <td>no</td>\n",
       "      <td>no</td>\n",
       "      <td>no</td>\n",
       "      <td>no</td>\n",
       "    </tr>\n",
       "    <tr>\n",
       "      <th>209</th>\n",
       "      <td>normal</td>\n",
       "      <td>normal</td>\n",
       "      <td>notpresent</td>\n",
       "      <td>notpresent</td>\n",
       "      <td>no</td>\n",
       "      <td>no</td>\n",
       "      <td>no</td>\n",
       "      <td>no</td>\n",
       "      <td>no</td>\n",
       "    </tr>\n",
       "    <tr>\n",
       "      <th>350</th>\n",
       "      <td>normal</td>\n",
       "      <td>normal</td>\n",
       "      <td>notpresent</td>\n",
       "      <td>notpresent</td>\n",
       "      <td>no</td>\n",
       "      <td>no</td>\n",
       "      <td>no</td>\n",
       "      <td>no</td>\n",
       "      <td>no</td>\n",
       "    </tr>\n",
       "  </tbody>\n",
       "</table>\n",
       "<p>320 rows × 9 columns</p>\n",
       "</div>"
      ],
      "text/plain": [
       "          rbc        pc         pcc          ba  htn   dm cad   pe  ane\n",
       "285    normal    normal  notpresent  notpresent   no   no  no   no   no\n",
       "256    normal    normal  notpresent  notpresent   no   no  no   no   no\n",
       "237    normal    normal  notpresent  notpresent  yes  yes  no  yes   no\n",
       "101    normal  abnormal     present     present   no   no  no   no   no\n",
       "76   abnormal  abnormal  notpresent     present   no  yes  no  yes   no\n",
       "..        ...       ...         ...         ...  ...  ...  ..  ...  ...\n",
       "73   abnormal  abnormal  notpresent  notpresent  yes   no  no  yes  yes\n",
       "122    normal    normal  notpresent  notpresent  yes   no  no   no  yes\n",
       "328    normal    normal  notpresent  notpresent   no   no  no   no   no\n",
       "209    normal    normal  notpresent  notpresent   no   no  no   no   no\n",
       "350    normal    normal  notpresent  notpresent   no   no  no   no   no\n",
       "\n",
       "[320 rows x 9 columns]"
      ]
     },
     "execution_count": 170,
     "metadata": {},
     "output_type": "execute_result"
    }
   ],
   "source": [
    "X_train[categorical_cols]"
   ]
  },
  {
   "cell_type": "code",
   "execution_count": 171,
   "id": "1f72dc9a-90e8-43cc-a641-6499507d848c",
   "metadata": {},
   "outputs": [
    {
     "data": {
      "text/plain": [
       "array(['rbc_normal', 'pc_normal', 'pcc_present', 'ba_present', 'htn_yes',\n",
       "       'dm_yes', 'cad_yes', 'pe_yes', 'ane_yes'], dtype=object)"
      ]
     },
     "execution_count": 171,
     "metadata": {},
     "output_type": "execute_result"
    }
   ],
   "source": [
    "cols #Can be passed as a argument while one hot encoder transform to change name of columns as cols"
   ]
  },
  {
   "cell_type": "code",
   "execution_count": 172,
   "id": "28f6b093-6007-45b3-8edb-d437a304b374",
   "metadata": {},
   "outputs": [
    {
     "data": {
      "text/html": [
       "<div>\n",
       "<style scoped>\n",
       "    .dataframe tbody tr th:only-of-type {\n",
       "        vertical-align: middle;\n",
       "    }\n",
       "\n",
       "    .dataframe tbody tr th {\n",
       "        vertical-align: top;\n",
       "    }\n",
       "\n",
       "    .dataframe thead th {\n",
       "        text-align: right;\n",
       "    }\n",
       "</style>\n",
       "<table border=\"1\" class=\"dataframe\">\n",
       "  <thead>\n",
       "    <tr style=\"text-align: right;\">\n",
       "      <th></th>\n",
       "      <th>rbc</th>\n",
       "      <th>pc</th>\n",
       "      <th>pcc</th>\n",
       "      <th>ba</th>\n",
       "      <th>htn</th>\n",
       "      <th>dm</th>\n",
       "      <th>cad</th>\n",
       "      <th>pe</th>\n",
       "      <th>ane</th>\n",
       "    </tr>\n",
       "  </thead>\n",
       "  <tbody>\n",
       "    <tr>\n",
       "      <th>0</th>\n",
       "      <td>1.0</td>\n",
       "      <td>1.0</td>\n",
       "      <td>0.0</td>\n",
       "      <td>0.0</td>\n",
       "      <td>0.0</td>\n",
       "      <td>0.0</td>\n",
       "      <td>0.0</td>\n",
       "      <td>0.0</td>\n",
       "      <td>0.0</td>\n",
       "    </tr>\n",
       "    <tr>\n",
       "      <th>1</th>\n",
       "      <td>1.0</td>\n",
       "      <td>1.0</td>\n",
       "      <td>0.0</td>\n",
       "      <td>0.0</td>\n",
       "      <td>0.0</td>\n",
       "      <td>0.0</td>\n",
       "      <td>0.0</td>\n",
       "      <td>0.0</td>\n",
       "      <td>0.0</td>\n",
       "    </tr>\n",
       "    <tr>\n",
       "      <th>2</th>\n",
       "      <td>1.0</td>\n",
       "      <td>1.0</td>\n",
       "      <td>0.0</td>\n",
       "      <td>0.0</td>\n",
       "      <td>1.0</td>\n",
       "      <td>1.0</td>\n",
       "      <td>0.0</td>\n",
       "      <td>1.0</td>\n",
       "      <td>0.0</td>\n",
       "    </tr>\n",
       "    <tr>\n",
       "      <th>3</th>\n",
       "      <td>1.0</td>\n",
       "      <td>0.0</td>\n",
       "      <td>1.0</td>\n",
       "      <td>1.0</td>\n",
       "      <td>0.0</td>\n",
       "      <td>0.0</td>\n",
       "      <td>0.0</td>\n",
       "      <td>0.0</td>\n",
       "      <td>0.0</td>\n",
       "    </tr>\n",
       "    <tr>\n",
       "      <th>4</th>\n",
       "      <td>0.0</td>\n",
       "      <td>0.0</td>\n",
       "      <td>0.0</td>\n",
       "      <td>1.0</td>\n",
       "      <td>0.0</td>\n",
       "      <td>1.0</td>\n",
       "      <td>0.0</td>\n",
       "      <td>1.0</td>\n",
       "      <td>0.0</td>\n",
       "    </tr>\n",
       "    <tr>\n",
       "      <th>...</th>\n",
       "      <td>...</td>\n",
       "      <td>...</td>\n",
       "      <td>...</td>\n",
       "      <td>...</td>\n",
       "      <td>...</td>\n",
       "      <td>...</td>\n",
       "      <td>...</td>\n",
       "      <td>...</td>\n",
       "      <td>...</td>\n",
       "    </tr>\n",
       "    <tr>\n",
       "      <th>315</th>\n",
       "      <td>0.0</td>\n",
       "      <td>0.0</td>\n",
       "      <td>0.0</td>\n",
       "      <td>0.0</td>\n",
       "      <td>1.0</td>\n",
       "      <td>0.0</td>\n",
       "      <td>0.0</td>\n",
       "      <td>1.0</td>\n",
       "      <td>1.0</td>\n",
       "    </tr>\n",
       "    <tr>\n",
       "      <th>316</th>\n",
       "      <td>1.0</td>\n",
       "      <td>1.0</td>\n",
       "      <td>0.0</td>\n",
       "      <td>0.0</td>\n",
       "      <td>1.0</td>\n",
       "      <td>0.0</td>\n",
       "      <td>0.0</td>\n",
       "      <td>0.0</td>\n",
       "      <td>1.0</td>\n",
       "    </tr>\n",
       "    <tr>\n",
       "      <th>317</th>\n",
       "      <td>1.0</td>\n",
       "      <td>1.0</td>\n",
       "      <td>0.0</td>\n",
       "      <td>0.0</td>\n",
       "      <td>0.0</td>\n",
       "      <td>0.0</td>\n",
       "      <td>0.0</td>\n",
       "      <td>0.0</td>\n",
       "      <td>0.0</td>\n",
       "    </tr>\n",
       "    <tr>\n",
       "      <th>318</th>\n",
       "      <td>1.0</td>\n",
       "      <td>1.0</td>\n",
       "      <td>0.0</td>\n",
       "      <td>0.0</td>\n",
       "      <td>0.0</td>\n",
       "      <td>0.0</td>\n",
       "      <td>0.0</td>\n",
       "      <td>0.0</td>\n",
       "      <td>0.0</td>\n",
       "    </tr>\n",
       "    <tr>\n",
       "      <th>319</th>\n",
       "      <td>1.0</td>\n",
       "      <td>1.0</td>\n",
       "      <td>0.0</td>\n",
       "      <td>0.0</td>\n",
       "      <td>0.0</td>\n",
       "      <td>0.0</td>\n",
       "      <td>0.0</td>\n",
       "      <td>0.0</td>\n",
       "      <td>0.0</td>\n",
       "    </tr>\n",
       "  </tbody>\n",
       "</table>\n",
       "<p>320 rows × 9 columns</p>\n",
       "</div>"
      ],
      "text/plain": [
       "     rbc   pc  pcc   ba  htn   dm  cad   pe  ane\n",
       "0    1.0  1.0  0.0  0.0  0.0  0.0  0.0  0.0  0.0\n",
       "1    1.0  1.0  0.0  0.0  0.0  0.0  0.0  0.0  0.0\n",
       "2    1.0  1.0  0.0  0.0  1.0  1.0  0.0  1.0  0.0\n",
       "3    1.0  0.0  1.0  1.0  0.0  0.0  0.0  0.0  0.0\n",
       "4    0.0  0.0  0.0  1.0  0.0  1.0  0.0  1.0  0.0\n",
       "..   ...  ...  ...  ...  ...  ...  ...  ...  ...\n",
       "315  0.0  0.0  0.0  0.0  1.0  0.0  0.0  1.0  1.0\n",
       "316  1.0  1.0  0.0  0.0  1.0  0.0  0.0  0.0  1.0\n",
       "317  1.0  1.0  0.0  0.0  0.0  0.0  0.0  0.0  0.0\n",
       "318  1.0  1.0  0.0  0.0  0.0  0.0  0.0  0.0  0.0\n",
       "319  1.0  1.0  0.0  0.0  0.0  0.0  0.0  0.0  0.0\n",
       "\n",
       "[320 rows x 9 columns]"
      ]
     },
     "execution_count": 172,
     "metadata": {},
     "output_type": "execute_result"
    }
   ],
   "source": [
    "X_train_cat_encoded"
   ]
  },
  {
   "cell_type": "code",
   "execution_count": 184,
   "id": "9fc6d73c-89bb-4be1-93a0-9aad4aba539b",
   "metadata": {},
   "outputs": [
    {
     "data": {
      "text/html": [
       "<div>\n",
       "<style scoped>\n",
       "    .dataframe tbody tr th:only-of-type {\n",
       "        vertical-align: middle;\n",
       "    }\n",
       "\n",
       "    .dataframe tbody tr th {\n",
       "        vertical-align: top;\n",
       "    }\n",
       "\n",
       "    .dataframe thead th {\n",
       "        text-align: right;\n",
       "    }\n",
       "</style>\n",
       "<table border=\"1\" class=\"dataframe\">\n",
       "  <thead>\n",
       "    <tr style=\"text-align: right;\">\n",
       "      <th></th>\n",
       "      <th>rbc</th>\n",
       "      <th>pc</th>\n",
       "      <th>pcc</th>\n",
       "      <th>ba</th>\n",
       "      <th>htn</th>\n",
       "      <th>dm</th>\n",
       "      <th>cad</th>\n",
       "      <th>pe</th>\n",
       "      <th>ane</th>\n",
       "    </tr>\n",
       "  </thead>\n",
       "  <tbody>\n",
       "    <tr>\n",
       "      <th>0</th>\n",
       "      <td>1.0</td>\n",
       "      <td>1.0</td>\n",
       "      <td>0.0</td>\n",
       "      <td>0.0</td>\n",
       "      <td>0.0</td>\n",
       "      <td>0.0</td>\n",
       "      <td>0.0</td>\n",
       "      <td>0.0</td>\n",
       "      <td>0.0</td>\n",
       "    </tr>\n",
       "    <tr>\n",
       "      <th>1</th>\n",
       "      <td>0.0</td>\n",
       "      <td>1.0</td>\n",
       "      <td>1.0</td>\n",
       "      <td>0.0</td>\n",
       "      <td>1.0</td>\n",
       "      <td>0.0</td>\n",
       "      <td>1.0</td>\n",
       "      <td>0.0</td>\n",
       "      <td>1.0</td>\n",
       "    </tr>\n",
       "    <tr>\n",
       "      <th>2</th>\n",
       "      <td>1.0</td>\n",
       "      <td>1.0</td>\n",
       "      <td>0.0</td>\n",
       "      <td>0.0</td>\n",
       "      <td>0.0</td>\n",
       "      <td>0.0</td>\n",
       "      <td>0.0</td>\n",
       "      <td>0.0</td>\n",
       "      <td>0.0</td>\n",
       "    </tr>\n",
       "    <tr>\n",
       "      <th>3</th>\n",
       "      <td>1.0</td>\n",
       "      <td>1.0</td>\n",
       "      <td>0.0</td>\n",
       "      <td>0.0</td>\n",
       "      <td>0.0</td>\n",
       "      <td>0.0</td>\n",
       "      <td>0.0</td>\n",
       "      <td>0.0</td>\n",
       "      <td>0.0</td>\n",
       "    </tr>\n",
       "    <tr>\n",
       "      <th>4</th>\n",
       "      <td>1.0</td>\n",
       "      <td>0.0</td>\n",
       "      <td>1.0</td>\n",
       "      <td>0.0</td>\n",
       "      <td>1.0</td>\n",
       "      <td>1.0</td>\n",
       "      <td>0.0</td>\n",
       "      <td>0.0</td>\n",
       "      <td>0.0</td>\n",
       "    </tr>\n",
       "    <tr>\n",
       "      <th>...</th>\n",
       "      <td>...</td>\n",
       "      <td>...</td>\n",
       "      <td>...</td>\n",
       "      <td>...</td>\n",
       "      <td>...</td>\n",
       "      <td>...</td>\n",
       "      <td>...</td>\n",
       "      <td>...</td>\n",
       "      <td>...</td>\n",
       "    </tr>\n",
       "    <tr>\n",
       "      <th>75</th>\n",
       "      <td>1.0</td>\n",
       "      <td>1.0</td>\n",
       "      <td>0.0</td>\n",
       "      <td>0.0</td>\n",
       "      <td>0.0</td>\n",
       "      <td>0.0</td>\n",
       "      <td>0.0</td>\n",
       "      <td>1.0</td>\n",
       "      <td>0.0</td>\n",
       "    </tr>\n",
       "    <tr>\n",
       "      <th>76</th>\n",
       "      <td>1.0</td>\n",
       "      <td>1.0</td>\n",
       "      <td>0.0</td>\n",
       "      <td>0.0</td>\n",
       "      <td>0.0</td>\n",
       "      <td>0.0</td>\n",
       "      <td>0.0</td>\n",
       "      <td>0.0</td>\n",
       "      <td>0.0</td>\n",
       "    </tr>\n",
       "    <tr>\n",
       "      <th>77</th>\n",
       "      <td>1.0</td>\n",
       "      <td>0.0</td>\n",
       "      <td>0.0</td>\n",
       "      <td>0.0</td>\n",
       "      <td>0.0</td>\n",
       "      <td>1.0</td>\n",
       "      <td>0.0</td>\n",
       "      <td>1.0</td>\n",
       "      <td>0.0</td>\n",
       "    </tr>\n",
       "    <tr>\n",
       "      <th>78</th>\n",
       "      <td>1.0</td>\n",
       "      <td>1.0</td>\n",
       "      <td>0.0</td>\n",
       "      <td>0.0</td>\n",
       "      <td>0.0</td>\n",
       "      <td>0.0</td>\n",
       "      <td>0.0</td>\n",
       "      <td>0.0</td>\n",
       "      <td>0.0</td>\n",
       "    </tr>\n",
       "    <tr>\n",
       "      <th>79</th>\n",
       "      <td>1.0</td>\n",
       "      <td>1.0</td>\n",
       "      <td>0.0</td>\n",
       "      <td>0.0</td>\n",
       "      <td>1.0</td>\n",
       "      <td>1.0</td>\n",
       "      <td>0.0</td>\n",
       "      <td>1.0</td>\n",
       "      <td>0.0</td>\n",
       "    </tr>\n",
       "  </tbody>\n",
       "</table>\n",
       "<p>80 rows × 9 columns</p>\n",
       "</div>"
      ],
      "text/plain": [
       "    rbc   pc  pcc   ba  htn   dm  cad   pe  ane\n",
       "0   1.0  1.0  0.0  0.0  0.0  0.0  0.0  0.0  0.0\n",
       "1   0.0  1.0  1.0  0.0  1.0  0.0  1.0  0.0  1.0\n",
       "2   1.0  1.0  0.0  0.0  0.0  0.0  0.0  0.0  0.0\n",
       "3   1.0  1.0  0.0  0.0  0.0  0.0  0.0  0.0  0.0\n",
       "4   1.0  0.0  1.0  0.0  1.0  1.0  0.0  0.0  0.0\n",
       "..  ...  ...  ...  ...  ...  ...  ...  ...  ...\n",
       "75  1.0  1.0  0.0  0.0  0.0  0.0  0.0  1.0  0.0\n",
       "76  1.0  1.0  0.0  0.0  0.0  0.0  0.0  0.0  0.0\n",
       "77  1.0  0.0  0.0  0.0  0.0  1.0  0.0  1.0  0.0\n",
       "78  1.0  1.0  0.0  0.0  0.0  0.0  0.0  0.0  0.0\n",
       "79  1.0  1.0  0.0  0.0  1.0  1.0  0.0  1.0  0.0\n",
       "\n",
       "[80 rows x 9 columns]"
      ]
     },
     "execution_count": 184,
     "metadata": {},
     "output_type": "execute_result"
    }
   ],
   "source": [
    "X_test_cat_encoded"
   ]
  },
  {
   "cell_type": "code",
   "execution_count": 185,
   "id": "2ad005f9-195d-421e-83e9-7a6e21178f42",
   "metadata": {},
   "outputs": [],
   "source": [
    "# Encode the ordinal feature using OrdinalEncoder, Same Steps as one hot  Encoder\n",
    "ordinal_cols = ['appet']\n",
    "ordinal_categories = [['poor', 'good']]\n",
    "from sklearn.preprocessing import OrdinalEncoder \n",
    "ordinal_encoder = OrdinalEncoder(categories=ordinal_categories)\n",
    "# transform on X_train\n",
    "X_train_ord_encoded = pd.DataFrame(ordinal_encoder.fit_transform(X_train[ordinal_cols]), columns=ordinal_cols)\n",
    "# only transform on X_test\n",
    "X_test_ord_encoded = pd.DataFrame(ordinal_encoder.transform(X_test[ordinal_cols]), columns=ordinal_cols)"
   ]
  },
  {
   "cell_type": "code",
   "execution_count": 187,
   "id": "1f99e0b3-4dec-4e76-b6eb-2575f5db97c5",
   "metadata": {},
   "outputs": [],
   "source": [
    "\n",
    "# Combine the encoded features into a single DataFrame\n",
    "# X_train\n",
    "X_train_encoded = pd.concat([X_train.drop(columns=categorical_cols+ordinal_cols).reset_index(),\n",
    "                             X_train_cat_encoded,X_train_ord_encoded],axis=1).drop('index',axis=1)\n",
    "# X_test\n",
    "X_test_encoded = pd.concat([X_test.drop(columns=categorical_cols+ordinal_cols).reset_index(),\n",
    "                            X_test_cat_encoded, X_test_ord_encoded], axis=1).drop('index',axis=1)"
   ]
  },
  {
   "cell_type": "code",
   "execution_count": 218,
   "id": "22df56f0-0784-4114-b2f4-7d32d808e68f",
   "metadata": {},
   "outputs": [],
   "source": [
    "from sklearn.preprocessing import LabelEncoder\n",
    "label_encoder = LabelEncoder()\n",
    "label_encoder.fit(y_train)\n",
    "y_train_encoded = label_encoder.transform(y_train)\n",
    "y_test_encoded = label_encoder.transform(y_test)"
   ]
  },
  {
   "cell_type": "code",
   "execution_count": 220,
   "id": "286c595c-716f-4685-9aa6-2a69cfc3ddc4",
   "metadata": {},
   "outputs": [
    {
     "name": "stdout",
     "output_type": "stream",
     "text": [
      "['ckd' 'notckd']\n"
     ]
    }
   ],
   "source": [
    "print(label_encoder.classes_)  #ckd = 0 and notckd = 1"
   ]
  },
  {
   "cell_type": "code",
   "execution_count": 221,
   "id": "111ee37b-afb0-452a-bb9a-af3d6b853c6c",
   "metadata": {},
   "outputs": [],
   "source": [
    "from sklearn.preprocessing import StandardScaler\n",
    "std_scaler = StandardScaler()\n",
    "std_scaler.fit(X_train_encoded)\n",
    "\n",
    "X_train_scaled = pd.DataFrame(std_scaler.transform(X_train_encoded),\n",
    "                              columns=X_train_encoded.columns)\n",
    "\n",
    "X_test_scaled = pd.DataFrame(std_scaler.transform(X_test_encoded),\n",
    "                             columns= X_test_encoded.columns)"
   ]
  },
  {
   "cell_type": "code",
   "execution_count": 222,
   "id": "917d30e7-4b3f-428c-a069-1ba6aed9e53b",
   "metadata": {},
   "outputs": [
    {
     "data": {
      "text/html": [
       "<div>\n",
       "<style scoped>\n",
       "    .dataframe tbody tr th:only-of-type {\n",
       "        vertical-align: middle;\n",
       "    }\n",
       "\n",
       "    .dataframe tbody tr th {\n",
       "        vertical-align: top;\n",
       "    }\n",
       "\n",
       "    .dataframe thead th {\n",
       "        text-align: right;\n",
       "    }\n",
       "</style>\n",
       "<table border=\"1\" class=\"dataframe\">\n",
       "  <thead>\n",
       "    <tr style=\"text-align: right;\">\n",
       "      <th></th>\n",
       "      <th>bp</th>\n",
       "      <th>sg</th>\n",
       "      <th>al</th>\n",
       "      <th>su</th>\n",
       "      <th>bgr</th>\n",
       "      <th>bu</th>\n",
       "      <th>sc</th>\n",
       "      <th>sod</th>\n",
       "      <th>pot</th>\n",
       "      <th>hemo</th>\n",
       "      <th>...</th>\n",
       "      <th>rbc</th>\n",
       "      <th>pc</th>\n",
       "      <th>pcc</th>\n",
       "      <th>ba</th>\n",
       "      <th>htn</th>\n",
       "      <th>dm</th>\n",
       "      <th>cad</th>\n",
       "      <th>pe</th>\n",
       "      <th>ane</th>\n",
       "      <th>appet</th>\n",
       "    </tr>\n",
       "  </thead>\n",
       "  <tbody>\n",
       "    <tr>\n",
       "      <th>0</th>\n",
       "      <td>-0.501755</td>\n",
       "      <td>0.476397</td>\n",
       "      <td>-0.694170</td>\n",
       "      <td>-0.368421</td>\n",
       "      <td>-0.609200</td>\n",
       "      <td>-0.789120</td>\n",
       "      <td>-0.498812</td>\n",
       "      <td>-0.339041</td>\n",
       "      <td>-0.299359</td>\n",
       "      <td>1.274262</td>\n",
       "      <td>...</td>\n",
       "      <td>0.372545</td>\n",
       "      <td>0.490214</td>\n",
       "      <td>-0.339091</td>\n",
       "      <td>-0.265017</td>\n",
       "      <td>-0.743907</td>\n",
       "      <td>-0.698836</td>\n",
       "      <td>-0.297381</td>\n",
       "      <td>-0.485305</td>\n",
       "      <td>-0.430331</td>\n",
       "      <td>0.514609</td>\n",
       "    </tr>\n",
       "    <tr>\n",
       "      <th>1</th>\n",
       "      <td>0.293105</td>\n",
       "      <td>1.413381</td>\n",
       "      <td>-0.694170</td>\n",
       "      <td>-0.368421</td>\n",
       "      <td>-0.112920</td>\n",
       "      <td>-0.977360</td>\n",
       "      <td>-0.545780</td>\n",
       "      <td>1.378115</td>\n",
       "      <td>0.144696</td>\n",
       "      <td>0.729879</td>\n",
       "      <td>...</td>\n",
       "      <td>0.372545</td>\n",
       "      <td>0.490214</td>\n",
       "      <td>-0.339091</td>\n",
       "      <td>-0.265017</td>\n",
       "      <td>-0.743907</td>\n",
       "      <td>-0.698836</td>\n",
       "      <td>-0.297381</td>\n",
       "      <td>-0.485305</td>\n",
       "      <td>-0.430331</td>\n",
       "      <td>0.514609</td>\n",
       "    </tr>\n",
       "    <tr>\n",
       "      <th>2</th>\n",
       "      <td>-0.501755</td>\n",
       "      <td>-0.460587</td>\n",
       "      <td>0.806739</td>\n",
       "      <td>1.736842</td>\n",
       "      <td>0.021209</td>\n",
       "      <td>-0.077989</td>\n",
       "      <td>-0.146554</td>\n",
       "      <td>-0.339041</td>\n",
       "      <td>0.144696</td>\n",
       "      <td>0.076619</td>\n",
       "      <td>...</td>\n",
       "      <td>0.372545</td>\n",
       "      <td>0.490214</td>\n",
       "      <td>-0.339091</td>\n",
       "      <td>-0.265017</td>\n",
       "      <td>1.344254</td>\n",
       "      <td>1.430950</td>\n",
       "      <td>-0.297381</td>\n",
       "      <td>2.060559</td>\n",
       "      <td>-0.430331</td>\n",
       "      <td>-1.943224</td>\n",
       "    </tr>\n",
       "    <tr>\n",
       "      <th>3</th>\n",
       "      <td>1.087965</td>\n",
       "      <td>-0.460587</td>\n",
       "      <td>0.806739</td>\n",
       "      <td>-0.368421</td>\n",
       "      <td>-0.689678</td>\n",
       "      <td>0.486732</td>\n",
       "      <td>0.370091</td>\n",
       "      <td>0.285380</td>\n",
       "      <td>0.427277</td>\n",
       "      <td>-0.431472</td>\n",
       "      <td>...</td>\n",
       "      <td>0.372545</td>\n",
       "      <td>-2.039924</td>\n",
       "      <td>2.949063</td>\n",
       "      <td>3.773340</td>\n",
       "      <td>-0.743907</td>\n",
       "      <td>-0.698836</td>\n",
       "      <td>-0.297381</td>\n",
       "      <td>-0.485305</td>\n",
       "      <td>-0.430331</td>\n",
       "      <td>0.514609</td>\n",
       "    </tr>\n",
       "    <tr>\n",
       "      <th>4</th>\n",
       "      <td>0.293105</td>\n",
       "      <td>-2.334555</td>\n",
       "      <td>2.307648</td>\n",
       "      <td>-0.368421</td>\n",
       "      <td>-0.086094</td>\n",
       "      <td>1.720753</td>\n",
       "      <td>1.332929</td>\n",
       "      <td>-0.807356</td>\n",
       "      <td>0.346540</td>\n",
       "      <td>-0.794394</td>\n",
       "      <td>...</td>\n",
       "      <td>-2.684237</td>\n",
       "      <td>-2.039924</td>\n",
       "      <td>-0.339091</td>\n",
       "      <td>3.773340</td>\n",
       "      <td>-0.743907</td>\n",
       "      <td>1.430950</td>\n",
       "      <td>-0.297381</td>\n",
       "      <td>2.060559</td>\n",
       "      <td>-0.430331</td>\n",
       "      <td>0.514609</td>\n",
       "    </tr>\n",
       "    <tr>\n",
       "      <th>...</th>\n",
       "      <td>...</td>\n",
       "      <td>...</td>\n",
       "      <td>...</td>\n",
       "      <td>...</td>\n",
       "      <td>...</td>\n",
       "      <td>...</td>\n",
       "      <td>...</td>\n",
       "      <td>...</td>\n",
       "      <td>...</td>\n",
       "      <td>...</td>\n",
       "      <td>...</td>\n",
       "      <td>...</td>\n",
       "      <td>...</td>\n",
       "      <td>...</td>\n",
       "      <td>...</td>\n",
       "      <td>...</td>\n",
       "      <td>...</td>\n",
       "      <td>...</td>\n",
       "      <td>...</td>\n",
       "      <td>...</td>\n",
       "      <td>...</td>\n",
       "    </tr>\n",
       "    <tr>\n",
       "      <th>315</th>\n",
       "      <td>1.882825</td>\n",
       "      <td>-0.460587</td>\n",
       "      <td>0.806739</td>\n",
       "      <td>-0.368421</td>\n",
       "      <td>-0.139746</td>\n",
       "      <td>1.051454</td>\n",
       "      <td>0.910220</td>\n",
       "      <td>-0.807356</td>\n",
       "      <td>-0.097516</td>\n",
       "      <td>-2.790466</td>\n",
       "      <td>...</td>\n",
       "      <td>-2.684237</td>\n",
       "      <td>-2.039924</td>\n",
       "      <td>-0.339091</td>\n",
       "      <td>-0.265017</td>\n",
       "      <td>1.344254</td>\n",
       "      <td>-0.698836</td>\n",
       "      <td>-0.297381</td>\n",
       "      <td>2.060559</td>\n",
       "      <td>2.323790</td>\n",
       "      <td>0.514609</td>\n",
       "    </tr>\n",
       "    <tr>\n",
       "      <th>316</th>\n",
       "      <td>-0.501755</td>\n",
       "      <td>-0.009348</td>\n",
       "      <td>-0.694170</td>\n",
       "      <td>-0.368421</td>\n",
       "      <td>-0.542135</td>\n",
       "      <td>3.394002</td>\n",
       "      <td>2.201832</td>\n",
       "      <td>-1.119566</td>\n",
       "      <td>-0.339728</td>\n",
       "      <td>-2.354960</td>\n",
       "      <td>...</td>\n",
       "      <td>0.372545</td>\n",
       "      <td>0.490214</td>\n",
       "      <td>-0.339091</td>\n",
       "      <td>-0.265017</td>\n",
       "      <td>1.344254</td>\n",
       "      <td>-0.698836</td>\n",
       "      <td>-0.297381</td>\n",
       "      <td>-0.485305</td>\n",
       "      <td>2.323790</td>\n",
       "      <td>0.514609</td>\n",
       "    </tr>\n",
       "    <tr>\n",
       "      <th>317</th>\n",
       "      <td>-0.501755</td>\n",
       "      <td>0.476397</td>\n",
       "      <td>-0.694170</td>\n",
       "      <td>-0.368421</td>\n",
       "      <td>-0.112920</td>\n",
       "      <td>-0.579964</td>\n",
       "      <td>-0.522296</td>\n",
       "      <td>1.222010</td>\n",
       "      <td>0.104328</td>\n",
       "      <td>0.013629</td>\n",
       "      <td>...</td>\n",
       "      <td>0.372545</td>\n",
       "      <td>0.490214</td>\n",
       "      <td>-0.339091</td>\n",
       "      <td>-0.265017</td>\n",
       "      <td>-0.743907</td>\n",
       "      <td>-0.698836</td>\n",
       "      <td>-0.297381</td>\n",
       "      <td>-0.485305</td>\n",
       "      <td>-0.430331</td>\n",
       "      <td>0.514609</td>\n",
       "    </tr>\n",
       "    <tr>\n",
       "      <th>318</th>\n",
       "      <td>-0.501755</td>\n",
       "      <td>0.476397</td>\n",
       "      <td>-0.694170</td>\n",
       "      <td>-0.368421</td>\n",
       "      <td>-0.542135</td>\n",
       "      <td>-0.224398</td>\n",
       "      <td>-0.381393</td>\n",
       "      <td>-0.339041</td>\n",
       "      <td>0.144696</td>\n",
       "      <td>-0.358888</td>\n",
       "      <td>...</td>\n",
       "      <td>0.372545</td>\n",
       "      <td>0.490214</td>\n",
       "      <td>-0.339091</td>\n",
       "      <td>-0.265017</td>\n",
       "      <td>-0.743907</td>\n",
       "      <td>-0.698836</td>\n",
       "      <td>-0.297381</td>\n",
       "      <td>-0.485305</td>\n",
       "      <td>-0.430331</td>\n",
       "      <td>0.514609</td>\n",
       "    </tr>\n",
       "    <tr>\n",
       "      <th>319</th>\n",
       "      <td>-0.501755</td>\n",
       "      <td>1.413381</td>\n",
       "      <td>-0.694170</td>\n",
       "      <td>-0.368421</td>\n",
       "      <td>-0.729917</td>\n",
       "      <td>-0.768204</td>\n",
       "      <td>-0.428360</td>\n",
       "      <td>0.753695</td>\n",
       "      <td>0.063959</td>\n",
       "      <td>1.310555</td>\n",
       "      <td>...</td>\n",
       "      <td>0.372545</td>\n",
       "      <td>0.490214</td>\n",
       "      <td>-0.339091</td>\n",
       "      <td>-0.265017</td>\n",
       "      <td>-0.743907</td>\n",
       "      <td>-0.698836</td>\n",
       "      <td>-0.297381</td>\n",
       "      <td>-0.485305</td>\n",
       "      <td>-0.430331</td>\n",
       "      <td>0.514609</td>\n",
       "    </tr>\n",
       "  </tbody>\n",
       "</table>\n",
       "<p>320 rows × 23 columns</p>\n",
       "</div>"
      ],
      "text/plain": [
       "           bp        sg        al        su       bgr        bu        sc  \\\n",
       "0   -0.501755  0.476397 -0.694170 -0.368421 -0.609200 -0.789120 -0.498812   \n",
       "1    0.293105  1.413381 -0.694170 -0.368421 -0.112920 -0.977360 -0.545780   \n",
       "2   -0.501755 -0.460587  0.806739  1.736842  0.021209 -0.077989 -0.146554   \n",
       "3    1.087965 -0.460587  0.806739 -0.368421 -0.689678  0.486732  0.370091   \n",
       "4    0.293105 -2.334555  2.307648 -0.368421 -0.086094  1.720753  1.332929   \n",
       "..        ...       ...       ...       ...       ...       ...       ...   \n",
       "315  1.882825 -0.460587  0.806739 -0.368421 -0.139746  1.051454  0.910220   \n",
       "316 -0.501755 -0.009348 -0.694170 -0.368421 -0.542135  3.394002  2.201832   \n",
       "317 -0.501755  0.476397 -0.694170 -0.368421 -0.112920 -0.579964 -0.522296   \n",
       "318 -0.501755  0.476397 -0.694170 -0.368421 -0.542135 -0.224398 -0.381393   \n",
       "319 -0.501755  1.413381 -0.694170 -0.368421 -0.729917 -0.768204 -0.428360   \n",
       "\n",
       "          sod       pot      hemo  ...       rbc        pc       pcc  \\\n",
       "0   -0.339041 -0.299359  1.274262  ...  0.372545  0.490214 -0.339091   \n",
       "1    1.378115  0.144696  0.729879  ...  0.372545  0.490214 -0.339091   \n",
       "2   -0.339041  0.144696  0.076619  ...  0.372545  0.490214 -0.339091   \n",
       "3    0.285380  0.427277 -0.431472  ...  0.372545 -2.039924  2.949063   \n",
       "4   -0.807356  0.346540 -0.794394  ... -2.684237 -2.039924 -0.339091   \n",
       "..        ...       ...       ...  ...       ...       ...       ...   \n",
       "315 -0.807356 -0.097516 -2.790466  ... -2.684237 -2.039924 -0.339091   \n",
       "316 -1.119566 -0.339728 -2.354960  ...  0.372545  0.490214 -0.339091   \n",
       "317  1.222010  0.104328  0.013629  ...  0.372545  0.490214 -0.339091   \n",
       "318 -0.339041  0.144696 -0.358888  ...  0.372545  0.490214 -0.339091   \n",
       "319  0.753695  0.063959  1.310555  ...  0.372545  0.490214 -0.339091   \n",
       "\n",
       "           ba       htn        dm       cad        pe       ane     appet  \n",
       "0   -0.265017 -0.743907 -0.698836 -0.297381 -0.485305 -0.430331  0.514609  \n",
       "1   -0.265017 -0.743907 -0.698836 -0.297381 -0.485305 -0.430331  0.514609  \n",
       "2   -0.265017  1.344254  1.430950 -0.297381  2.060559 -0.430331 -1.943224  \n",
       "3    3.773340 -0.743907 -0.698836 -0.297381 -0.485305 -0.430331  0.514609  \n",
       "4    3.773340 -0.743907  1.430950 -0.297381  2.060559 -0.430331  0.514609  \n",
       "..        ...       ...       ...       ...       ...       ...       ...  \n",
       "315 -0.265017  1.344254 -0.698836 -0.297381  2.060559  2.323790  0.514609  \n",
       "316 -0.265017  1.344254 -0.698836 -0.297381 -0.485305  2.323790  0.514609  \n",
       "317 -0.265017 -0.743907 -0.698836 -0.297381 -0.485305 -0.430331  0.514609  \n",
       "318 -0.265017 -0.743907 -0.698836 -0.297381 -0.485305 -0.430331  0.514609  \n",
       "319 -0.265017 -0.743907 -0.698836 -0.297381 -0.485305 -0.430331  0.514609  \n",
       "\n",
       "[320 rows x 23 columns]"
      ]
     },
     "execution_count": 222,
     "metadata": {},
     "output_type": "execute_result"
    }
   ],
   "source": [
    "X_train_scaled"
   ]
  },
  {
   "cell_type": "code",
   "execution_count": 223,
   "id": "7f56e216-c9f7-4b07-a2d4-dc5904b4f6a7",
   "metadata": {},
   "outputs": [
    {
     "data": {
      "text/html": [
       "<div>\n",
       "<style scoped>\n",
       "    .dataframe tbody tr th:only-of-type {\n",
       "        vertical-align: middle;\n",
       "    }\n",
       "\n",
       "    .dataframe tbody tr th {\n",
       "        vertical-align: top;\n",
       "    }\n",
       "\n",
       "    .dataframe thead th {\n",
       "        text-align: right;\n",
       "    }\n",
       "</style>\n",
       "<table border=\"1\" class=\"dataframe\">\n",
       "  <thead>\n",
       "    <tr style=\"text-align: right;\">\n",
       "      <th></th>\n",
       "      <th>bp</th>\n",
       "      <th>sg</th>\n",
       "      <th>al</th>\n",
       "      <th>su</th>\n",
       "      <th>bgr</th>\n",
       "      <th>bu</th>\n",
       "      <th>sc</th>\n",
       "      <th>sod</th>\n",
       "      <th>pot</th>\n",
       "      <th>hemo</th>\n",
       "      <th>...</th>\n",
       "      <th>rbc</th>\n",
       "      <th>pc</th>\n",
       "      <th>pcc</th>\n",
       "      <th>ba</th>\n",
       "      <th>htn</th>\n",
       "      <th>dm</th>\n",
       "      <th>cad</th>\n",
       "      <th>pe</th>\n",
       "      <th>ane</th>\n",
       "      <th>appet</th>\n",
       "    </tr>\n",
       "  </thead>\n",
       "  <tbody>\n",
       "    <tr>\n",
       "      <th>0</th>\n",
       "      <td>-1.296615</td>\n",
       "      <td>0.476397</td>\n",
       "      <td>-0.694170</td>\n",
       "      <td>-0.368421</td>\n",
       "      <td>-0.032443</td>\n",
       "      <td>-0.830951</td>\n",
       "      <td>-0.545780</td>\n",
       "      <td>2.002536</td>\n",
       "      <td>-0.460834</td>\n",
       "      <td>0.403249</td>\n",
       "      <td>...</td>\n",
       "      <td>0.372545</td>\n",
       "      <td>0.490214</td>\n",
       "      <td>-0.339091</td>\n",
       "      <td>-0.265017</td>\n",
       "      <td>-0.743907</td>\n",
       "      <td>-0.698836</td>\n",
       "      <td>-0.297381</td>\n",
       "      <td>-0.485305</td>\n",
       "      <td>-0.430331</td>\n",
       "      <td>0.514609</td>\n",
       "    </tr>\n",
       "    <tr>\n",
       "      <th>1</th>\n",
       "      <td>2.677685</td>\n",
       "      <td>-0.460587</td>\n",
       "      <td>1.557193</td>\n",
       "      <td>-0.368421</td>\n",
       "      <td>-0.448244</td>\n",
       "      <td>3.310340</td>\n",
       "      <td>2.906348</td>\n",
       "      <td>-2.680617</td>\n",
       "      <td>0.427277</td>\n",
       "      <td>-1.411362</td>\n",
       "      <td>...</td>\n",
       "      <td>-2.684237</td>\n",
       "      <td>0.490214</td>\n",
       "      <td>2.949063</td>\n",
       "      <td>-0.265017</td>\n",
       "      <td>1.344254</td>\n",
       "      <td>-0.698836</td>\n",
       "      <td>3.362691</td>\n",
       "      <td>-0.485305</td>\n",
       "      <td>2.323790</td>\n",
       "      <td>0.514609</td>\n",
       "    </tr>\n",
       "    <tr>\n",
       "      <th>2</th>\n",
       "      <td>-1.296615</td>\n",
       "      <td>0.476397</td>\n",
       "      <td>-0.694170</td>\n",
       "      <td>-0.368421</td>\n",
       "      <td>-0.072681</td>\n",
       "      <td>-0.245314</td>\n",
       "      <td>-0.545780</td>\n",
       "      <td>0.285380</td>\n",
       "      <td>0.063959</td>\n",
       "      <td>0.621002</td>\n",
       "      <td>...</td>\n",
       "      <td>0.372545</td>\n",
       "      <td>0.490214</td>\n",
       "      <td>-0.339091</td>\n",
       "      <td>-0.265017</td>\n",
       "      <td>-0.743907</td>\n",
       "      <td>-0.698836</td>\n",
       "      <td>-0.297381</td>\n",
       "      <td>-0.485305</td>\n",
       "      <td>-0.430331</td>\n",
       "      <td>0.514609</td>\n",
       "    </tr>\n",
       "    <tr>\n",
       "      <th>3</th>\n",
       "      <td>-0.501755</td>\n",
       "      <td>1.413381</td>\n",
       "      <td>-0.694170</td>\n",
       "      <td>-0.368421</td>\n",
       "      <td>-0.206811</td>\n",
       "      <td>-0.726373</td>\n",
       "      <td>-0.522296</td>\n",
       "      <td>-0.026831</td>\n",
       "      <td>-0.339728</td>\n",
       "      <td>0.330665</td>\n",
       "      <td>...</td>\n",
       "      <td>0.372545</td>\n",
       "      <td>0.490214</td>\n",
       "      <td>-0.339091</td>\n",
       "      <td>-0.265017</td>\n",
       "      <td>-0.743907</td>\n",
       "      <td>-0.698836</td>\n",
       "      <td>-0.297381</td>\n",
       "      <td>-0.485305</td>\n",
       "      <td>-0.430331</td>\n",
       "      <td>0.514609</td>\n",
       "    </tr>\n",
       "    <tr>\n",
       "      <th>4</th>\n",
       "      <td>1.882825</td>\n",
       "      <td>-2.334555</td>\n",
       "      <td>0.056284</td>\n",
       "      <td>-0.368421</td>\n",
       "      <td>0.396772</td>\n",
       "      <td>-0.203483</td>\n",
       "      <td>0.017833</td>\n",
       "      <td>-0.339041</td>\n",
       "      <td>0.144696</td>\n",
       "      <td>-0.504056</td>\n",
       "      <td>...</td>\n",
       "      <td>0.372545</td>\n",
       "      <td>-2.039924</td>\n",
       "      <td>2.949063</td>\n",
       "      <td>-0.265017</td>\n",
       "      <td>1.344254</td>\n",
       "      <td>1.430950</td>\n",
       "      <td>-0.297381</td>\n",
       "      <td>-0.485305</td>\n",
       "      <td>-0.430331</td>\n",
       "      <td>-1.943224</td>\n",
       "    </tr>\n",
       "    <tr>\n",
       "      <th>...</th>\n",
       "      <td>...</td>\n",
       "      <td>...</td>\n",
       "      <td>...</td>\n",
       "      <td>...</td>\n",
       "      <td>...</td>\n",
       "      <td>...</td>\n",
       "      <td>...</td>\n",
       "      <td>...</td>\n",
       "      <td>...</td>\n",
       "      <td>...</td>\n",
       "      <td>...</td>\n",
       "      <td>...</td>\n",
       "      <td>...</td>\n",
       "      <td>...</td>\n",
       "      <td>...</td>\n",
       "      <td>...</td>\n",
       "      <td>...</td>\n",
       "      <td>...</td>\n",
       "      <td>...</td>\n",
       "      <td>...</td>\n",
       "      <td>...</td>\n",
       "    </tr>\n",
       "    <tr>\n",
       "      <th>75</th>\n",
       "      <td>-1.296615</td>\n",
       "      <td>0.476397</td>\n",
       "      <td>-0.694170</td>\n",
       "      <td>-0.368421</td>\n",
       "      <td>-0.300702</td>\n",
       "      <td>-0.600879</td>\n",
       "      <td>-0.146554</td>\n",
       "      <td>0.129275</td>\n",
       "      <td>-0.339728</td>\n",
       "      <td>0.013629</td>\n",
       "      <td>...</td>\n",
       "      <td>0.372545</td>\n",
       "      <td>0.490214</td>\n",
       "      <td>-0.339091</td>\n",
       "      <td>-0.265017</td>\n",
       "      <td>-0.743907</td>\n",
       "      <td>-0.698836</td>\n",
       "      <td>-0.297381</td>\n",
       "      <td>2.060559</td>\n",
       "      <td>-0.430331</td>\n",
       "      <td>0.514609</td>\n",
       "    </tr>\n",
       "    <tr>\n",
       "      <th>76</th>\n",
       "      <td>0.293105</td>\n",
       "      <td>0.476397</td>\n",
       "      <td>-0.694170</td>\n",
       "      <td>-0.368421</td>\n",
       "      <td>-0.528722</td>\n",
       "      <td>-0.642711</td>\n",
       "      <td>-0.522296</td>\n",
       "      <td>-0.026831</td>\n",
       "      <td>-0.097516</td>\n",
       "      <td>1.201678</td>\n",
       "      <td>...</td>\n",
       "      <td>0.372545</td>\n",
       "      <td>0.490214</td>\n",
       "      <td>-0.339091</td>\n",
       "      <td>-0.265017</td>\n",
       "      <td>-0.743907</td>\n",
       "      <td>-0.698836</td>\n",
       "      <td>-0.297381</td>\n",
       "      <td>-0.485305</td>\n",
       "      <td>-0.430331</td>\n",
       "      <td>0.514609</td>\n",
       "    </tr>\n",
       "    <tr>\n",
       "      <th>77</th>\n",
       "      <td>0.293105</td>\n",
       "      <td>-0.460587</td>\n",
       "      <td>0.806739</td>\n",
       "      <td>3.842105</td>\n",
       "      <td>3.629295</td>\n",
       "      <td>-0.538132</td>\n",
       "      <td>-0.404876</td>\n",
       "      <td>-0.339041</td>\n",
       "      <td>0.144696</td>\n",
       "      <td>-0.032258</td>\n",
       "      <td>...</td>\n",
       "      <td>0.372545</td>\n",
       "      <td>-2.039924</td>\n",
       "      <td>-0.339091</td>\n",
       "      <td>-0.265017</td>\n",
       "      <td>-0.743907</td>\n",
       "      <td>1.430950</td>\n",
       "      <td>-0.297381</td>\n",
       "      <td>2.060559</td>\n",
       "      <td>-0.430331</td>\n",
       "      <td>0.514609</td>\n",
       "    </tr>\n",
       "    <tr>\n",
       "      <th>78</th>\n",
       "      <td>-0.501755</td>\n",
       "      <td>0.476397</td>\n",
       "      <td>-0.694170</td>\n",
       "      <td>-0.368421</td>\n",
       "      <td>-0.568961</td>\n",
       "      <td>-0.621795</td>\n",
       "      <td>-0.498812</td>\n",
       "      <td>1.222010</td>\n",
       "      <td>0.063959</td>\n",
       "      <td>0.475834</td>\n",
       "      <td>...</td>\n",
       "      <td>0.372545</td>\n",
       "      <td>0.490214</td>\n",
       "      <td>-0.339091</td>\n",
       "      <td>-0.265017</td>\n",
       "      <td>-0.743907</td>\n",
       "      <td>-0.698836</td>\n",
       "      <td>-0.297381</td>\n",
       "      <td>-0.485305</td>\n",
       "      <td>-0.430331</td>\n",
       "      <td>0.514609</td>\n",
       "    </tr>\n",
       "    <tr>\n",
       "      <th>79</th>\n",
       "      <td>-0.501755</td>\n",
       "      <td>-1.397571</td>\n",
       "      <td>0.056284</td>\n",
       "      <td>-0.368421</td>\n",
       "      <td>-0.501896</td>\n",
       "      <td>-0.182567</td>\n",
       "      <td>0.088285</td>\n",
       "      <td>-0.026831</td>\n",
       "      <td>0.144696</td>\n",
       "      <td>-0.213719</td>\n",
       "      <td>...</td>\n",
       "      <td>0.372545</td>\n",
       "      <td>0.490214</td>\n",
       "      <td>-0.339091</td>\n",
       "      <td>-0.265017</td>\n",
       "      <td>1.344254</td>\n",
       "      <td>1.430950</td>\n",
       "      <td>-0.297381</td>\n",
       "      <td>2.060559</td>\n",
       "      <td>-0.430331</td>\n",
       "      <td>0.514609</td>\n",
       "    </tr>\n",
       "  </tbody>\n",
       "</table>\n",
       "<p>80 rows × 23 columns</p>\n",
       "</div>"
      ],
      "text/plain": [
       "          bp        sg        al        su       bgr        bu        sc  \\\n",
       "0  -1.296615  0.476397 -0.694170 -0.368421 -0.032443 -0.830951 -0.545780   \n",
       "1   2.677685 -0.460587  1.557193 -0.368421 -0.448244  3.310340  2.906348   \n",
       "2  -1.296615  0.476397 -0.694170 -0.368421 -0.072681 -0.245314 -0.545780   \n",
       "3  -0.501755  1.413381 -0.694170 -0.368421 -0.206811 -0.726373 -0.522296   \n",
       "4   1.882825 -2.334555  0.056284 -0.368421  0.396772 -0.203483  0.017833   \n",
       "..       ...       ...       ...       ...       ...       ...       ...   \n",
       "75 -1.296615  0.476397 -0.694170 -0.368421 -0.300702 -0.600879 -0.146554   \n",
       "76  0.293105  0.476397 -0.694170 -0.368421 -0.528722 -0.642711 -0.522296   \n",
       "77  0.293105 -0.460587  0.806739  3.842105  3.629295 -0.538132 -0.404876   \n",
       "78 -0.501755  0.476397 -0.694170 -0.368421 -0.568961 -0.621795 -0.498812   \n",
       "79 -0.501755 -1.397571  0.056284 -0.368421 -0.501896 -0.182567  0.088285   \n",
       "\n",
       "         sod       pot      hemo  ...       rbc        pc       pcc        ba  \\\n",
       "0   2.002536 -0.460834  0.403249  ...  0.372545  0.490214 -0.339091 -0.265017   \n",
       "1  -2.680617  0.427277 -1.411362  ... -2.684237  0.490214  2.949063 -0.265017   \n",
       "2   0.285380  0.063959  0.621002  ...  0.372545  0.490214 -0.339091 -0.265017   \n",
       "3  -0.026831 -0.339728  0.330665  ...  0.372545  0.490214 -0.339091 -0.265017   \n",
       "4  -0.339041  0.144696 -0.504056  ...  0.372545 -2.039924  2.949063 -0.265017   \n",
       "..       ...       ...       ...  ...       ...       ...       ...       ...   \n",
       "75  0.129275 -0.339728  0.013629  ...  0.372545  0.490214 -0.339091 -0.265017   \n",
       "76 -0.026831 -0.097516  1.201678  ...  0.372545  0.490214 -0.339091 -0.265017   \n",
       "77 -0.339041  0.144696 -0.032258  ...  0.372545 -2.039924 -0.339091 -0.265017   \n",
       "78  1.222010  0.063959  0.475834  ...  0.372545  0.490214 -0.339091 -0.265017   \n",
       "79 -0.026831  0.144696 -0.213719  ...  0.372545  0.490214 -0.339091 -0.265017   \n",
       "\n",
       "         htn        dm       cad        pe       ane     appet  \n",
       "0  -0.743907 -0.698836 -0.297381 -0.485305 -0.430331  0.514609  \n",
       "1   1.344254 -0.698836  3.362691 -0.485305  2.323790  0.514609  \n",
       "2  -0.743907 -0.698836 -0.297381 -0.485305 -0.430331  0.514609  \n",
       "3  -0.743907 -0.698836 -0.297381 -0.485305 -0.430331  0.514609  \n",
       "4   1.344254  1.430950 -0.297381 -0.485305 -0.430331 -1.943224  \n",
       "..       ...       ...       ...       ...       ...       ...  \n",
       "75 -0.743907 -0.698836 -0.297381  2.060559 -0.430331  0.514609  \n",
       "76 -0.743907 -0.698836 -0.297381 -0.485305 -0.430331  0.514609  \n",
       "77 -0.743907  1.430950 -0.297381  2.060559 -0.430331  0.514609  \n",
       "78 -0.743907 -0.698836 -0.297381 -0.485305 -0.430331  0.514609  \n",
       "79  1.344254  1.430950 -0.297381  2.060559 -0.430331  0.514609  \n",
       "\n",
       "[80 rows x 23 columns]"
      ]
     },
     "execution_count": 223,
     "metadata": {},
     "output_type": "execute_result"
    }
   ],
   "source": [
    "X_test_scaled"
   ]
  },
  {
   "cell_type": "code",
   "execution_count": 224,
   "id": "229d24c8-2555-460a-9b01-cd6c130c7359",
   "metadata": {},
   "outputs": [],
   "source": [
    "from sklearn.linear_model import LogisticRegression\n",
    "from sklearn.metrics import confusion_matrix, accuracy_score\n",
    "# Logistic on standard scaled \n",
    "lg_std = LogisticRegression()\n",
    "lg_std.fit(X_train_scaled, y_train_encoded) #Fitting Model\n",
    "y_pred_lg_std  = lg_std.predict(X_test_scaled) #Predicting\n",
    "lg_std_cm = confusion_matrix(y_test_encoded, y_pred_lg_std)\n",
    "lg_std_accuracy = accuracy_score(y_test_encoded, y_pred_lg_std)"
   ]
  },
  {
   "cell_type": "code",
   "execution_count": 225,
   "id": "83a52d10-c8d8-4616-a72f-fbce229d1941",
   "metadata": {},
   "outputs": [
    {
     "name": "stdout",
     "output_type": "stream",
     "text": [
      "Logistic Regression with Standard scaler: \n",
      "[[47  0]\n",
      " [ 0 33]]\n",
      "accuracy score for standard scaled logistic regression :  1.0\n",
      "--------\n"
     ]
    }
   ],
   "source": [
    "# for standard sclaed data\n",
    "print('Logistic Regression with Standard scaler: ')\n",
    "print(lg_std_cm)\n",
    "print('accuracy score for standard scaled logistic regression : ', lg_std_accuracy)\n",
    "print('--------')  "
   ]
  },
  {
   "cell_type": "code",
   "execution_count": 226,
   "id": "2c9dc3af-e504-4cfa-9bc4-3f3c5c9322c0",
   "metadata": {},
   "outputs": [
    {
     "data": {
      "text/plain": [
       "array([1, 0, 1, 1, 0, 0, 0, 0, 0, 0, 0, 0, 0, 0, 1, 1, 0, 1, 0, 0, 1, 0,\n",
       "       1, 0, 0, 0, 1, 1, 0, 0, 1, 1, 0, 0, 0, 1, 0, 0, 0, 1, 0, 1, 0, 0,\n",
       "       0, 0, 1, 1, 1, 1, 1, 0, 0, 0, 0, 1, 0, 0, 1, 1, 1, 1, 0, 1, 0, 0,\n",
       "       1, 1, 1, 0, 1, 1, 0, 0, 0, 0, 1, 0, 1, 0])"
      ]
     },
     "execution_count": 226,
     "metadata": {},
     "output_type": "execute_result"
    }
   ],
   "source": [
    "lg_std.predict(X_test_scaled) #Predicting, 0= ckd, 1 = notckd"
   ]
  },
  {
   "cell_type": "code",
   "execution_count": 228,
   "id": "5e2a28cc-4397-4a17-bf1c-5c7b204ea90e",
   "metadata": {},
   "outputs": [
    {
     "data": {
      "text/plain": [
       "array([1, 0, 1, 1, 0, 0, 0, 0, 0, 0, 0, 0, 0, 0, 1, 1, 0, 1, 0, 0, 1, 0,\n",
       "       1, 0, 0, 0, 1, 1, 0, 0, 1, 1, 0, 0, 0, 1, 0, 0, 0, 1, 0, 1, 0, 0,\n",
       "       0, 0, 1, 1, 1, 1, 1, 0, 0, 0, 0, 1, 0, 0, 1, 1, 1, 1, 0, 1, 0, 0,\n",
       "       1, 1, 1, 0, 1, 1, 0, 0, 0, 0, 1, 0, 1, 0])"
      ]
     },
     "execution_count": 228,
     "metadata": {},
     "output_type": "execute_result"
    }
   ],
   "source": [
    "y_test_encoded"
   ]
  },
  {
   "cell_type": "code",
   "execution_count": null,
   "id": "04500937-7ba8-4675-a738-65dc39049d42",
   "metadata": {},
   "outputs": [],
   "source": []
  }
 ],
 "metadata": {
  "kernelspec": {
   "display_name": "Python 3 (ipykernel)",
   "language": "python",
   "name": "python3"
  },
  "language_info": {
   "codemirror_mode": {
    "name": "ipython",
    "version": 3
   },
   "file_extension": ".py",
   "mimetype": "text/x-python",
   "name": "python",
   "nbconvert_exporter": "python",
   "pygments_lexer": "ipython3",
   "version": "3.11.5"
  }
 },
 "nbformat": 4,
 "nbformat_minor": 5
}
